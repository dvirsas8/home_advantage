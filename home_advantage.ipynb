{
 "cells": [
  {
   "cell_type": "markdown",
   "source": [
    "To show that home advantage exists in the NBA, we'll check the home win percentage, point average at home and away and it's variance since 2004."
   ],
   "metadata": {
    "collapsed": false
   },
   "id": "514a4840d582e97"
  },
  {
   "cell_type": "code",
   "execution_count": 2,
   "id": "initial_id",
   "metadata": {
    "collapsed": true,
    "ExecuteTime": {
     "end_time": "2024-01-09T09:30:21.858982Z",
     "start_time": "2024-01-09T09:30:12.665055400Z"
    }
   },
   "outputs": [
    {
     "name": "stdout",
     "output_type": "stream",
     "text": [
      "Home win percentage since 2004: 58.703%\n",
      "Home points average: 103.456, var: 176.448\n",
      "Away points average: 100.64, var: 180.523\n"
     ]
    }
   ],
   "source": [
    "from utils import *\n",
    "\n",
    "win_percentage = (len(games_df[games_df['HOME_TEAM_WINS'] == 1]) * 100 / len(games_df)).__round__(3)\n",
    "home_points_avg = games_df['PTS_home'].mean()\n",
    "home_points_var = games_df['PTS_home'].var()\n",
    "away_points_avg = games_df['PTS_away'].mean()\n",
    "away_points_var = games_df['PTS_away'].var()\n",
    "print(f\"Home win percentage since 2004: {win_percentage}%\")\n",
    "print(f\"Home points average: {home_points_avg.__round__(3)}, var: {home_points_var.__round__(3)}\")\n",
    "print(f\"Away points average: {away_points_avg.__round__(3)}, var: {away_points_var.__round__(3)}\")"
   ]
  },
  {
   "cell_type": "markdown",
   "source": [
    "During the 2020-2021 season, most games were capped at 10% capacity at most due to covid. Let's see the home wins percentage for this period."
   ],
   "metadata": {
    "collapsed": false
   },
   "id": "6fd9beb36153f464"
  },
  {
   "cell_type": "code",
   "outputs": [
    {
     "name": "stdout",
     "output_type": "stream",
     "text": [
      "Home win percentage during Covid: 53.222%\n",
      "Home points average: 112.232, var: 159.923\n",
      "Away points average: 111.233, var: 153.487\n"
     ]
    }
   ],
   "source": [
    "games_df['GAME_DATE_EST'] = pd.to_datetime(games_df['GAME_DATE_EST'], format='mixed', dayfirst=True)\n",
    "start_date = '2020-07-22'\n",
    "end_date = '2021-02-27'\n",
    "\n",
    "mask = (games_df['GAME_DATE_EST'] >= start_date) & (games_df['GAME_DATE_EST'] <= end_date)\n",
    "covid_df = games_df[mask]\n",
    "win_percentage_covid = (len(covid_df[covid_df['HOME_TEAM_WINS'] == 1]) * 100 / len(covid_df)).__round__(3)\n",
    "home_points_avg_covid = covid_df['PTS_home'].mean()\n",
    "home_points_var_covid = covid_df['PTS_home'].var()\n",
    "away_points_avg_covid = covid_df['PTS_away'].mean()\n",
    "away_points_var_covid = covid_df['PTS_away'].var()\n",
    "print(f\"Home win percentage during Covid: {win_percentage_covid}%\")\n",
    "print(f\"Home points average: {home_points_avg_covid.__round__(3)}, var: {home_points_var_covid.__round__(3)}\")\n",
    "print(f\"Away points average: {away_points_avg_covid.__round__(3)}, var: {away_points_var_covid.__round__(3)}\")"
   ],
   "metadata": {
    "collapsed": false,
    "ExecuteTime": {
     "end_time": "2024-01-09T09:30:21.943631600Z",
     "start_time": "2024-01-09T09:30:21.860203700Z"
    }
   },
   "id": "455bf5bc7b70f933",
   "execution_count": 3
  },
  {
   "cell_type": "markdown",
   "source": [
    "We see a significant decrease, about 5%. \n",
    "Let's check players' home and away FT%."
   ],
   "metadata": {
    "collapsed": false
   },
   "id": "44b46547b18b8044"
  },
  {
   "cell_type": "code",
   "outputs": [
    {
     "name": "stdout",
     "output_type": "stream",
     "text": [
      "Home FT% in 2015: 75.875%\n",
      "Away FT% in 2015: 75.335%\n",
      "Home FT% in 2016: 77.118%\n",
      "Away FT% in 2016: 77.311%\n",
      "Home FT% in 2017: 76.713%\n",
      "Away FT% in 2017: 76.646%\n",
      "Home FT% in 2018: 76.81%\n",
      "Away FT% in 2018: 76.687%\n",
      "Home FT% in 2019: 77.458%\n",
      "Away FT% in 2019: 77.353%\n",
      "Home FT% in 2020: 75.695%\n",
      "Away FT% in 2020: 76.704%\n"
     ]
    }
   ],
   "source": [
    "years_dict = {2015: pbp_2015, 2016: pbp_2016, 2017: pbp_2017, 2018: pbp_2018, 2019: pbp_2019, 2020: pbp_2020}\n",
    "for year, pbp_year in years_dict.items():\n",
    "    mask_home = pbp_year['HomePlay'].notna()\n",
    "    home_plays = pbp_year[mask_home]\n",
    "\n",
    "    mask_ft_home = home_plays['FreeThrowOutcome'].notna()\n",
    "    home_fts = home_plays[mask_ft_home]\n",
    "\n",
    "    home_ft_percentage = len(home_fts[home_fts['FreeThrowOutcome'] == 'make']) * 100 / len(home_fts)\n",
    "    print(f\"Home FT% in {year}: {home_ft_percentage.__round__(3)}%\")\n",
    "\n",
    "    mask_away = pbp_year['AwayPlay'].notna()\n",
    "    away_plays = pbp_year[mask_away]\n",
    "\n",
    "    mask_ft_away = away_plays['FreeThrowOutcome'].notna()\n",
    "    away_fts = away_plays[mask_ft_away]\n",
    "\n",
    "    away_ft_percentage = len(away_fts[away_fts['FreeThrowOutcome'] == 'make']) * 100 / len(away_fts)\n",
    "    print(f\"Away FT% in {year}: {away_ft_percentage.__round__(3)}%\")\n"
   ],
   "metadata": {
    "collapsed": false,
    "ExecuteTime": {
     "end_time": "2024-01-09T09:30:23.379250500Z",
     "start_time": "2024-01-09T09:30:21.889734600Z"
    }
   },
   "id": "14df7be8fb3e33f4",
   "execution_count": 4
  },
  {
   "cell_type": "markdown",
   "source": [
    "We see no significant difference in FT% between home and away teams. This could imply that home advantage may be influenced by referees/coaches more than players.\n",
    "Let's check the difference in FG%."
   ],
   "metadata": {
    "collapsed": false
   },
   "id": "1ecac2284a6d1ad5"
  },
  {
   "cell_type": "code",
   "outputs": [
    {
     "name": "stdout",
     "output_type": "stream",
     "text": [
      "Home FG% in 2015: 45.7%\n",
      "Away FG% in 2015: 44.585%\n",
      "Home FG% in 2016: 46.362%\n",
      "Away FG% in 2016: 45.157%\n",
      "Home FG% in 2017: 46.505%\n",
      "Away FG% in 2017: 45.503%\n",
      "Home FG% in 2018: 46.454%\n",
      "Away FG% in 2018: 45.425%\n",
      "Home FG% in 2019: 46.395%\n",
      "Away FG% in 2019: 45.581%\n",
      "Home FG% in 2020: 45.99%\n",
      "Away FG% in 2020: 46.026%\n"
     ]
    }
   ],
   "source": [
    "for year, pbp_year in years_dict.items():\n",
    "    mask_home = pbp_year['HomePlay'].notna()\n",
    "    home_plays = pbp_year[mask_home]\n",
    "\n",
    "    mask_fg_home = home_plays['ShotOutcome'].notna()\n",
    "    home_fgs = home_plays[mask_fg_home]\n",
    "\n",
    "    home_fg_percentage = len(home_fgs[home_fgs['ShotOutcome'] == 'make']) * 100 / len(home_fgs)\n",
    "    print(f\"Home FG% in {year}: {home_fg_percentage.__round__(3)}%\")\n",
    "\n",
    "    mask_away = pbp_year['AwayPlay'].notna()\n",
    "    away_plays = pbp_year[mask_away]\n",
    "\n",
    "    mask_fg_away = away_plays['ShotOutcome'].notna()\n",
    "    away_fgs = away_plays[mask_fg_away]\n",
    "\n",
    "    away_fg_percentage = len(away_fgs[away_fgs['ShotOutcome'] == 'make']) * 100 / len(away_fgs)\n",
    "    print(f\"Away FG% in {year}: {away_fg_percentage.__round__(3)}%\")"
   ],
   "metadata": {
    "collapsed": false,
    "ExecuteTime": {
     "end_time": "2024-01-09T09:30:25.189386500Z",
     "start_time": "2024-01-09T09:30:23.378015600Z"
    }
   },
   "id": "68ca14a4a68a6ff0",
   "execution_count": 5
  },
  {
   "cell_type": "markdown",
   "source": [
    "Next, I'd like to check the number of FGA and FTA for home and away teams. More FTAs for the home team could imply crowd influence over the referee."
   ],
   "metadata": {
    "collapsed": false
   },
   "id": "58138c1f893d6652"
  },
  {
   "cell_type": "code",
   "outputs": [
    {
     "name": "stdout",
     "output_type": "stream",
     "text": [
      "Home FTs average in a game in 2015: 25.585\n",
      "Away FTs average in a game in 2015: 24.432\n",
      "Home FTs average in a game in 2016: 25.194\n",
      "Away FTs average in a game in 2016: 24.09\n",
      "Home FTs average in a game in 2017: 23.468\n",
      "Away FTs average in a game in 2017: 22.885\n",
      "Home FTs average in a game in 2018: 25.063\n",
      "Away FTs average in a game in 2018: 24.328\n",
      "Home FTs average in a game in 2019: 21.813\n",
      "Away FTs average in a game in 2019: 21.252\n"
     ]
    }
   ],
   "source": [
    "for year, pbp_year in years_dict.items():\n",
    "    if year == 2020:\n",
    "        continue\n",
    "    mask_home = pbp_year['HomePlay'].notna()\n",
    "    home_plays = pbp_year[mask_home]\n",
    "\n",
    "    mask_ft_home = home_plays['FreeThrowOutcome'].notna()\n",
    "    home_fts = home_plays[mask_ft_home]\n",
    "\n",
    "    print(f\"Home FTs average in a game in {year}: {(len(home_fts) / 1230).__round__(3)}\")\n",
    "    mask_away = pbp_year['AwayPlay'].notna()\n",
    "    away_plays = pbp_year[mask_away]\n",
    "\n",
    "    mask_ft_away = away_plays['FreeThrowOutcome'].notna()\n",
    "    away_fts = away_plays[mask_ft_away]\n",
    "\n",
    "    print(f\"Away FTs average in a game in {year}: {(len(away_fts) / 1230).__round__(3)}\")"
   ],
   "metadata": {
    "collapsed": false,
    "ExecuteTime": {
     "end_time": "2024-01-09T09:30:45.763717300Z",
     "start_time": "2024-01-09T09:30:44.489334100Z"
    }
   },
   "id": "ade4351e70ba7cc8",
   "execution_count": 9
  },
  {
   "cell_type": "code",
   "outputs": [
    {
     "name": "stdout",
     "output_type": "stream",
     "text": [
      "Home FGs average in a game in 2015: 90.402\n",
      "Away FGs average in a game in 2015: 90.32\n",
      "Home FGs average in a game in 2016: 90.628\n",
      "Away FGs average in a game in 2016: 90.849\n",
      "Home FGs average in a game in 2017: 91.712\n",
      "Away FGs average in a game in 2017: 91.595\n",
      "Home FGs average in a game in 2018: 94.999\n",
      "Away FGs average in a game in 2018: 94.885\n",
      "Home FGs average in a game in 2019: 82.266\n",
      "Away FGs average in a game in 2019: 82.285\n"
     ]
    }
   ],
   "source": [
    "for year, pbp_year in years_dict.items():\n",
    "    if year == 2020:\n",
    "        continue\n",
    "    mask_home = pbp_year['HomePlay'].notna()\n",
    "    home_plays = pbp_year[mask_home]\n",
    "\n",
    "    mask_fg_home = home_plays['ShotOutcome'].notna()\n",
    "    home_fgs = home_plays[mask_fg_home]\n",
    "\n",
    "    print(f\"Home FGs average in a game in {year}: {(len(home_fgs) / 1230).__round__(3)}\")\n",
    "    mask_away = pbp_year['AwayPlay'].notna()\n",
    "    away_plays = pbp_year[mask_away]\n",
    "\n",
    "    mask_fg_away = away_plays['ShotOutcome'].notna()\n",
    "    away_fgs = away_plays[mask_fg_away]\n",
    "\n",
    "    print(f\"Away FGs average in a game in {year}: {(len(away_fgs) / 1230).__round__(3)}\")"
   ],
   "metadata": {
    "collapsed": false,
    "ExecuteTime": {
     "end_time": "2024-01-09T09:30:27.979192400Z",
     "start_time": "2024-01-09T09:30:26.435802800Z"
    }
   },
   "id": "c284114e840cba54",
   "execution_count": 7
  }
 ],
 "metadata": {
  "kernelspec": {
   "display_name": "Python 3",
   "language": "python",
   "name": "python3"
  },
  "language_info": {
   "codemirror_mode": {
    "name": "ipython",
    "version": 2
   },
   "file_extension": ".py",
   "mimetype": "text/x-python",
   "name": "python",
   "nbconvert_exporter": "python",
   "pygments_lexer": "ipython2",
   "version": "2.7.6"
  }
 },
 "nbformat": 4,
 "nbformat_minor": 5
}
