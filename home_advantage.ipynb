{
 "cells": [
  {
   "cell_type": "markdown",
   "source": [
    "To show that home advantage exists in the NBA, we'll check the home win percentage, point average at home and away and it's variance since 2004."
   ],
   "metadata": {
    "collapsed": false
   },
   "id": "514a4840d582e97"
  },
  {
   "cell_type": "code",
   "execution_count": 1,
   "id": "initial_id",
   "metadata": {
    "collapsed": true,
    "ExecuteTime": {
     "end_time": "2024-01-21T10:52:30.845780400Z",
     "start_time": "2024-01-21T10:52:19.284418Z"
    }
   },
   "outputs": [
    {
     "name": "stdout",
     "output_type": "stream",
     "text": [
      "Home win percentage since 2004: 58.703%\n",
      "Home points average: 103.456, var: 176.448\n",
      "Away points average: 100.64, var: 180.523\n"
     ]
    }
   ],
   "source": [
    "from utils import *\n",
    "win_percentage = (len(games_df[games_df['HOME_TEAM_WINS'] == 1]) * 100 / len(games_df)).__round__(3)\n",
    "home_points_avg = games_df['PTS_home'].mean()\n",
    "home_points_var = games_df['PTS_home'].var()\n",
    "away_points_avg = games_df['PTS_away'].mean()\n",
    "away_points_var = games_df['PTS_away'].var()\n",
    "print(f\"Home win percentage since 2004: {win_percentage}%\")\n",
    "print(f\"Home points average: {home_points_avg.__round__(3)}, var: {home_points_var.__round__(3)}\")\n",
    "print(f\"Away points average: {away_points_avg.__round__(3)}, var: {away_points_var.__round__(3)}\")"
   ]
  },
  {
   "cell_type": "markdown",
   "source": [
    "During the 2020-2021 season, most games were capped at 10% capacity at most due to covid. Let's see the home wins percentage for this period."
   ],
   "metadata": {
    "collapsed": false
   },
   "id": "6fd9beb36153f464"
  },
  {
   "cell_type": "code",
   "outputs": [
    {
     "name": "stdout",
     "output_type": "stream",
     "text": [
      "Home win percentage during Covid: 53.222%\n",
      "Home points average: 112.232, var: 159.923\n",
      "Away points average: 111.233, var: 153.487\n"
     ]
    }
   ],
   "source": [
    "games_df['GAME_DATE_EST'] = pd.to_datetime(games_df['GAME_DATE_EST'], format='mixed', dayfirst=True)\n",
    "start_date = '2020-07-22'\n",
    "end_date = '2021-02-27'\n",
    "\n",
    "mask = (games_df['GAME_DATE_EST'] >= start_date) & (games_df['GAME_DATE_EST'] <= end_date)\n",
    "covid_df = games_df[mask]\n",
    "win_percentage_covid = (len(covid_df[covid_df['HOME_TEAM_WINS'] == 1]) * 100 / len(covid_df)).__round__(3)\n",
    "home_points_avg_covid = covid_df['PTS_home'].mean()\n",
    "home_points_var_covid = covid_df['PTS_home'].var()\n",
    "away_points_avg_covid = covid_df['PTS_away'].mean()\n",
    "away_points_var_covid = covid_df['PTS_away'].var()\n",
    "print(f\"Home win percentage during Covid: {win_percentage_covid}%\")\n",
    "print(f\"Home points average: {home_points_avg_covid.__round__(3)}, var: {home_points_var_covid.__round__(3)}\")\n",
    "print(f\"Away points average: {away_points_avg_covid.__round__(3)}, var: {away_points_var_covid.__round__(3)}\")"
   ],
   "metadata": {
    "collapsed": false,
    "ExecuteTime": {
     "end_time": "2024-01-21T10:52:30.862598400Z",
     "start_time": "2024-01-21T10:52:30.850923200Z"
    }
   },
   "id": "455bf5bc7b70f933",
   "execution_count": 2
  },
  {
   "cell_type": "markdown",
   "source": [
    "We see a significant decrease, about 5%. \n",
    "Let's check players' home and away FT%."
   ],
   "metadata": {
    "collapsed": false
   },
   "id": "44b46547b18b8044"
  },
  {
   "cell_type": "code",
   "outputs": [
    {
     "name": "stdout",
     "output_type": "stream",
     "text": [
      "Home FT% in 2015: 75.875%\n",
      "Away FT% in 2015: 75.335%\n",
      "Home FT% in 2016: 77.118%\n",
      "Away FT% in 2016: 77.311%\n",
      "Home FT% in 2017: 76.713%\n",
      "Away FT% in 2017: 76.646%\n",
      "Home FT% in 2018: 76.81%\n",
      "Away FT% in 2018: 76.687%\n",
      "Home FT% in 2019: 77.458%\n",
      "Away FT% in 2019: 77.353%\n",
      "Home FT% in 2020: 75.695%\n",
      "Away FT% in 2020: 76.704%\n"
     ]
    }
   ],
   "source": [
    "years_dict = {2015: pbp_2015, 2016: pbp_2016, 2017: pbp_2017, 2018: pbp_2018, 2019: pbp_2019, 2020: pbp_2020}\n",
    "for year, pbp_year in years_dict.items():\n",
    "    mask_home = pbp_year['HomePlay'].notna()\n",
    "    home_plays = pbp_year[mask_home]\n",
    "\n",
    "    mask_ft_home = home_plays['FreeThrowOutcome'].notna()\n",
    "    home_fts = home_plays[mask_ft_home]\n",
    "\n",
    "    home_ft_percentage = len(home_fts[home_fts['FreeThrowOutcome'] == 'make']) * 100 / len(home_fts)\n",
    "    print(f\"Home FT% in {year}: {home_ft_percentage.__round__(3)}%\")\n",
    "\n",
    "    mask_away = pbp_year['AwayPlay'].notna()\n",
    "    away_plays = pbp_year[mask_away]\n",
    "\n",
    "    mask_ft_away = away_plays['FreeThrowOutcome'].notna()\n",
    "    away_fts = away_plays[mask_ft_away]\n",
    "\n",
    "    away_ft_percentage = len(away_fts[away_fts['FreeThrowOutcome'] == 'make']) * 100 / len(away_fts)\n",
    "    print(f\"Away FT% in {year}: {away_ft_percentage.__round__(3)}%\")\n"
   ],
   "metadata": {
    "collapsed": false,
    "ExecuteTime": {
     "end_time": "2024-01-21T10:52:32.363130900Z",
     "start_time": "2024-01-21T10:52:30.862598400Z"
    }
   },
   "id": "14df7be8fb3e33f4",
   "execution_count": 3
  },
  {
   "cell_type": "markdown",
   "source": [
    "We see no significant difference in FT% between home and away teams. This could imply that home advantage may be influenced by referees/coaches more than players.\n",
    "Let's check the difference in FG%."
   ],
   "metadata": {
    "collapsed": false
   },
   "id": "1ecac2284a6d1ad5"
  },
  {
   "cell_type": "code",
   "outputs": [
    {
     "name": "stdout",
     "output_type": "stream",
     "text": [
      "Home FG% in 2015: 45.7%\n",
      "Away FG% in 2015: 44.585%\n",
      "Home FG% in 2016: 46.362%\n",
      "Away FG% in 2016: 45.157%\n",
      "Home FG% in 2017: 46.505%\n",
      "Away FG% in 2017: 45.503%\n",
      "Home FG% in 2018: 46.454%\n",
      "Away FG% in 2018: 45.425%\n",
      "Home FG% in 2019: 46.395%\n",
      "Away FG% in 2019: 45.581%\n",
      "Home FG% in 2020: 45.99%\n",
      "Away FG% in 2020: 46.026%\n"
     ]
    }
   ],
   "source": [
    "for year, pbp_year in years_dict.items():\n",
    "    mask_home = pbp_year['HomePlay'].notna()\n",
    "    home_plays = pbp_year[mask_home]\n",
    "\n",
    "    mask_fg_home = home_plays['ShotOutcome'].notna()\n",
    "    home_fgs = home_plays[mask_fg_home]\n",
    "\n",
    "    home_fg_percentage = len(home_fgs[home_fgs['ShotOutcome'] == 'make']) * 100 / len(home_fgs)\n",
    "    print(f\"Home FG% in {year}: {home_fg_percentage.__round__(3)}%\")\n",
    "\n",
    "    mask_away = pbp_year['AwayPlay'].notna()\n",
    "    away_plays = pbp_year[mask_away]\n",
    "\n",
    "    mask_fg_away = away_plays['ShotOutcome'].notna()\n",
    "    away_fgs = away_plays[mask_fg_away]\n",
    "\n",
    "    away_fg_percentage = len(away_fgs[away_fgs['ShotOutcome'] == 'make']) * 100 / len(away_fgs)\n",
    "    print(f\"Away FG% in {year}: {away_fg_percentage.__round__(3)}%\")"
   ],
   "metadata": {
    "collapsed": false,
    "ExecuteTime": {
     "end_time": "2024-01-21T10:52:34.281568100Z",
     "start_time": "2024-01-21T10:52:32.363064500Z"
    }
   },
   "id": "68ca14a4a68a6ff0",
   "execution_count": 4
  },
  {
   "cell_type": "markdown",
   "source": [
    "Next, I'd like to check the number of FGA and FTA for home and away teams. More FTAs for the home team could imply crowd influence over the referee."
   ],
   "metadata": {
    "collapsed": false
   },
   "id": "58138c1f893d6652"
  },
  {
   "cell_type": "code",
   "outputs": [
    {
     "name": "stdout",
     "output_type": "stream",
     "text": [
      "Home FTs average in a game in 2015: 25.585\n",
      "Away FTs average in a game in 2015: 24.432\n",
      "Home FTs average in a game in 2016: 25.194\n",
      "Away FTs average in a game in 2016: 24.09\n",
      "Home FTs average in a game in 2017: 23.468\n",
      "Away FTs average in a game in 2017: 22.885\n",
      "Home FTs average in a game in 2018: 25.063\n",
      "Away FTs average in a game in 2018: 24.328\n",
      "Home FTs average in a game in 2019: 21.813\n",
      "Away FTs average in a game in 2019: 21.252\n"
     ]
    }
   ],
   "source": [
    "for year, pbp_year in years_dict.items():\n",
    "    if year == 2020:\n",
    "        continue\n",
    "    mask_home = pbp_year['HomePlay'].notna()\n",
    "    home_plays = pbp_year[mask_home]\n",
    "\n",
    "    mask_ft_home = home_plays['FreeThrowOutcome'].notna()\n",
    "    home_fts = home_plays[mask_ft_home]\n",
    "\n",
    "    print(f\"Home FTs average in a game in {year}: {(len(home_fts) / 1230).__round__(3)}\")\n",
    "    mask_away = pbp_year['AwayPlay'].notna()\n",
    "    away_plays = pbp_year[mask_away]\n",
    "\n",
    "    mask_ft_away = away_plays['FreeThrowOutcome'].notna()\n",
    "    away_fts = away_plays[mask_ft_away]\n",
    "\n",
    "    print(f\"Away FTs average in a game in {year}: {(len(away_fts) / 1230).__round__(3)}\")"
   ],
   "metadata": {
    "collapsed": false,
    "ExecuteTime": {
     "end_time": "2024-01-21T10:52:35.586950Z",
     "start_time": "2024-01-21T10:52:34.279469500Z"
    }
   },
   "id": "ade4351e70ba7cc8",
   "execution_count": 5
  },
  {
   "cell_type": "code",
   "outputs": [
    {
     "name": "stdout",
     "output_type": "stream",
     "text": [
      "Home FGs average in a game in 2015: 90.402\n",
      "Away FGs average in a game in 2015: 90.32\n",
      "Home FGs average in a game in 2016: 90.628\n",
      "Away FGs average in a game in 2016: 90.849\n",
      "Home FGs average in a game in 2017: 91.712\n",
      "Away FGs average in a game in 2017: 91.595\n",
      "Home FGs average in a game in 2018: 94.999\n",
      "Away FGs average in a game in 2018: 94.885\n",
      "Home FGs average in a game in 2019: 82.266\n",
      "Away FGs average in a game in 2019: 82.285\n"
     ]
    }
   ],
   "source": [
    "for year, pbp_year in years_dict.items():\n",
    "    if year == 2020:\n",
    "        continue\n",
    "    mask_home = pbp_year['HomePlay'].notna()\n",
    "    home_plays = pbp_year[mask_home]\n",
    "\n",
    "    mask_fg_home = home_plays['ShotOutcome'].notna()\n",
    "    home_fgs = home_plays[mask_fg_home]\n",
    "\n",
    "    print(f\"Home FGs average in a game in {year}: {(len(home_fgs) / 1230).__round__(3)}\")\n",
    "    mask_away = pbp_year['AwayPlay'].notna()\n",
    "    away_plays = pbp_year[mask_away]\n",
    "\n",
    "    mask_fg_away = away_plays['ShotOutcome'].notna()\n",
    "    away_fgs = away_plays[mask_fg_away]\n",
    "\n",
    "    print(f\"Away FGs average in a game in {year}: {(len(away_fgs) / 1230).__round__(3)}\")"
   ],
   "metadata": {
    "collapsed": false,
    "ExecuteTime": {
     "end_time": "2024-01-21T10:52:37.140440800Z",
     "start_time": "2024-01-21T10:52:35.587967100Z"
    }
   },
   "id": "c284114e840cba54",
   "execution_count": 6
  },
  {
   "cell_type": "code",
   "outputs": [
    {
     "name": "stdout",
     "output_type": "stream",
     "text": [
      "Win percentage of home teams after deducting the average loss from home team points: 53.885%\n"
     ]
    }
   ],
   "source": [
    "games_df['PTS_home_fixed'] = games_df['PTS_home'] - (home_points_avg.__round__(3) - away_points_avg.__round__(3))\n",
    "games_df['home_win_larger_than_avg'] = games_df['PTS_home_fixed'] > games_df['PTS_away']\n",
    "print(f\"Win percentage of home teams after deducting the average loss from home team points: {(len(games_df[games_df['home_win_larger_than_avg'] == True]) / len(games_df) * 100).__round__(3)}%\")"
   ],
   "metadata": {
    "collapsed": false,
    "ExecuteTime": {
     "end_time": "2024-01-21T10:52:37.151879Z",
     "start_time": "2024-01-21T10:52:37.140440800Z"
    }
   },
   "id": "e8254b421bf5bc5f",
   "execution_count": 7
  },
  {
   "cell_type": "markdown",
   "source": [
    "From this we can deduce that home teams tend to win at a higher margin than the average difference.\n",
    "Next, I'd like to check what is the average margin in a home win vs. away win."
   ],
   "metadata": {
    "collapsed": false
   },
   "id": "58e1009b8210c9a8"
  },
  {
   "cell_type": "code",
   "outputs": [
    {
     "name": "stdout",
     "output_type": "stream",
     "text": [
      "Average margin when home team wins: 11.855\n",
      "Average margin when away team wins: 10.15\n"
     ]
    }
   ],
   "source": [
    "home_wins_df = games_df[games_df['HOME_TEAM_WINS'] == 1].copy()\n",
    "away_wins_df = games_df[games_df['HOME_TEAM_WINS'] == 0].copy()\n",
    "\n",
    "home_wins_df['point_diff'] = home_wins_df['PTS_home'] - home_wins_df['PTS_away']\n",
    "home_win_avg_margin = home_wins_df['point_diff'].mean()\n",
    "\n",
    "away_wins_df['point_diff'] = away_wins_df['PTS_away'] - away_wins_df['PTS_home']\n",
    "away_win_avg_margin = away_wins_df['point_diff'].mean()\n",
    "\n",
    "print(f\"Average margin when home team wins: {home_win_avg_margin.__round__(3)}\")\n",
    "print(f\"Average margin when away team wins: {away_win_avg_margin.__round__(3)}\")"
   ],
   "metadata": {
    "collapsed": false,
    "ExecuteTime": {
     "end_time": "2024-01-21T10:52:37.186756200Z",
     "start_time": "2024-01-21T10:52:37.150787800Z"
    }
   },
   "id": "c9c4f1cef6479ccb",
   "execution_count": 8
  },
  {
   "cell_type": "markdown",
   "source": [
    "Next, we'll check if players' averages are better at home. If they are, we can start analyzing and understanding which players are most likely to be affected bt it.\n",
    "We'll start with players who played a minimum of 82 game, which is equivalent to a single NBA season."
   ],
   "metadata": {
    "collapsed": false
   },
   "id": "ac6f67292a330541"
  },
  {
   "cell_type": "code",
   "outputs": [
    {
     "name": "stderr",
     "output_type": "stream",
     "text": [
      "C:\\Users\\dvirs\\AppData\\Local\\Temp\\ipykernel_212\\2996596256.py:6: SettingWithCopyWarning: \n",
      "A value is trying to be set on a copy of a slice from a DataFrame.\n",
      "Try using .loc[row_indexer,col_indexer] = value instead\n",
      "\n",
      "See the caveats in the documentation: https://pandas.pydata.org/pandas-docs/stable/user_guide/indexing.html#returning-a-view-versus-a-copy\n",
      "  players_box_score_min_one_season['home_game'] = players_box_score_min_one_season['MATCHUP'].str.contains('vs.').astype(int)\n"
     ]
    }
   ],
   "source": [
    "players_box_score_df = players_box_score_df[players_box_score_df['Season'] >= 2004]\n",
    "min_games_played = 200\n",
    "player_games_counts = players_box_score_df['PLAYER_NAME'].value_counts()\n",
    "players_with_min_games = player_games_counts[player_games_counts >= min_games_played].index.tolist()\n",
    "players_box_score_min_one_season = players_box_score_df[players_box_score_df['PLAYER_NAME'].isin(players_with_min_games)]\n",
    "players_box_score_min_one_season['home_game'] = players_box_score_min_one_season['MATCHUP'].str.contains('vs.').astype(int)\n",
    "players_box_score_home = players_box_score_min_one_season[players_box_score_min_one_season['home_game'] == 1]\n",
    "players_box_score_away = players_box_score_min_one_season[players_box_score_min_one_season['home_game'] == 0]\n",
    "player_fta_home = players_box_score_home.groupby('PLAYER_NAME')[['FTA', 'FTM']].sum().astype(int).reset_index()\n",
    "player_fta_away = players_box_score_away.groupby('PLAYER_NAME')[['FTA', 'FTM']].sum().astype(int).reset_index()"
   ],
   "metadata": {
    "collapsed": false,
    "ExecuteTime": {
     "end_time": "2024-01-21T11:57:31.587763400Z",
     "start_time": "2024-01-21T11:57:31.303998400Z"
    }
   },
   "id": "6bf7ae2338ee5396",
   "execution_count": 56
  },
  {
   "cell_type": "code",
   "outputs": [
    {
     "name": "stdout",
     "output_type": "stream",
     "text": [
      "The difference between players' ft% when compared to themselves: 0.21%\n"
     ]
    }
   ],
   "source": [
    "player_fta_home['FTP'] = player_fta_home['FTM'] / player_fta_home['FTA']\n",
    "player_fta_away['FTP'] = player_fta_away['FTM'] / player_fta_away['FTA']\n",
    "ftp_diff = player_fta_home['FTP'] - player_fta_away['FTP']\n",
    "print(f\"The difference between players' ft% when compared to themselves: {ftp_diff.mean().__round__(4) * 100}%\")"
   ],
   "metadata": {
    "collapsed": false,
    "ExecuteTime": {
     "end_time": "2024-01-21T11:57:31.597646800Z",
     "start_time": "2024-01-21T11:57:31.586326500Z"
    }
   },
   "id": "7c9e55bf1de87b76",
   "execution_count": 57
  },
  {
   "cell_type": "markdown",
   "source": [
    "Let's check the same for fg%."
   ],
   "metadata": {
    "collapsed": false
   },
   "id": "1d01c5af88484ac5"
  },
  {
   "cell_type": "code",
   "outputs": [
    {
     "name": "stdout",
     "output_type": "stream",
     "text": [
      "            PLAYER_NAME   FTA   FTM       FTP\n",
      "0              AJ Price   127    91  0.716535\n",
      "1          Aaron Brooks   541   457  0.844732\n",
      "2          Aaron Gordon   875   594  0.678857\n",
      "3            Aaron Gray   180    93  0.516667\n",
      "4         Aaron Holiday   163   136  0.834356\n",
      "..                  ...   ...   ...       ...\n",
      "819        Zach Collins   176   135  0.767045\n",
      "820         Zach LaVine  1248  1047  0.838942\n",
      "821       Zach Randolph  2086  1570  0.752637\n",
      "822       Zaza Pachulia  1407  1021  0.725657\n",
      "823  Zydrunas Ilgauskas   905   702  0.775691\n",
      "\n",
      "[824 rows x 4 columns]\n",
      "The difference between players' fg% when compared to themselves: 1.03%\n"
     ]
    }
   ],
   "source": [
    "player_fga_home = players_box_score_home.groupby('PLAYER_NAME')[['FGA', 'FGM']].sum().astype(int).reset_index()\n",
    "player_fga_away = players_box_score_away.groupby('PLAYER_NAME')[['FGA', 'FGM']].sum().astype(int).reset_index()\n",
    "player_fga_home['FGP'] = player_fga_home['FGM'] / player_fga_home['FGA']\n",
    "player_fga_away['FGP'] = player_fga_away['FGM'] / player_fga_away['FGA']\n",
    "fgp_diff = player_fga_home['FGP'] - player_fga_away['FGP']\n",
    "print(f\"The difference between players' fg% when compared to themselves: {fgp_diff.mean().__round__(4) * 100}%\")"
   ],
   "metadata": {
    "collapsed": false,
    "ExecuteTime": {
     "end_time": "2024-01-21T12:12:32.341991200Z",
     "start_time": "2024-01-21T12:12:32.312747500Z"
    }
   },
   "id": "9a7516522f975e50",
   "execution_count": 60
  },
  {
   "cell_type": "markdown",
   "source": [
    "Next, I'd like to look at the 50 players with the largest difference in home points vs away points and understand what might be the cause of the difference."
   ],
   "metadata": {
    "collapsed": false
   },
   "id": "24d648b488a43fcd"
  },
  {
   "cell_type": "code",
   "outputs": [
    {
     "name": "stdout",
     "output_type": "stream",
     "text": [
      "               PLAYER_NAME  SCORES_DIFF\n",
      "289         Gerald Wallace     3.164724\n",
      "816               Yao Ming     2.748303\n",
      "247           Earl Boykins     2.725794\n",
      "751          Terence Davis     2.570751\n",
      "519            Luka Doncic     2.517143\n",
      "753         Terrence Jones     2.452991\n",
      "169          Danny Granger     2.378938\n",
      "778             Trae Young     2.361886\n",
      "594            Monta Ellis     2.137897\n",
      "733        Stephon Marbury     2.059012\n",
      "134         Christian Wood     2.025862\n",
      "67           Blake Griffin     1.965893\n",
      "685        Ruben Patterson     1.874988\n",
      "478            Kirk Snyder     1.871470\n",
      "596       Montrezl Harrell     1.853740\n",
      "627        P.J. Washington     1.807163\n",
      "533         MarShon Brooks     1.779112\n",
      "470           Kevin Martin     1.777949\n",
      "291         Gilbert Arenas     1.764222\n",
      "104        Cameron Johnson     1.754568\n",
      "803              Von Wafer     1.751378\n",
      "31         Andrea Bargnani     1.729516\n",
      "51         Antonio Daniels     1.695356\n",
      "429            Josh Howard     1.677215\n",
      "598        Morris Peterson     1.674007\n",
      "502        Larry Nance Jr.     1.646325\n",
      "334          Jabari Parker     1.633395\n",
      "259        Emmanuel Mudiay     1.599684\n",
      "750           Terance Mann     1.589107\n",
      "597          Moritz Wagner     1.585938\n",
      "415              John Wall     1.566418\n",
      "290  Giannis Antetokounmpo     1.561168\n",
      "608             Nick Young     1.556571\n",
      "610          Nicolas Batum     1.520138\n",
      "50          Antoine Wright     1.479592\n",
      "484     Kristaps Porzingis     1.470737\n",
      "360        Jared Sullinger     1.462904\n",
      "599           Myles Turner     1.429564\n",
      "717    Shareef Abdur-Rahim     1.429113\n",
      "116          Channing Frye     1.396715\n",
      "496       Lance Stephenson     1.396425\n",
      "575           Michael Redd     1.394684\n",
      "771          Toney Douglas     1.387010\n",
      "329               JR Smith     1.382973\n",
      "142          Collin Sexton     1.378846\n",
      "12             Al Thornton     1.366402\n",
      "546            Mark Blount     1.365821\n",
      "479          Klay Thompson     1.320695\n",
      "542        Marcus Thornton     1.316824\n",
      "517          Luguentz Dort     1.311303\n"
     ]
    }
   ],
   "source": [
    "player_scores_home = players_box_score_home.groupby('PLAYER_NAME')['PTS'].mean().reset_index()\n",
    "player_scores_away = players_box_score_away.groupby('PLAYER_NAME')['PTS'].mean().reset_index()\n",
    "scores_diff = player_scores_home['PTS'] - player_scores_away['PTS']\n",
    "scores_diff_df = pd.DataFrame({'PLAYER_NAME': player_scores_home['PLAYER_NAME'],'SCORES_DIFF': scores_diff})\n",
    "sorted_scores_diff_df = scores_diff_df.sort_values(by='SCORES_DIFF', ascending=False)\n",
    "top_50_diff_leaders_df = sorted_scores_diff_df.head(50)\n",
    "print(top_50_diff_leaders_df)"
   ],
   "metadata": {
    "collapsed": false,
    "ExecuteTime": {
     "end_time": "2024-01-21T12:17:37.407344700Z",
     "start_time": "2024-01-21T12:17:37.370654100Z"
    }
   },
   "id": "4dbe7751b8c9d63d",
   "execution_count": 64
  },
  {
   "cell_type": "markdown",
   "source": [
    "I'd like to check if the difference stems from these players' tendency to shoot more often at home than away."
   ],
   "metadata": {
    "collapsed": false
   },
   "id": "15d994fee229c14c"
  },
  {
   "cell_type": "code",
   "outputs": [
    {
     "name": "stdout",
     "output_type": "stream",
     "text": [
      "The top 50 leaders in home points to away points difference shot approximately 8.151% more fgs at home than away.\n"
     ]
    }
   ],
   "source": [
    "top_50_home_fg = pd.merge(top_50_diff_leaders_df['PLAYER_NAME'], player_fga_home, on='PLAYER_NAME', how='inner')\n",
    "top_50_away_fg = pd.merge(top_50_diff_leaders_df['PLAYER_NAME'], player_fga_away, on='PLAYER_NAME', how='inner')\n",
    "top_50_fg_diff = ((top_50_away_fg['FGA'] / top_50_home_fg['FGA']) * 100)\n",
    "print(f\"The top 50 leaders in home points to away points difference shot approximately {(100 - top_50_fg_diff.mean()).__round__(3)}% more fgs at home than away.\")"
   ],
   "metadata": {
    "collapsed": false,
    "ExecuteTime": {
     "end_time": "2024-01-21T12:25:39.083281100Z",
     "start_time": "2024-01-21T12:25:39.071544300Z"
    }
   },
   "id": "524ad7888d57f706",
   "execution_count": 72
  }
 ],
 "metadata": {
  "kernelspec": {
   "display_name": "Python 3",
   "language": "python",
   "name": "python3"
  },
  "language_info": {
   "codemirror_mode": {
    "name": "ipython",
    "version": 2
   },
   "file_extension": ".py",
   "mimetype": "text/x-python",
   "name": "python",
   "nbconvert_exporter": "python",
   "pygments_lexer": "ipython2",
   "version": "2.7.6"
  }
 },
 "nbformat": 4,
 "nbformat_minor": 5
}
