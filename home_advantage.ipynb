{
 "cells": [
  {
   "cell_type": "markdown",
   "source": [
    "To show that home advantage exists in the NBA, we'll check the home win percentage, point average at home and away and it's variance since 2004."
   ],
   "metadata": {
    "collapsed": false
   },
   "id": "514a4840d582e97"
  },
  {
   "cell_type": "code",
   "execution_count": 52,
   "id": "initial_id",
   "metadata": {
    "collapsed": true,
    "ExecuteTime": {
     "end_time": "2024-02-10T10:52:07.036111600Z",
     "start_time": "2024-02-10T10:52:06.994479600Z"
    }
   },
   "outputs": [
    {
     "name": "stdout",
     "output_type": "stream",
     "text": [
      "Home win percentage since 2004: 58.703%\n",
      "Home points average: 103.456, var: 176.448\n",
      "Away points average: 100.64, var: 180.523\n"
     ]
    }
   ],
   "source": [
    "from utils import *\n",
    "win_percentage = (len(games_df[games_df['HOME_TEAM_WINS'] == 1]) * 100 / len(games_df)).__round__(3)\n",
    "home_points_avg = games_df['PTS_home'].mean()\n",
    "home_points_var = games_df['PTS_home'].var()\n",
    "away_points_avg = games_df['PTS_away'].mean()\n",
    "away_points_var = games_df['PTS_away'].var()\n",
    "print(f\"Home win percentage since 2004: {win_percentage}%\")\n",
    "print(f\"Home points average: {home_points_avg.__round__(3)}, var: {home_points_var.__round__(3)}\")\n",
    "print(f\"Away points average: {away_points_avg.__round__(3)}, var: {away_points_var.__round__(3)}\")"
   ]
  },
  {
   "cell_type": "markdown",
   "source": [
    "During the 2020-2021 season, most games were capped at 10% capacity at most due to covid. Let's see the home wins percentage for this period."
   ],
   "metadata": {
    "collapsed": false
   },
   "id": "6fd9beb36153f464"
  },
  {
   "cell_type": "code",
   "outputs": [
    {
     "name": "stdout",
     "output_type": "stream",
     "text": [
      "Home win percentage during Covid: 53.222%\n",
      "Home points average: 112.232, var: 159.923\n",
      "Away points average: 111.233, var: 153.487\n"
     ]
    }
   ],
   "source": [
    "games_df['GAME_DATE_EST'] = pd.to_datetime(games_df['GAME_DATE_EST'], format='mixed', dayfirst=True)\n",
    "start_date = '2020-07-22'\n",
    "end_date = '2021-02-27'\n",
    "\n",
    "mask = (games_df['GAME_DATE_EST'] >= start_date) & (games_df['GAME_DATE_EST'] <= end_date)\n",
    "covid_df = games_df[mask]\n",
    "win_percentage_covid = (len(covid_df[covid_df['HOME_TEAM_WINS'] == 1]) * 100 / len(covid_df)).__round__(3)\n",
    "home_points_avg_covid = covid_df['PTS_home'].mean()\n",
    "home_points_var_covid = covid_df['PTS_home'].var()\n",
    "away_points_avg_covid = covid_df['PTS_away'].mean()\n",
    "away_points_var_covid = covid_df['PTS_away'].var()\n",
    "print(f\"Home win percentage during Covid: {win_percentage_covid}%\")\n",
    "print(f\"Home points average: {home_points_avg_covid.__round__(3)}, var: {home_points_var_covid.__round__(3)}\")\n",
    "print(f\"Away points average: {away_points_avg_covid.__round__(3)}, var: {away_points_var_covid.__round__(3)}\")"
   ],
   "metadata": {
    "collapsed": false,
    "ExecuteTime": {
     "end_time": "2024-02-10T10:52:07.085123800Z",
     "start_time": "2024-02-10T10:52:07.068048500Z"
    }
   },
   "id": "455bf5bc7b70f933",
   "execution_count": 53
  },
  {
   "cell_type": "markdown",
   "source": [
    "We see a significant decrease, about 5%. \n",
    "Let's check players' home and away FT%."
   ],
   "metadata": {
    "collapsed": false
   },
   "id": "44b46547b18b8044"
  },
  {
   "cell_type": "code",
   "outputs": [
    {
     "name": "stdout",
     "output_type": "stream",
     "text": [
      "Home FT% in 2015: 75.875%\n",
      "Away FT% in 2015: 75.335%\n",
      "Home FT% in 2016: 77.118%\n",
      "Away FT% in 2016: 77.311%\n",
      "Home FT% in 2017: 76.713%\n",
      "Away FT% in 2017: 76.646%\n",
      "Home FT% in 2018: 76.81%\n",
      "Away FT% in 2018: 76.687%\n",
      "Home FT% in 2019: 77.458%\n",
      "Away FT% in 2019: 77.353%\n",
      "Home FT% in 2020: 75.695%\n",
      "Away FT% in 2020: 76.704%\n"
     ]
    }
   ],
   "source": [
    "years_dict = {2015: pbp_2015, 2016: pbp_2016, 2017: pbp_2017, 2018: pbp_2018, 2019: pbp_2019, 2020: pbp_2020}\n",
    "for year, pbp_year in years_dict.items():\n",
    "    mask_home = pbp_year['HomePlay'].notna()\n",
    "    home_plays = pbp_year[mask_home]\n",
    "\n",
    "    mask_ft_home = home_plays['FreeThrowOutcome'].notna()\n",
    "    home_fts = home_plays[mask_ft_home]\n",
    "\n",
    "    home_ft_percentage = len(home_fts[home_fts['FreeThrowOutcome'] == 'make']) * 100 / len(home_fts)\n",
    "    print(f\"Home FT% in {year}: {home_ft_percentage.__round__(3)}%\")\n",
    "\n",
    "    mask_away = pbp_year['AwayPlay'].notna()\n",
    "    away_plays = pbp_year[mask_away]\n",
    "\n",
    "    mask_ft_away = away_plays['FreeThrowOutcome'].notna()\n",
    "    away_fts = away_plays[mask_ft_away]\n",
    "\n",
    "    away_ft_percentage = len(away_fts[away_fts['FreeThrowOutcome'] == 'make']) * 100 / len(away_fts)\n",
    "    print(f\"Away FT% in {year}: {away_ft_percentage.__round__(3)}%\")"
   ],
   "metadata": {
    "collapsed": false,
    "ExecuteTime": {
     "end_time": "2024-02-10T10:52:08.628178500Z",
     "start_time": "2024-02-10T10:52:07.079420300Z"
    }
   },
   "id": "14df7be8fb3e33f4",
   "execution_count": 54
  },
  {
   "cell_type": "markdown",
   "source": [
    "We see no significant difference in FT% between home and away teams. This could imply that home advantage may be influenced by referees/coaches more than players.\n",
    "Let's check the difference in FG%."
   ],
   "metadata": {
    "collapsed": false
   },
   "id": "1ecac2284a6d1ad5"
  },
  {
   "cell_type": "code",
   "outputs": [
    {
     "name": "stdout",
     "output_type": "stream",
     "text": [
      "Home FG% in 2015: 45.7%\n",
      "Away FG% in 2015: 44.585%\n",
      "Home FG% in 2016: 46.362%\n",
      "Away FG% in 2016: 45.157%\n",
      "Home FG% in 2017: 46.505%\n",
      "Away FG% in 2017: 45.503%\n",
      "Home FG% in 2018: 46.454%\n",
      "Away FG% in 2018: 45.425%\n",
      "Home FG% in 2019: 46.395%\n",
      "Away FG% in 2019: 45.581%\n",
      "Home FG% in 2020: 45.99%\n",
      "Away FG% in 2020: 46.026%\n"
     ]
    }
   ],
   "source": [
    "for year, pbp_year in years_dict.items():\n",
    "    mask_home = pbp_year['HomePlay'].notna()\n",
    "    home_plays = pbp_year[mask_home]\n",
    "\n",
    "    mask_fg_home = home_plays['ShotOutcome'].notna()\n",
    "    home_fgs = home_plays[mask_fg_home]\n",
    "    \n",
    "    made_shots = home_fgs[home_fgs['ShotOutcome'] == 'make']\n",
    "    home_fg_percentage = len(made_shots) * 100 / len(home_fgs)\n",
    "        \n",
    "    print(f\"Home FG% in {year}: {home_fg_percentage.__round__(3)}%\")\n",
    "\n",
    "    mask_away = pbp_year['AwayPlay'].notna()\n",
    "    away_plays = pbp_year[mask_away]\n",
    "\n",
    "    mask_fg_away = away_plays['ShotOutcome'].notna()\n",
    "    away_fgs = away_plays[mask_fg_away]\n",
    "\n",
    "    away_fg_percentage = len(away_fgs[away_fgs['ShotOutcome'] == 'make']) * 100 / len(away_fgs)\n",
    "    print(f\"Away FG% in {year}: {away_fg_percentage.__round__(3)}%\")"
   ],
   "metadata": {
    "collapsed": false,
    "ExecuteTime": {
     "end_time": "2024-02-10T10:52:10.922870100Z",
     "start_time": "2024-02-10T10:52:08.628178500Z"
    }
   },
   "id": "68ca14a4a68a6ff0",
   "execution_count": 55
  },
  {
   "cell_type": "code",
   "outputs": [
    {
     "name": "stdout",
     "output_type": "stream",
     "text": [
      "Home 2pt FG% in 2015: 49.657%\n",
      "Away 2pt FG% in 2015: 48.447%\n",
      "Home 2pt FG% in 2016: 50.869%\n",
      "Away 2pt FG% in 2016: 49.927%\n",
      "Home 2pt FG% in 2017: 51.859%\n",
      "Away 2pt FG% in 2017: 50.261%\n",
      "Home 2pt FG% in 2018: 52.493%\n",
      "Away 2pt FG% in 2018: 51.207%\n",
      "Home 2pt FG% in 2019: 52.798%\n",
      "Away 2pt FG% in 2019: 52.023%\n",
      "Home 2pt FG% in 2020: 52.085%\n",
      "Away 2pt FG% in 2020: 52.394%\n",
      "Average difference between home and away 2pt FG%: 0.917\n"
     ]
    }
   ],
   "source": [
    "diff_dict = dict()\n",
    "for year, pbp_year in years_dict.items():\n",
    "    mask_home = pbp_year['HomePlay'].notna()\n",
    "    home_plays = pbp_year[mask_home]\n",
    "\n",
    "    mask_fg_home = home_plays['ShotOutcome'].notna()\n",
    "    home_fgs = home_plays[mask_fg_home]\n",
    "    \n",
    "    home_2pt_fgs = home_fgs[home_fgs['ShotType'].apply(lambda x: x.startswith('2-pt'))]\n",
    "    made_shots = home_2pt_fgs[home_2pt_fgs['ShotOutcome'] == 'make']\n",
    "    home_2fg_percentage = len(made_shots) * 100 / len(home_2pt_fgs)\n",
    "    diff_dict[year] = home_2fg_percentage.__round__(3)\n",
    "    print(f\"Home 2pt FG% in {year}: {home_2fg_percentage.__round__(3)}%\")\n",
    "    \n",
    "    mask_away = pbp_year['AwayPlay'].notna()\n",
    "    away_plays = pbp_year[mask_away]\n",
    "    \n",
    "    mask_fg_away = away_plays['ShotOutcome'].notna()\n",
    "    away_fgs = away_plays[mask_fg_away]\n",
    "    \n",
    "    away_2pt_fgs = away_fgs[away_fgs['ShotType'].apply(lambda x: x.startswith('2-pt'))]\n",
    "    made_shots = away_2pt_fgs[away_2pt_fgs['ShotOutcome'] == 'make']\n",
    "    away_2fg_percentage = len(made_shots) * 100 / len(away_2pt_fgs)\n",
    "    diff_dict[year] = diff_dict[year] - away_2fg_percentage.__round__(3)\n",
    "    print(f\"Away 2pt FG% in {year}: {away_2fg_percentage.__round__(3)}%\")\n",
    "    \n",
    "diff = sum(diff_dict.values()) / 6\n",
    "print(f\"Average difference between home and away 2pt FG%: {diff.__round__(3)}\")"
   ],
   "metadata": {
    "collapsed": false,
    "ExecuteTime": {
     "end_time": "2024-02-10T10:52:13.119826700Z",
     "start_time": "2024-02-10T10:52:10.922870100Z"
    }
   },
   "id": "eccc1dfbccde18e0",
   "execution_count": 56
  },
  {
   "cell_type": "code",
   "outputs": [
    {
     "name": "stdout",
     "output_type": "stream",
     "text": [
      "Home 3pt FG% in 2015: 35.785%\n",
      "Away 3pt FG% in 2015: 35.005%\n",
      "Home 3pt FG% in 2016: 36.696%\n",
      "Away 3pt FG% in 2016: 34.914%\n",
      "Home 3pt FG% in 2017: 36.105%\n",
      "Away 3pt FG% in 2017: 36.119%\n",
      "Home 3pt FG% in 2018: 35.774%\n",
      "Away 3pt FG% in 2018: 35.093%\n",
      "Home 3pt FG% in 2019: 36.182%\n",
      "Away 3pt FG% in 2019: 35.457%\n",
      "Home 3pt FG% in 2020: 36.7%\n",
      "Away 3pt FG% in 2020: 36.28%\n",
      "Average difference between home and away 3pt FG%: 0.729\n"
     ]
    }
   ],
   "source": [
    "diff_dict = dict()\n",
    "for year, pbp_year in years_dict.items():\n",
    "    mask_home = pbp_year['HomePlay'].notna()\n",
    "    home_plays = pbp_year[mask_home]\n",
    "\n",
    "    mask_fg_home = home_plays['ShotOutcome'].notna()\n",
    "    home_fgs = home_plays[mask_fg_home]\n",
    "    \n",
    "    home_3pt_fgs = home_fgs[home_fgs['ShotType'].apply(lambda x: x.startswith('3-pt'))]\n",
    "    made_shots = home_3pt_fgs[home_3pt_fgs['ShotOutcome'] == 'make']\n",
    "    home_3fg_percentage = len(made_shots) * 100 / len(home_3pt_fgs)\n",
    "    diff_dict[year] = home_3fg_percentage.__round__(3)\n",
    "    print(f\"Home 3pt FG% in {year}: {home_3fg_percentage.__round__(3)}%\")\n",
    "    \n",
    "    mask_away = pbp_year['AwayPlay'].notna()\n",
    "    away_plays = pbp_year[mask_away]\n",
    "    \n",
    "    mask_fg_away = away_plays['ShotOutcome'].notna()\n",
    "    away_fgs = away_plays[mask_fg_away]\n",
    "    \n",
    "    away_3pt_fgs = away_fgs[away_fgs['ShotType'].apply(lambda x: x.startswith('3-pt'))]\n",
    "    made_shots = away_3pt_fgs[away_3pt_fgs['ShotOutcome'] == 'make']\n",
    "    away_3fg_percentage = len(made_shots) * 100 / len(away_3pt_fgs)\n",
    "    diff_dict[year] = diff_dict[year] - away_3fg_percentage.__round__(3)\n",
    "    print(f\"Away 3pt FG% in {year}: {away_3fg_percentage.__round__(3)}%\")\n",
    "\n",
    "diff = sum(diff_dict.values()) / 6\n",
    "print(f\"Average difference between home and away 3pt FG%: {diff.__round__(3)}\")"
   ],
   "metadata": {
    "collapsed": false,
    "ExecuteTime": {
     "end_time": "2024-02-10T10:52:15.164846200Z",
     "start_time": "2024-02-10T10:52:13.136184300Z"
    }
   },
   "id": "1f9ea34ccc141e09",
   "execution_count": 57
  },
  {
   "cell_type": "markdown",
   "source": [
    "Next, I'd like to check the number of FGA and FTA for home and away teams. More FTAs for the home team could imply crowd influence over the referee."
   ],
   "metadata": {
    "collapsed": false
   },
   "id": "f54c6c5cd3a999f3"
  },
  {
   "cell_type": "code",
   "outputs": [
    {
     "name": "stdout",
     "output_type": "stream",
     "text": [
      "Home FTs average in a game in 2015: 23.913\n",
      "Away FTs average in a game in 2015: 22.835\n",
      "Home FTs average in a game in 2016: 23.674\n",
      "Away FTs average in a game in 2016: 22.636\n",
      "Home FTs average in a game in 2017: 22.002\n",
      "Away FTs average in a game in 2017: 21.455\n",
      "Home FTs average in a game in 2018: 23.515\n",
      "Away FTs average in a game in 2018: 22.825\n",
      "Home FTs average in a game in 2019: 23.473\n",
      "Away FTs average in a game in 2019: 22.87\n",
      "Average difference between home and away FTA: 0.659\n"
     ]
    }
   ],
   "source": [
    "diff_dict = dict()\n",
    "for year, pbp_year in years_dict.items():\n",
    "    num_games = pbp_year['URL'].nunique()\n",
    "    if year == 2020:\n",
    "        continue\n",
    "    mask_home = pbp_year['HomePlay'].notna()\n",
    "    home_plays = pbp_year[mask_home]\n",
    "\n",
    "    mask_ft_home = home_plays['FreeThrowOutcome'].notna()\n",
    "    home_fts = home_plays[mask_ft_home]\n",
    "    diff_dict[year] = len(home_fts) / num_games\n",
    "    \n",
    "    print(f\"Home FTs average in a game in {year}: {(len(home_fts) / num_games).__round__(3)}\")\n",
    "    mask_away = pbp_year['AwayPlay'].notna()\n",
    "    away_plays = pbp_year[mask_away]\n",
    "\n",
    "    mask_ft_away = away_plays['FreeThrowOutcome'].notna()\n",
    "    away_fts = away_plays[mask_ft_away]\n",
    "    diff_dict[year] = diff_dict[year] - (len(away_fts) / num_games)\n",
    "    print(f\"Away FTs average in a game in {year}: {(len(away_fts) / num_games).__round__(3)}\")\n",
    "\n",
    "diff = sum(diff_dict.values()) / 6\n",
    "print(f\"Average difference between home and away FTA: {diff.__round__(3)}\")"
   ],
   "metadata": {
    "collapsed": false,
    "ExecuteTime": {
     "end_time": "2024-02-10T10:52:16.685105100Z",
     "start_time": "2024-02-10T10:52:15.165820Z"
    }
   },
   "id": "ade4351e70ba7cc8",
   "execution_count": 58
  },
  {
   "cell_type": "code",
   "outputs": [
    {
     "name": "stdout",
     "output_type": "stream",
     "text": [
      "Home FGs average in a game in 2015: 84.495\n",
      "Away FGs average in a game in 2015: 84.417\n",
      "Home FGs average in a game in 2016: 85.159\n",
      "Away FGs average in a game in 2016: 85.366\n",
      "Home FGs average in a game in 2017: 85.98\n",
      "Away FGs average in a game in 2017: 85.87\n",
      "Home FGs average in a game in 2018: 89.13\n",
      "Away FGs average in a game in 2018: 89.022\n",
      "Home FGs average in a game in 2019: 88.528\n",
      "Away FGs average in a game in 2019: 88.548\n",
      "Home FGs average in a game in 2020: 88.349\n",
      "Away FGs average in a game in 2020: 89.038\n",
      "Average difference between home and away FGA: -0.104\n"
     ]
    }
   ],
   "source": [
    "for year, pbp_year in years_dict.items():\n",
    "    num_games = pbp_year['URL'].nunique()\n",
    "    mask_home = pbp_year['HomePlay'].notna()\n",
    "    home_plays = pbp_year[mask_home]\n",
    "\n",
    "    mask_fg_home = home_plays['ShotOutcome'].notna()\n",
    "    home_fgs = home_plays[mask_fg_home]\n",
    "    diff_dict[year] = len(home_fgs) / num_games\n",
    "\n",
    "    print(f\"Home FGs average in a game in {year}: {(len(home_fgs) / num_games).__round__(3)}\")\n",
    "    mask_away = pbp_year['AwayPlay'].notna()\n",
    "    away_plays = pbp_year[mask_away]\n",
    "\n",
    "    mask_fg_away = away_plays['ShotOutcome'].notna()\n",
    "    away_fgs = away_plays[mask_fg_away]\n",
    "    diff_dict[year] = diff_dict[year] - (len(away_fgs) / num_games)\n",
    "    print(f\"Away FGs average in a game in {year}: {(len(away_fgs) / num_games).__round__(3)}\")\n",
    "\n",
    "diff = sum(diff_dict.values()) / 6\n",
    "print(f\"Average difference between home and away FGA: {diff.__round__(3)}\")"
   ],
   "metadata": {
    "collapsed": false,
    "ExecuteTime": {
     "end_time": "2024-02-10T10:52:18.577693100Z",
     "start_time": "2024-02-10T10:52:16.685161900Z"
    }
   },
   "id": "c284114e840cba54",
   "execution_count": 59
  },
  {
   "cell_type": "code",
   "outputs": [
    {
     "name": "stdout",
     "output_type": "stream",
     "text": [
      "Home 2pt FGA in 2015: 60.394\n",
      "Away 2pt FGA in 2015: 60.163\n",
      "Home 2pt FGA in 2016: 58.076\n",
      "Away 2pt FGA in 2016: 58.241\n",
      "Home 2pt FGA in 2017: 56.759\n",
      "Away 2pt FGA in 2017: 56.982\n",
      "Home 2pt FGA in 2018: 56.935\n",
      "Away 2pt FGA in 2018: 57.083\n",
      "Home 2pt FGA in 2019: 54.416\n",
      "Away 2pt FGA in 2019: 54.116\n",
      "Home 2pt FGA in 2020: 53.344\n",
      "Away 2pt FGA in 2020: 53.852\n",
      "Average difference between home and away 2pt FGA: -0.085\n"
     ]
    }
   ],
   "source": [
    "diff_dict = dict()\n",
    "for year, pbp_year in years_dict.items():\n",
    "    num_games = pbp_year['URL'].nunique()\n",
    "    mask_home = pbp_year['HomePlay'].notna()\n",
    "    home_plays = pbp_year[mask_home]\n",
    "\n",
    "    mask_fg_home = home_plays['ShotOutcome'].notna()\n",
    "    home_fgs = home_plays[mask_fg_home]\n",
    "    \n",
    "    home_2pt_fgs = home_fgs[home_fgs['ShotType'].apply(lambda x: x.startswith('2-pt'))]\n",
    "    diff_dict[year] = (len(home_2pt_fgs) / num_games).__round__(3)\n",
    "    print(f\"Home 2pt FGA in {year}: {(len(home_2pt_fgs) / num_games).__round__(3)}\")\n",
    "    \n",
    "    mask_away = pbp_year['AwayPlay'].notna()\n",
    "    away_plays = pbp_year[mask_away]\n",
    "    \n",
    "    mask_fg_away = away_plays['ShotOutcome'].notna()\n",
    "    away_fgs = away_plays[mask_fg_away]\n",
    "    \n",
    "    away_2pt_fgs = away_fgs[away_fgs['ShotType'].apply(lambda x: x.startswith('2-pt'))]\n",
    "    diff_dict[year] = diff_dict[year] - (len(away_2pt_fgs) / num_games).__round__(3)\n",
    "    print(f\"Away 2pt FGA in {year}: {(len(away_2pt_fgs) / num_games).__round__(3)}\")\n",
    "    \n",
    "diff = sum(diff_dict.values()) / 6\n",
    "print(f\"Average difference between home and away 2pt FGA: {diff.__round__(3)}\")"
   ],
   "metadata": {
    "collapsed": false,
    "ExecuteTime": {
     "end_time": "2024-02-10T10:52:20.824408200Z",
     "start_time": "2024-02-10T10:52:18.568717800Z"
    }
   },
   "id": "2f306949039fdca0",
   "execution_count": 60
  },
  {
   "cell_type": "code",
   "outputs": [
    {
     "name": "stdout",
     "output_type": "stream",
     "text": [
      "Home 3pt FGA in 2015: 24.101\n",
      "Away 3pt FGA in 2015: 24.254\n",
      "Home 3pt FGA in 2016: 27.083\n",
      "Away 3pt FGA in 2016: 27.125\n",
      "Home 3pt FGA in 2017: 29.221\n",
      "Away 3pt FGA in 2017: 28.889\n",
      "Home 3pt FGA in 2018: 32.195\n",
      "Away 3pt FGA in 2018: 31.939\n",
      "Home 3pt FGA in 2019: 34.111\n",
      "Away 3pt FGA in 2019: 34.431\n",
      "Home 3pt FGA in 2020: 35.005\n",
      "Away 3pt FGA in 2020: 35.187\n",
      "Average difference between home and away 3pt FGA: -0.018\n"
     ]
    }
   ],
   "source": [
    "diff_dict = dict()\n",
    "for year, pbp_year in years_dict.items():\n",
    "    num_games = pbp_year['URL'].nunique()\n",
    "    mask_home = pbp_year['HomePlay'].notna()\n",
    "    home_plays = pbp_year[mask_home]\n",
    "\n",
    "    mask_fg_home = home_plays['ShotOutcome'].notna()\n",
    "    home_fgs = home_plays[mask_fg_home]\n",
    "    \n",
    "    home_3pt_fgs = home_fgs[home_fgs['ShotType'].apply(lambda x: x.startswith('3-pt'))]\n",
    "    diff_dict[year] = (len(home_3pt_fgs) / num_games).__round__(3)\n",
    "    print(f\"Home 3pt FGA in {year}: {(len(home_3pt_fgs) / num_games).__round__(3)}\")\n",
    "    \n",
    "    mask_away = pbp_year['AwayPlay'].notna()\n",
    "    away_plays = pbp_year[mask_away]\n",
    "    \n",
    "    mask_fg_away = away_plays['ShotOutcome'].notna()\n",
    "    away_fgs = away_plays[mask_fg_away]\n",
    "    \n",
    "    away_3pt_fgs = away_fgs[away_fgs['ShotType'].apply(lambda x: x.startswith('3-pt'))]\n",
    "    diff_dict[year] = diff_dict[year] - (len(away_3pt_fgs) / num_games).__round__(3)\n",
    "    print(f\"Away 3pt FGA in {year}: {(len(away_3pt_fgs) / num_games).__round__(3)}\")\n",
    "    \n",
    "diff = sum(diff_dict.values()) / 6\n",
    "print(f\"Average difference between home and away 3pt FGA: {diff.__round__(3)}\")"
   ],
   "metadata": {
    "collapsed": false,
    "ExecuteTime": {
     "end_time": "2024-02-10T10:52:22.966889700Z",
     "start_time": "2024-02-10T10:52:20.819847500Z"
    }
   },
   "id": "941be78d842ad7e4",
   "execution_count": 61
  },
  {
   "cell_type": "code",
   "outputs": [
    {
     "name": "stdout",
     "output_type": "stream",
     "text": [
      "Win percentage of home teams after deducting the average loss from home team points: 53.885%\n"
     ]
    }
   ],
   "source": [
    "games_df['PTS_home_fixed'] = games_df['PTS_home'] - (home_points_avg.__round__(3) - away_points_avg.__round__(3))\n",
    "games_df['home_win_larger_than_avg'] = games_df['PTS_home_fixed'] > games_df['PTS_away']\n",
    "print(f\"Win percentage of home teams after deducting the average loss from home team points: {(len(games_df[games_df['home_win_larger_than_avg'] == True]) / len(games_df) * 100).__round__(3)}%\")"
   ],
   "metadata": {
    "collapsed": false,
    "ExecuteTime": {
     "end_time": "2024-02-10T10:52:22.977331800Z",
     "start_time": "2024-02-10T10:52:22.966889700Z"
    }
   },
   "id": "e8254b421bf5bc5f",
   "execution_count": 62
  },
  {
   "cell_type": "markdown",
   "source": [
    "From this we can deduce that home teams tend to win at a higher margin than the average difference.\n",
    "Next, I'd like to check what is the average margin in a home win vs. away win."
   ],
   "metadata": {
    "collapsed": false
   },
   "id": "58e1009b8210c9a8"
  },
  {
   "cell_type": "code",
   "outputs": [
    {
     "name": "stdout",
     "output_type": "stream",
     "text": [
      "Average margin when home team wins: 11.855\n",
      "Average margin when away team wins: 10.15\n"
     ]
    }
   ],
   "source": [
    "home_wins_df = games_df[games_df['HOME_TEAM_WINS'] == 1].copy()\n",
    "away_wins_df = games_df[games_df['HOME_TEAM_WINS'] == 0].copy()\n",
    "\n",
    "home_wins_df['point_diff'] = home_wins_df['PTS_home'] - home_wins_df['PTS_away']\n",
    "home_win_avg_margin = home_wins_df['point_diff'].mean()\n",
    "\n",
    "away_wins_df['point_diff'] = away_wins_df['PTS_away'] - away_wins_df['PTS_home']\n",
    "away_win_avg_margin = away_wins_df['point_diff'].mean()\n",
    "\n",
    "print(f\"Average margin when home team wins: {home_win_avg_margin.__round__(3)}\")\n",
    "print(f\"Average margin when away team wins: {away_win_avg_margin.__round__(3)}\")"
   ],
   "metadata": {
    "collapsed": false,
    "ExecuteTime": {
     "end_time": "2024-02-10T10:52:23.018026300Z",
     "start_time": "2024-02-10T10:52:22.976261300Z"
    }
   },
   "id": "c9c4f1cef6479ccb",
   "execution_count": 63
  },
  {
   "cell_type": "markdown",
   "source": [
    "Next, we'll check if players' averages are better at home. If they are, we can start analyzing and understanding which players are most likely to be affected bt it.\n",
    "We'll start with players who played a minimum of 82 game, which is equivalent to a single NBA season."
   ],
   "metadata": {
    "collapsed": false
   },
   "id": "ac6f67292a330541"
  },
  {
   "cell_type": "code",
   "outputs": [
    {
     "name": "stderr",
     "output_type": "stream",
     "text": [
      "C:\\Users\\dvirs\\AppData\\Local\\Temp\\ipykernel_34768\\1322158666.py:6: SettingWithCopyWarning: \n",
      "A value is trying to be set on a copy of a slice from a DataFrame.\n",
      "Try using .loc[row_indexer,col_indexer] = value instead\n",
      "\n",
      "See the caveats in the documentation: https://pandas.pydata.org/pandas-docs/stable/user_guide/indexing.html#returning-a-view-versus-a-copy\n",
      "  players_box_score_min_one_season['home_game'] = players_box_score_min_one_season['MATCHUP'].str.contains('vs.').astype(int)\n"
     ]
    }
   ],
   "source": [
    "players_box_score_df = players_box_score_df[players_box_score_df['Season'] >= 2015]\n",
    "min_games_played = 200\n",
    "player_games_counts = players_box_score_df['PLAYER_NAME'].value_counts()\n",
    "players_with_min_games = player_games_counts[player_games_counts >= min_games_played].index.tolist()\n",
    "players_box_score_min_one_season = players_box_score_df[players_box_score_df['PLAYER_NAME'].isin(players_with_min_games)]\n",
    "players_box_score_min_one_season['home_game'] = players_box_score_min_one_season['MATCHUP'].str.contains('vs.').astype(int)\n",
    "players_box_score_home = players_box_score_min_one_season[players_box_score_min_one_season['home_game'] == 1]\n",
    "players_box_score_away = players_box_score_min_one_season[players_box_score_min_one_season['home_game'] == 0]\n",
    "player_fta_home = players_box_score_home.groupby('PLAYER_NAME')[['FTA', 'FTM']].sum().astype(int).reset_index()\n",
    "player_fta_away = players_box_score_away.groupby('PLAYER_NAME')[['FTA', 'FTM']].sum().astype(int).reset_index()"
   ],
   "metadata": {
    "collapsed": false,
    "ExecuteTime": {
     "end_time": "2024-02-10T10:52:23.140182700Z",
     "start_time": "2024-02-10T10:52:22.994486200Z"
    }
   },
   "id": "6bf7ae2338ee5396",
   "execution_count": 64
  },
  {
   "cell_type": "code",
   "outputs": [
    {
     "name": "stdout",
     "output_type": "stream",
     "text": [
      "The difference between players' ft% when compared to themselves: 0.26%\n"
     ]
    }
   ],
   "source": [
    "player_fta_home['FTP'] = player_fta_home['FTM'] / player_fta_home['FTA']\n",
    "player_fta_away['FTP'] = player_fta_away['FTM'] / player_fta_away['FTA']\n",
    "ftp_diff = player_fta_home['FTP'] - player_fta_away['FTP']\n",
    "print(f\"The difference between players' ft% when compared to themselves: {ftp_diff.mean().__round__(4) * 100}%\")"
   ],
   "metadata": {
    "collapsed": false,
    "ExecuteTime": {
     "end_time": "2024-02-10T10:52:23.155022900Z",
     "start_time": "2024-02-10T10:52:23.143473500Z"
    }
   },
   "id": "7c9e55bf1de87b76",
   "execution_count": 65
  },
  {
   "cell_type": "markdown",
   "source": [
    "Let's check the same for fg%."
   ],
   "metadata": {
    "collapsed": false
   },
   "id": "1d01c5af88484ac5"
  },
  {
   "cell_type": "code",
   "outputs": [
    {
     "name": "stdout",
     "output_type": "stream",
     "text": [
      "The difference between players' fg% when compared to themselves: 0.8998%\n"
     ]
    }
   ],
   "source": [
    "player_fga_home = players_box_score_home.groupby('PLAYER_NAME')[['FGA', 'FGM']].sum().astype(int).reset_index()\n",
    "player_fga_away = players_box_score_away.groupby('PLAYER_NAME')[['FGA', 'FGM']].sum().astype(int).reset_index()\n",
    "player_fga_home['FGP'] = player_fga_home['FGM'] / player_fga_home['FGA']\n",
    "player_fga_away['FGP'] = player_fga_away['FGM'] / player_fga_away['FGA']\n",
    "fgp_diff = player_fga_home['FGP'] - player_fga_away['FGP']\n",
    "print(f\"The difference between players' fg% when compared to themselves: {(fgp_diff.mean() * 100).__round__(4)}%\")"
   ],
   "metadata": {
    "collapsed": false,
    "ExecuteTime": {
     "end_time": "2024-02-10T10:52:23.191036500Z",
     "start_time": "2024-02-10T10:52:23.153894700Z"
    }
   },
   "id": "9a7516522f975e50",
   "execution_count": 66
  },
  {
   "cell_type": "code",
   "outputs": [],
   "source": [
    "player_stats_home = players_box_score_home.groupby('PLAYER_NAME').agg({'PTS': 'sum', 'MIN': 'sum'})\n",
    "player_stats_home['PTS_per_MIN'] = player_stats_home['PTS'] / player_stats_home['MIN']\n",
    "player_stats_home.reset_index(inplace=True)\n",
    "player_stats_away = players_box_score_away.groupby('PLAYER_NAME').agg({'PTS': 'sum', 'MIN': 'sum'})\n",
    "player_stats_away['PTS_per_MIN'] = player_stats_away['PTS'] / player_stats_away['MIN']\n",
    "player_stats_away.reset_index(inplace=True)"
   ],
   "metadata": {
    "collapsed": false,
    "ExecuteTime": {
     "end_time": "2024-02-10T10:52:23.229653100Z",
     "start_time": "2024-02-10T10:52:23.181328400Z"
    }
   },
   "id": "52fba2df569fef8b",
   "execution_count": 67
  },
  {
   "cell_type": "markdown",
   "source": [
    "Next, I'd like to look at the 50 players with the largest difference in home points vs away points and understand what might be the cause of the difference."
   ],
   "metadata": {
    "collapsed": false
   },
   "id": "24d648b488a43fcd"
  },
  {
   "cell_type": "code",
   "outputs": [
    {
     "name": "stdout",
     "output_type": "stream",
     "text": [
      "               PLAYER_NAME  SCORES_DIFF\n",
      "219        Justin Anderson     0.102739\n",
      "380          Terence Davis     0.076517\n",
      "19             Aron Baynes     0.073178\n",
      "122        Emmanuel Mudiay     0.072257\n",
      "28        Boban Marjanovic     0.071667\n",
      "332           Paul Millsap     0.069339\n",
      "243          Klay Thompson     0.065494\n",
      "148         Hamidou Diallo     0.064832\n",
      "309                   Nene     0.061920\n",
      "304       Montrezl Harrell     0.061143\n",
      "397             Trae Young     0.061104\n",
      "325          Pascal Siakam     0.060141\n",
      "51          Christian Wood     0.058977\n",
      "42         Cameron Johnson     0.058590\n",
      "305          Moritz Wagner     0.058296\n",
      "266            Luka Doncic     0.056835\n",
      "62            Damian Jones     0.054449\n",
      "203           John Konchar     0.053987\n",
      "265          Luguentz Dort     0.051159\n",
      "105           Dion Waiters     0.050899\n",
      "366       Shaun Livingston     0.050720\n",
      "274             Marc Gasol     0.049133\n",
      "273          Manu Ginobili     0.049014\n",
      "363         Shabazz Napier     0.048966\n",
      "204              John Wall     0.048880\n",
      "43           Cameron Payne     0.047256\n",
      "408           Tyreke Evans     0.047125\n",
      "44            Caris LeVert     0.046684\n",
      "379           Terance Mann     0.046351\n",
      "271          Malik Beasley     0.045583\n",
      "227         Keldon Johnson     0.045419\n",
      "37             Bruce Brown     0.045376\n",
      "18        Anthony Tolliver     0.045155\n",
      "258        Larry Nance Jr.     0.044845\n",
      "324        P.J. Washington     0.044574\n",
      "67            Daniel Theis     0.043942\n",
      "11          Andre Drummond     0.043645\n",
      "154      Immanuel Quickley     0.043390\n",
      "86        DeMarcus Cousins     0.042898\n",
      "76         Darren Collison     0.042688\n",
      "140  Giannis Antetokounmpo     0.042413\n",
      "9             Allen Crabbe     0.042053\n",
      "158              Ish Smith     0.042043\n",
      "102        Devonte' Graham     0.041560\n",
      "306           Myles Turner     0.041496\n",
      "138          Georges Niang     0.041366\n",
      "223           Jusuf Nurkic     0.041059\n",
      "419    Willie Cauley-Stein     0.040736\n",
      "286       Matisse Thybulle     0.040003\n",
      "64              Damion Lee     0.039939\n"
     ]
    }
   ],
   "source": [
    "scores_diff = player_stats_home['PTS_per_MIN'] - player_stats_away['PTS_per_MIN']\n",
    "scores_diff_df = pd.DataFrame({'PLAYER_NAME': player_stats_home['PLAYER_NAME'],'SCORES_DIFF': scores_diff})\n",
    "sorted_scores_diff_df = scores_diff_df.sort_values(by='SCORES_DIFF', ascending=False)\n",
    "top_50_diff_leaders_df = sorted_scores_diff_df.head(50)\n",
    "print(top_50_diff_leaders_df)"
   ],
   "metadata": {
    "collapsed": false,
    "ExecuteTime": {
     "end_time": "2024-02-10T10:52:23.231755100Z",
     "start_time": "2024-02-10T10:52:23.203350400Z"
    }
   },
   "id": "4dbe7751b8c9d63d",
   "execution_count": 68
  },
  {
   "cell_type": "markdown",
   "source": [
    "I'd like to check if the difference stems from these players' tendency to shoot more often at home than away."
   ],
   "metadata": {
    "collapsed": false
   },
   "id": "15d994fee229c14c"
  },
  {
   "cell_type": "code",
   "outputs": [
    {
     "name": "stdout",
     "output_type": "stream",
     "text": [
      "The top 50 leaders in home points to away points difference shot approximately 5.585% more fgs at home than away.\n"
     ]
    }
   ],
   "source": [
    "top_50_home_fg = pd.merge(top_50_diff_leaders_df['PLAYER_NAME'], player_fga_home, on='PLAYER_NAME', how='inner')\n",
    "top_50_away_fg = pd.merge(top_50_diff_leaders_df['PLAYER_NAME'], player_fga_away, on='PLAYER_NAME', how='inner')\n",
    "top_50_fg_diff = ((top_50_away_fg['FGA'] / top_50_home_fg['FGA']) * 100)\n",
    "print(f\"The top 50 leaders in home points to away points difference shot approximately {(100 - top_50_fg_diff.mean()).__round__(3)}% more fgs at home than away.\")"
   ],
   "metadata": {
    "collapsed": false,
    "ExecuteTime": {
     "end_time": "2024-02-10T10:52:23.232794600Z",
     "start_time": "2024-02-10T10:52:23.211480100Z"
    }
   },
   "id": "524ad7888d57f706",
   "execution_count": 69
  },
  {
   "cell_type": "markdown",
   "source": [],
   "metadata": {
    "collapsed": false
   },
   "id": "879d4e278299fa99"
  },
  {
   "cell_type": "markdown",
   "source": [
    "Next, we'd like to check the sensitivity of players and try to find out whether that metric is correlated with playing better at home."
   ],
   "metadata": {
    "collapsed": false
   },
   "id": "6cc5062c77d31d3a"
  },
  {
   "cell_type": "code",
   "outputs": [],
   "source": [
    "sensitivity_dict = dict()\n",
    "for year, pbp_year in years_dict.items():\n",
    "    # Drop rows with NaN values in 'ShotType' and 'Shooter' columns\n",
    "    pbp_year_cleaned = pbp_year.dropna(subset=['ShotType', 'Shooter'])\n",
    "    \n",
    "    three_pt_shots = pbp_year_cleaned[pbp_year_cleaned['ShotType'].str.startswith('3-pt')]\n",
    "    player_counts = three_pt_shots['Shooter'].value_counts()\n",
    "    players_over_200 = player_counts[player_counts > 200]\n",
    "    players_names_over_200 = players_over_200.index.tolist()\n",
    "    player_odds = {}\n",
    "    \n",
    "    # Iterate over each player whose name appears over 200 times\n",
    "    for player_name in players_names_over_200:\n",
    "        player_odds[player_name] = {'3pt_after_miss': 0, '3pt_after_make': 0}\n",
    "        \n",
    "        # Filter DataFrame for shots by this player\n",
    "        player_shots = pbp_year_cleaned[pbp_year_cleaned['Shooter'] == player_name]\n",
    "        \n",
    "        # Iterate over each shot by the player\n",
    "        num_shots = len(player_shots)\n",
    "        for i in range(num_shots - 1):  # Skip the last shot as there is no \"next shot\" after it\n",
    "            current_shot = player_shots.iloc[i]\n",
    "            next_shot = player_shots.iloc[i + 1]\n",
    "            \n",
    "            # Check if both shots are from the same game\n",
    "            if current_shot['URL'] != next_shot['URL']:\n",
    "                continue\n",
    "            \n",
    "            # Check if the current shot was a 3-pt shot\n",
    "            if current_shot['ShotType'].startswith('3-pt'):\n",
    "                # Increment the counter based on the outcome of the next shot\n",
    "                if next_shot['ShotType'].startswith('3-pt'):\n",
    "                    if current_shot['ShotOutcome'] == 'miss':\n",
    "                        player_odds[player_name]['3pt_after_miss'] += 1\n",
    "                    elif current_shot['ShotOutcome'] == 'make':\n",
    "                        player_odds[player_name]['3pt_after_make'] += 1\n",
    "    \n",
    "    # Calculate the odds for each player\n",
    "    for player_name in player_odds:\n",
    "        total_after_misses = player_odds[player_name]['3pt_after_miss']\n",
    "        total_after_makes = player_odds[player_name]['3pt_after_make']\n",
    "        \n",
    "        if total_after_misses + total_after_makes > 0:\n",
    "            odds_after_miss = total_after_misses / (total_after_misses + total_after_makes)\n",
    "            odds_after_make = total_after_makes / (total_after_misses + total_after_makes)\n",
    "            \n",
    "            player_odds[player_name]['odds_after_miss'] = odds_after_miss\n",
    "            player_odds[player_name]['odds_after_make'] = odds_after_make\n",
    "        else:\n",
    "            player_odds[player_name]['odds_after_miss'] = None\n",
    "            player_odds[player_name]['odds_after_make'] = None\n",
    "    sensitivity_dict[year] = player_odds\n"
   ],
   "metadata": {
    "collapsed": false,
    "ExecuteTime": {
     "end_time": "2024-02-10T11:48:30.373150700Z",
     "start_time": "2024-02-10T11:47:49.388346100Z"
    }
   },
   "id": "6d03fa0fc40e1d18",
   "execution_count": 77
  },
  {
   "cell_type": "code",
   "outputs": [
    {
     "name": "stdout",
     "output_type": "stream",
     "text": [
      "{2015: {'S. Curry - curryst01': {'3pt_after_miss': 267, '3pt_after_make': 282, 'odds_after_miss': 0.48633879781420764, 'odds_after_make': 0.5136612021857924}, 'K. Thompson - thompkl01': {'3pt_after_miss': 206, '3pt_after_make': 191, 'odds_after_miss': 0.5188916876574308, 'odds_after_make': 0.4811083123425693}, 'D. Lillard - lillada01': {'3pt_after_miss': 141, '3pt_after_make': 142, 'odds_after_miss': 0.49823321554770317, 'odds_after_make': 0.5017667844522968}, 'J. Harden - hardeja01': {'3pt_after_miss': 153, '3pt_after_make': 96, 'odds_after_miss': 0.6144578313253012, 'odds_after_make': 0.3855421686746988}, 'K. Lowry - lowryky01': {'3pt_after_miss': 175, '3pt_after_make': 120, 'odds_after_miss': 0.5932203389830508, 'odds_after_make': 0.4067796610169492}, 'J. Smith - smithjr01': {'3pt_after_miss': 213, '3pt_after_make': 192, 'odds_after_miss': 0.5259259259259259, 'odds_after_make': 0.4740740740740741}, 'P. George - georgpa01': {'3pt_after_miss': 133, '3pt_after_make': 86, 'odds_after_miss': 0.6073059360730594, 'odds_after_make': 0.3926940639269406}, 'K. Durant - duranke01': {'3pt_after_miss': 103, '3pt_after_make': 91, 'odds_after_miss': 0.5309278350515464, 'odds_after_make': 0.4690721649484536}, 'W. Matthews - matthwe02': {'3pt_after_miss': 188, '3pt_after_make': 126, 'odds_after_miss': 0.5987261146496815, 'odds_after_make': 0.4012738853503185}, 'K. Love - loveke01': {'3pt_after_miss': 119, '3pt_after_make': 104, 'odds_after_miss': 0.5336322869955157, 'odds_after_make': 0.4663677130044843}, 'K. Walker - walkeke02': {'3pt_after_miss': 94, '3pt_after_make': 73, 'odds_after_miss': 0.562874251497006, 'odds_after_make': 0.437125748502994}, 'C. McCollum - mccolcj01': {'3pt_after_miss': 65, '3pt_after_make': 82, 'odds_after_miss': 0.4421768707482993, 'odds_after_make': 0.5578231292517006}, 'T. Ariza - arizatr01': {'3pt_after_miss': 156, '3pt_after_make': 113, 'odds_after_miss': 0.5799256505576208, 'odds_after_make': 0.4200743494423792}, 'I. Thomas - thomais02': {'3pt_after_miss': 73, '3pt_after_make': 85, 'odds_after_miss': 0.4620253164556962, 'odds_after_make': 0.5379746835443038}, 'I. Canaan - canaais01': {'3pt_after_miss': 156, '3pt_after_make': 123, 'odds_after_miss': 0.5591397849462365, 'odds_after_make': 0.44086021505376344}, 'R. Covington - covinro01': {'3pt_after_miss': 167, '3pt_after_make': 127, 'odds_after_miss': 0.5680272108843537, 'odds_after_make': 0.43197278911564624}, 'K. Bryant - bryanko01': {'3pt_after_miss': 118, '3pt_after_make': 87, 'odds_after_miss': 0.5756097560975609, 'odds_after_make': 0.424390243902439}, 'M. Teletović - teletmi01': {'3pt_after_miss': 127, '3pt_after_make': 112, 'odds_after_miss': 0.5313807531380753, 'odds_after_make': 0.4686192468619247}, 'J. Redick - redicjj01': {'3pt_after_miss': 107, '3pt_after_make': 103, 'odds_after_miss': 0.5095238095238095, 'odds_after_make': 0.49047619047619045}, 'K. Korver - korveky01': {'3pt_after_miss': 159, '3pt_after_make': 101, 'odds_after_miss': 0.6115384615384616, 'odds_after_make': 0.38846153846153847}, 'R. Hood - hoodro01': {'3pt_after_miss': 119, '3pt_after_make': 78, 'odds_after_miss': 0.6040609137055838, 'odds_after_make': 0.39593908629441626}, 'R. Westbrook - westbru01': {'3pt_after_miss': 54, '3pt_after_make': 40, 'odds_after_miss': 0.574468085106383, 'odds_after_make': 0.425531914893617}, 'N. Batum - batumni01': {'3pt_after_miss': 88, '3pt_after_make': 82, 'odds_after_miss': 0.5176470588235295, 'odds_after_make': 0.4823529411764706}, 'A. Aminu - aminual01': {'3pt_after_miss': 108, '3pt_after_make': 76, 'odds_after_miss': 0.5869565217391305, 'odds_after_make': 0.41304347826086957}, 'A. Bradley - bradlav01': {'3pt_after_miss': 104, '3pt_after_make': 63, 'odds_after_miss': 0.6227544910179641, 'odds_after_make': 0.3772455089820359}, 'G. Hayward - haywago01': {'3pt_after_miss': 88, '3pt_after_make': 45, 'odds_after_miss': 0.6616541353383458, 'odds_after_make': 0.3383458646616541}, 'C. Miles - milescj01': {'3pt_after_miss': 115, '3pt_after_make': 98, 'odds_after_miss': 0.539906103286385, 'odds_after_make': 0.460093896713615}, 'J. Crowder - crowdja01': {'3pt_after_miss': 100, '3pt_after_make': 61, 'odds_after_miss': 0.6211180124223602, 'odds_after_make': 0.37888198757763975}, 'T. Ross - rosste01': {'3pt_after_miss': 96, '3pt_after_make': 94, 'odds_after_miss': 0.5052631578947369, 'odds_after_make': 0.49473684210526314}, 'D. Green - greenda02': {'3pt_after_miss': 131, '3pt_after_make': 85, 'odds_after_miss': 0.6064814814814815, 'odds_after_make': 0.39351851851851855}, 'M. Williams - willima02': {'3pt_after_miss': 93, '3pt_after_make': 77, 'odds_after_miss': 0.5470588235294118, 'odds_after_make': 0.45294117647058824}, 'K. Caldwell-Pope - caldwke01': {'3pt_after_miss': 88, '3pt_after_make': 65, 'odds_after_miss': 0.5751633986928104, 'odds_after_make': 0.42483660130718953}, 'H. Thompson - thompho01': {'3pt_after_miss': 124, '3pt_after_make': 77, 'odds_after_miss': 0.6169154228855721, 'odds_after_make': 0.38308457711442784}, 'E. Fournier - fournev01': {'3pt_after_miss': 71, '3pt_after_make': 57, 'odds_after_miss': 0.5546875, 'odds_after_make': 0.4453125}, 'M. Barnes - barnema02': {'3pt_after_miss': 94, '3pt_after_make': 72, 'odds_after_miss': 0.5662650602409639, 'odds_after_make': 0.43373493975903615}, 'L. James - jamesle01': {'3pt_after_miss': 32, '3pt_after_make': 52, 'odds_after_miss': 0.38095238095238093, 'odds_after_make': 0.6190476190476191}, 'K. Irving - irvinky01': {'3pt_after_miss': 48, '3pt_after_make': 50, 'odds_after_miss': 0.4897959183673469, 'odds_after_make': 0.5102040816326531}, 'D. Russell - russeda01': {'3pt_after_miss': 80, '3pt_after_make': 55, 'odds_after_miss': 0.5925925925925926, 'odds_after_make': 0.4074074074074074}, 'K. Bazemore - bazemke01': {'3pt_after_miss': 84, '3pt_after_make': 59, 'odds_after_miss': 0.5874125874125874, 'odds_after_make': 0.4125874125874126}, 'J. Crawford - crawfja01': {'3pt_after_miss': 67, '3pt_after_make': 55, 'odds_after_miss': 0.5491803278688525, 'odds_after_make': 0.45081967213114754}, 'P. Patterson - pattepa01': {'3pt_after_miss': 116, '3pt_after_make': 56, 'odds_after_miss': 0.6744186046511628, 'odds_after_make': 0.32558139534883723}, 'K. Middleton - middlkh01': {'3pt_after_miss': 58, '3pt_after_make': 55, 'odds_after_miss': 0.5132743362831859, 'odds_after_make': 0.48672566371681414}, 'D. Green - greendr01': {'3pt_after_miss': 42, '3pt_after_make': 54, 'odds_after_miss': 0.4375, 'odds_after_make': 0.5625}, 'J. Johnson - johnsjo02': {'3pt_after_miss': 64, '3pt_after_make': 44, 'odds_after_miss': 0.5925925925925926, 'odds_after_make': 0.4074074074074074}, 'R. Anderson - anderry01': {'3pt_after_miss': 73, '3pt_after_make': 47, 'odds_after_miss': 0.6083333333333333, 'odds_after_make': 0.39166666666666666}, 'P. Mills - millspa02': {'3pt_after_miss': 93, '3pt_after_make': 63, 'odds_after_miss': 0.5961538461538461, 'odds_after_make': 0.40384615384615385}, 'D. Nowitzki - nowitdi01': {'3pt_after_miss': 59, '3pt_after_make': 48, 'odds_after_miss': 0.5514018691588785, 'odds_after_make': 0.4485981308411215}, 'R. Jackson - jacksre01': {'3pt_after_miss': 37, '3pt_after_make': 35, 'odds_after_miss': 0.5138888888888888, 'odds_after_make': 0.4861111111111111}, 'B. Knight - knighbr03': {'3pt_after_miss': 75, '3pt_after_make': 46, 'odds_after_miss': 0.6198347107438017, 'odds_after_make': 0.38016528925619836}, 'C. Paul - paulch01': {'3pt_after_miss': 43, '3pt_after_make': 49, 'odds_after_miss': 0.4673913043478261, 'odds_after_make': 0.532608695652174}, 'N. Mirotić - mirotni01': {'3pt_after_miss': 97, '3pt_after_make': 78, 'odds_after_miss': 0.5542857142857143, 'odds_after_make': 0.44571428571428573}, 'G. Hill - hillge01': {'3pt_after_miss': 61, '3pt_after_make': 63, 'odds_after_miss': 0.49193548387096775, 'odds_after_make': 0.5080645161290323}, 'B. Bogdanović - bogdabo02': {'3pt_after_miss': 68, '3pt_after_make': 58, 'odds_after_miss': 0.5396825396825397, 'odds_after_make': 0.4603174603174603}, 'K. Leonard - leonaka01': {'3pt_after_miss': 32, '3pt_after_make': 47, 'odds_after_miss': 0.4050632911392405, 'odds_after_make': 0.5949367088607594}, 'J. Wall - walljo01': {'3pt_after_miss': 36, '3pt_after_make': 39, 'odds_after_miss': 0.48, 'odds_after_make': 0.52}, 'N. Stauskas - stausni01': {'3pt_after_miss': 104, '3pt_after_make': 62, 'odds_after_miss': 0.6265060240963856, 'odds_after_make': 0.37349397590361444}, 'W. Barton - bartowi01': {'3pt_after_miss': 48, '3pt_after_make': 40, 'odds_after_miss': 0.5454545454545454, 'odds_after_make': 0.45454545454545453}, 'P. Beverley - beverpa01': {'3pt_after_miss': 93, '3pt_after_make': 57, 'odds_after_miss': 0.62, 'odds_after_make': 0.38}, 'L. Williams - willilo02': {'3pt_after_miss': 68, '3pt_after_make': 51, 'odds_after_miss': 0.5714285714285714, 'odds_after_make': 0.42857142857142855}, 'A. Crabbe - crabbal01': {'3pt_after_miss': 60, '3pt_after_make': 55, 'odds_after_miss': 0.5217391304347826, 'odds_after_make': 0.4782608695652174}, 'W. Johnson - johnswe01': {'3pt_after_miss': 92, '3pt_after_make': 59, 'odds_after_miss': 0.609271523178808, 'odds_after_make': 0.39072847682119205}, 'J. Clarkson - clarkjo01': {'3pt_after_miss': 49, '3pt_after_make': 53, 'odds_after_miss': 0.4803921568627451, 'odds_after_make': 0.5196078431372549}, 'Z. LaVine - lavinza01': {'3pt_after_miss': 40, '3pt_after_make': 51, 'odds_after_miss': 0.43956043956043955, 'odds_after_make': 0.5604395604395604}, 'M. Morris - morrima03': {'3pt_after_miss': 44, '3pt_after_make': 35, 'odds_after_miss': 0.5569620253164557, 'odds_after_make': 0.4430379746835443}, 'L. Deng - denglu01': {'3pt_after_miss': 41, '3pt_after_make': 48, 'odds_after_miss': 0.4606741573033708, 'odds_after_make': 0.5393258426966292}, 'J. Teague - teaguje01': {'3pt_after_miss': 43, '3pt_after_make': 36, 'odds_after_miss': 0.5443037974683544, 'odds_after_make': 0.45569620253164556}, 'C. Anthony - anthoca01': {'3pt_after_miss': 35, '3pt_after_make': 37, 'odds_after_miss': 0.4861111111111111, 'odds_after_make': 0.5138888888888888}, 'M. Ellis - ellismo01': {'3pt_after_miss': 41, '3pt_after_make': 32, 'odds_after_miss': 0.5616438356164384, 'odds_after_make': 0.4383561643835616}, 'G. Harris - harriga01': {'3pt_after_miss': 58, '3pt_after_make': 40, 'odds_after_miss': 0.5918367346938775, 'odds_after_make': 0.40816326530612246}, 'D. Waiters - waitedi01': {'3pt_after_miss': 50, '3pt_after_make': 44, 'odds_after_miss': 0.5319148936170213, 'odds_after_make': 0.46808510638297873}, 'M. Belinelli - belinma01': {'3pt_after_miss': 72, '3pt_after_make': 54, 'odds_after_miss': 0.5714285714285714, 'odds_after_make': 0.42857142857142855}, 'E. Gordon - gordoer01': {'3pt_after_miss': 85, '3pt_after_make': 64, 'odds_after_miss': 0.5704697986577181, 'odds_after_make': 0.42953020134228187}, 'H. Barnes - barneha02': {'3pt_after_miss': 40, '3pt_after_make': 37, 'odds_after_miss': 0.5194805194805194, 'odds_after_make': 0.4805194805194805}, 'D. Booker - bookede01': {'3pt_after_miss': 50, '3pt_after_make': 44, 'odds_after_miss': 0.5319148936170213, 'odds_after_make': 0.46808510638297873}, 'D. Williams - willide01': {'3pt_after_miss': 49, '3pt_after_make': 43, 'odds_after_miss': 0.532608695652174, 'odds_after_make': 0.4673913043478261}, 'A. Horford - horfoal01': {'3pt_after_miss': 30, '3pt_after_make': 26, 'odds_after_miss': 0.5357142857142857, 'odds_after_make': 0.4642857142857143}, 'C. Frye - fryech01': {'3pt_after_miss': 75, '3pt_after_make': 73, 'odds_after_miss': 0.5067567567567568, 'odds_after_make': 0.49324324324324326}, 'V. Oladipo - oladivi01': {'3pt_after_miss': 35, '3pt_after_make': 25, 'odds_after_miss': 0.5833333333333334, 'odds_after_make': 0.4166666666666667}, 'J. Terry - terryja01': {'3pt_after_miss': 100, '3pt_after_make': 63, 'odds_after_miss': 0.6134969325153374, 'odds_after_make': 0.38650306748466257}, 'R. Foye - foyera01': {'3pt_after_miss': 67, '3pt_after_make': 47, 'odds_after_miss': 0.5877192982456141, 'odds_after_make': 0.41228070175438597}, 'O. Casspi - casspom01': {'3pt_after_miss': 56, '3pt_after_make': 40, 'odds_after_miss': 0.5833333333333334, 'odds_after_make': 0.4166666666666667}, 'A. Tolliver - tollian01': {'3pt_after_miss': 104, '3pt_after_make': 69, 'odds_after_miss': 0.6011560693641619, 'odds_after_make': 0.3988439306358382}, 'D. Schröder - schrode01': {'3pt_after_miss': 42, '3pt_after_make': 27, 'odds_after_miss': 0.6086956521739131, 'odds_after_make': 0.391304347826087}, 'G. Green - greenge01': {'3pt_after_miss': 69, '3pt_after_make': 43, 'odds_after_miss': 0.6160714285714286, 'odds_after_make': 0.38392857142857145}, 'M. Smart - smartma01': {'3pt_after_miss': 62, '3pt_after_make': 48, 'odds_after_miss': 0.5636363636363636, 'odds_after_make': 0.43636363636363634}, 'M. Thornton - thornma01': {'3pt_after_miss': 59, '3pt_after_make': 56, 'odds_after_miss': 0.5130434782608696, 'odds_after_make': 0.48695652173913045}, 'B. Beal - bealbr01': {'3pt_after_miss': 49, '3pt_after_make': 35, 'odds_after_miss': 0.5833333333333334, 'odds_after_make': 0.4166666666666667}, 'M. Dellavedova - dellama01': {'3pt_after_miss': 59, '3pt_after_make': 45, 'odds_after_miss': 0.5673076923076923, 'odds_after_make': 0.4326923076923077}, 'W. Ellington - ellinwa01': {'3pt_after_miss': 61, '3pt_after_make': 45, 'odds_after_miss': 0.5754716981132075, 'odds_after_make': 0.42452830188679247}, 'O. Porter - porteot01': {'3pt_after_miss': 40, '3pt_after_make': 48, 'odds_after_miss': 0.45454545454545453, 'odds_after_make': 0.5454545454545454}, 'J. Barea - bareajo01': {'3pt_after_miss': 43, '3pt_after_make': 38, 'odds_after_miss': 0.5308641975308642, 'odds_after_make': 0.4691358024691358}, 'P. Millsap - millspa01': {'3pt_after_miss': 21, '3pt_after_make': 25, 'odds_after_miss': 0.45652173913043476, 'odds_after_make': 0.5434782608695652}, 'D. McDermott - mcderdo01': {'3pt_after_miss': 42, '3pt_after_make': 43, 'odds_after_miss': 0.49411764705882355, 'odds_after_make': 0.5058823529411764}, 'J. Holiday - holidjr01': {'3pt_after_miss': 28, '3pt_after_make': 36, 'odds_after_miss': 0.4375, 'odds_after_make': 0.5625}, 'E. İlyasova - ilyaser01': {'3pt_after_miss': 52, '3pt_after_make': 35, 'odds_after_miss': 0.5977011494252874, 'odds_after_make': 0.40229885057471265}, 'G. Temple - templga01': {'3pt_after_miss': 55, '3pt_after_make': 51, 'odds_after_miss': 0.5188679245283019, 'odds_after_make': 0.4811320754716981}, 'T. Burke - burketr01': {'3pt_after_miss': 59, '3pt_after_make': 32, 'odds_after_miss': 0.6483516483516484, 'odds_after_make': 0.3516483516483517}, 'S. Ibaka - ibakase01': {'3pt_after_miss': 31, '3pt_after_make': 19, 'odds_after_miss': 0.62, 'odds_after_make': 0.38}, 'G. Dragić - dragigo01': {'3pt_after_miss': 25, '3pt_after_make': 27, 'odds_after_miss': 0.4807692307692308, 'odds_after_make': 0.5192307692307693}, 'T. Harris - harrito02': {'3pt_after_miss': 31, '3pt_after_make': 22, 'odds_after_miss': 0.5849056603773585, 'odds_after_make': 0.41509433962264153}, 'C. Parsons - parsoch01': {'3pt_after_miss': 44, '3pt_after_make': 41, 'odds_after_miss': 0.5176470588235295, 'odds_after_make': 0.4823529411764706}, 'P. Pierce - piercpa01': {'3pt_after_miss': 64, '3pt_after_make': 43, 'odds_after_miss': 0.5981308411214953, 'odds_after_make': 0.40186915887850466}, 'P. Hairston - hairspj02': {'3pt_after_miss': 62, '3pt_after_make': 46, 'odds_after_miss': 0.5740740740740741, 'odds_after_make': 0.42592592592592593}, 'K. Porziņģis - porzikr01': {'3pt_after_miss': 22, '3pt_after_make': 30, 'odds_after_miss': 0.4230769230769231, 'odds_after_make': 0.5769230769230769}, 'D. Gallinari - gallida01': {'3pt_after_miss': 40, '3pt_after_make': 32, 'odds_after_miss': 0.5555555555555556, 'odds_after_make': 0.4444444444444444}, 'J. Lin - linje01': {'3pt_after_miss': 42, '3pt_after_make': 16, 'odds_after_miss': 0.7241379310344828, 'odds_after_make': 0.27586206896551724}, 'J. Dudley - dudleja01': {'3pt_after_miss': 42, '3pt_after_make': 49, 'odds_after_miss': 0.46153846153846156, 'odds_after_make': 0.5384615384615384}, 'A. Afflalo - afflaar01': {'3pt_after_miss': 34, '3pt_after_make': 36, 'odds_after_miss': 0.4857142857142857, 'odds_after_make': 0.5142857142857142}, 'N. Young - youngni01': {'3pt_after_miss': 70, '3pt_after_make': 45, 'odds_after_miss': 0.6086956521739131, 'odds_after_make': 0.391304347826087}, 'C. Brewer - breweco01': {'3pt_after_miss': 51, '3pt_after_make': 29, 'odds_after_miss': 0.6375, 'odds_after_make': 0.3625}, 'E. Mudiay - mudiaem01': {'3pt_after_miss': 23, '3pt_after_make': 20, 'odds_after_miss': 0.5348837209302325, 'odds_after_make': 0.46511627906976744}, 'J. Bayless - bayleje01': {'3pt_after_miss': 64, '3pt_after_make': 50, 'odds_after_miss': 0.5614035087719298, 'odds_after_make': 0.43859649122807015}, 'M. Leonard - leoname01': {'3pt_after_miss': 60, '3pt_after_make': 39, 'odds_after_miss': 0.6060606060606061, 'odds_after_make': 0.3939393939393939}, 'C. Lee - leeco01': {'3pt_after_miss': 37, '3pt_after_make': 19, 'odds_after_miss': 0.6607142857142857, 'odds_after_make': 0.3392857142857143}, 'R. Felton - feltora01': {'3pt_after_miss': 43, '3pt_after_make': 27, 'odds_after_miss': 0.6142857142857143, 'odds_after_make': 0.38571428571428573}, 'L. Galloway - gallola01': {'3pt_after_miss': 38, '3pt_after_make': 34, 'odds_after_miss': 0.5277777777777778, 'odds_after_make': 0.4722222222222222}, 'J. Green - greenje02': {'3pt_after_miss': 30, '3pt_after_make': 21, 'odds_after_miss': 0.5882352941176471, 'odds_after_make': 0.4117647058823529}, 'C. Bosh - boshch01': {'3pt_after_miss': 30, '3pt_after_make': 20, 'odds_after_miss': 0.6, 'odds_after_make': 0.4}, 'A. Iguodala - iguodan01': {'3pt_after_miss': 42, '3pt_after_make': 31, 'odds_after_miss': 0.5753424657534246, 'odds_after_make': 0.4246575342465753}, 'F. Kaminsky - kaminfr01': {'3pt_after_miss': 49, '3pt_after_make': 23, 'odds_after_miss': 0.6805555555555556, 'odds_after_make': 0.3194444444444444}, 'A. Morrow - morroan01': {'3pt_after_miss': 57, '3pt_after_make': 48, 'odds_after_miss': 0.5428571428571428, 'odds_after_make': 0.45714285714285713}, 'D. Collison - collida01': {'3pt_after_miss': 32, '3pt_after_make': 19, 'odds_after_miss': 0.6274509803921569, 'odds_after_make': 0.37254901960784315}, 'R. Gay - gayru01': {'3pt_after_miss': 26, '3pt_after_make': 14, 'odds_after_miss': 0.65, 'odds_after_make': 0.35}, 'S. Johnson - johnsst04': {'3pt_after_miss': 34, '3pt_after_make': 27, 'odds_after_miss': 0.5573770491803278, 'odds_after_make': 0.4426229508196721}, 'M. Conley - conlemi01': {'3pt_after_miss': 28, '3pt_after_make': 23, 'odds_after_miss': 0.5490196078431373, 'odds_after_make': 0.45098039215686275}, 'K. Olynyk - olynyke01': {'3pt_after_miss': 34, '3pt_after_make': 35, 'odds_after_miss': 0.4927536231884058, 'odds_after_make': 0.5072463768115942}, 'J. Ingles - inglejo01': {'3pt_after_miss': 60, '3pt_after_make': 51, 'odds_after_miss': 0.5405405405405406, 'odds_after_make': 0.4594594594594595}, 'D. Cousins - couside01': {'3pt_after_miss': 13, '3pt_after_make': 18, 'odds_after_miss': 0.41935483870967744, 'odds_after_make': 0.5806451612903226}, 'J. Butler - butleji01': {'3pt_after_miss': 23, '3pt_after_make': 9, 'odds_after_miss': 0.71875, 'odds_after_make': 0.28125}, 'P. Tucker - tuckepj01': {'3pt_after_miss': 36, '3pt_after_make': 23, 'odds_after_miss': 0.6101694915254238, 'odds_after_make': 0.3898305084745763}, 'T. Douglas - douglto01': {'3pt_after_miss': 33, '3pt_after_make': 45, 'odds_after_miss': 0.4230769230769231, 'odds_after_make': 0.5769230769230769}, 'J. Calderón - caldejo01': {'3pt_after_miss': 48, '3pt_after_make': 36, 'odds_after_miss': 0.5714285714285714, 'odds_after_make': 0.42857142857142855}, 'A. Rivers - riverau01': {'3pt_after_miss': 25, '3pt_after_make': 27, 'odds_after_miss': 0.4807692307692308, 'odds_after_make': 0.5192307692307693}, 'R. Jefferson - jefferi01': {'3pt_after_miss': 46, '3pt_after_make': 30, 'odds_after_miss': 0.6052631578947368, 'odds_after_make': 0.39473684210526316}}, 2016: {'S. Curry - curryst01': {'3pt_after_miss': 246, '3pt_after_make': 212, 'odds_after_miss': 0.537117903930131, 'odds_after_make': 0.462882096069869}, 'J. Harden - hardeja01': {'3pt_after_miss': 250, '3pt_after_make': 161, 'odds_after_miss': 0.6082725060827251, 'odds_after_make': 0.39172749391727496}, 'K. Thompson - thompkl01': {'3pt_after_miss': 176, '3pt_after_make': 155, 'odds_after_miss': 0.5317220543806647, 'odds_after_make': 0.46827794561933533}, 'I. Thomas - thomais02': {'3pt_after_miss': 154, '3pt_after_make': 141, 'odds_after_miss': 0.5220338983050847, 'odds_after_make': 0.47796610169491527}, 'E. Gordon - gordoer01': {'3pt_after_miss': 251, '3pt_after_make': 174, 'odds_after_miss': 0.5905882352941176, 'odds_after_make': 0.40941176470588236}, 'B. Beal - bealbr01': {'3pt_after_miss': 149, '3pt_after_make': 106, 'odds_after_miss': 0.5843137254901961, 'odds_after_make': 0.41568627450980394}, 'R. Westbrook - westbru01': {'3pt_after_miss': 110, '3pt_after_make': 92, 'odds_after_miss': 0.5445544554455446, 'odds_after_make': 0.45544554455445546}, 'T. Ariza - arizatr01': {'3pt_after_miss': 233, '3pt_after_make': 148, 'odds_after_miss': 0.6115485564304461, 'odds_after_make': 0.3884514435695538}, 'D. Lillard - lillada01': {'3pt_after_miss': 99, '3pt_after_make': 116, 'odds_after_miss': 0.4604651162790698, 'odds_after_make': 0.5395348837209303}, 'K. Walker - walkeke02': {'3pt_after_miss': 104, '3pt_after_make': 103, 'odds_after_miss': 0.5024154589371981, 'odds_after_make': 0.4975845410628019}, 'R. Anderson - anderry01': {'3pt_after_miss': 197, '3pt_after_make': 132, 'odds_after_miss': 0.5987841945288754, 'odds_after_make': 0.4012158054711246}, 'K. Irving - irvinky01': {'3pt_after_miss': 74, '3pt_after_make': 74, 'odds_after_miss': 0.5, 'odds_after_make': 0.5}, 'P. George - georgpa01': {'3pt_after_miss': 100, '3pt_after_make': 83, 'odds_after_miss': 0.546448087431694, 'odds_after_make': 0.453551912568306}, 'K. Lowry - lowryky01': {'3pt_after_miss': 127, '3pt_after_make': 98, 'odds_after_miss': 0.5644444444444444, 'odds_after_make': 0.43555555555555553}, 'K. Love - loveke01': {'3pt_after_miss': 128, '3pt_after_make': 109, 'odds_after_miss': 0.540084388185654, 'odds_after_make': 0.459915611814346}, 'J. Redick - redicjj01': {'3pt_after_miss': 135, '3pt_after_make': 105, 'odds_after_miss': 0.5625, 'odds_after_make': 0.4375}, 'J. Crowder - crowdja01': {'3pt_after_miss': 118, '3pt_after_make': 89, 'odds_after_miss': 0.5700483091787439, 'odds_after_make': 0.42995169082125606}, 'L. Williams - willilo02': {'3pt_after_miss': 82, '3pt_after_make': 82, 'odds_after_miss': 0.5, 'odds_after_make': 0.5}, 'W. Matthews - matthwe02': {'3pt_after_miss': 141, '3pt_after_make': 107, 'odds_after_miss': 0.5685483870967742, 'odds_after_make': 0.4314516129032258}, 'C. McCollum - mccolcj01': {'3pt_after_miss': 60, '3pt_after_make': 57, 'odds_after_miss': 0.5128205128205128, 'odds_after_make': 0.48717948717948717}, 'T. Hardaway - hardati02': {'3pt_after_miss': 106, '3pt_after_make': 70, 'odds_after_miss': 0.6022727272727273, 'odds_after_make': 0.3977272727272727}, 'M. Conley - conlemi01': {'3pt_after_miss': 78, '3pt_after_make': 74, 'odds_after_miss': 0.5131578947368421, 'odds_after_make': 0.4868421052631579}, 'L. James - jamesle01': {'3pt_after_miss': 52, '3pt_after_make': 83, 'odds_after_miss': 0.3851851851851852, 'odds_after_make': 0.6148148148148148}, 'G. Hayward - haywago01': {'3pt_after_miss': 72, '3pt_after_make': 45, 'odds_after_miss': 0.6153846153846154, 'odds_after_make': 0.38461538461538464}, 'K. Leonard - leonaka01': {'3pt_after_miss': 54, '3pt_after_make': 61, 'odds_after_miss': 0.46956521739130436, 'odds_after_make': 0.5304347826086957}, 'P. Mills - millspa02': {'3pt_after_miss': 126, '3pt_after_make': 90, 'odds_after_miss': 0.5833333333333334, 'odds_after_make': 0.4166666666666667}, 'B. Bogdanović - bogdabo02': {'3pt_after_miss': 97, '3pt_after_make': 89, 'odds_after_miss': 0.521505376344086, 'odds_after_make': 0.478494623655914}, 'K. Caldwell-Pope - caldwke01': {'3pt_after_miss': 101, '3pt_after_make': 93, 'odds_after_miss': 0.520618556701031, 'odds_after_make': 0.4793814432989691}, 'K. Korver - korveky01': {'3pt_after_miss': 147, '3pt_after_make': 116, 'odds_after_miss': 0.55893536121673, 'odds_after_make': 0.44106463878326996}, 'C. Miles - milescj01': {'3pt_after_miss': 125, '3pt_after_make': 108, 'odds_after_miss': 0.5364806866952789, 'odds_after_make': 0.463519313304721}, 'C. Anthony - anthoca01': {'3pt_after_miss': 54, '3pt_after_make': 62, 'odds_after_miss': 0.46551724137931033, 'odds_after_make': 0.5344827586206896}, 'N. Young - youngni01': {'3pt_after_miss': 138, '3pt_after_make': 109, 'odds_after_miss': 0.5587044534412956, 'odds_after_make': 0.44129554655870445}, 'R. Covington - covinro01': {'3pt_after_miss': 127, '3pt_after_make': 78, 'odds_after_miss': 0.6195121951219512, 'odds_after_make': 0.3804878048780488}, 'N. Mirotić - mirotni01': {'3pt_after_miss': 139, '3pt_after_make': 85, 'odds_after_miss': 0.6205357142857143, 'odds_after_make': 0.3794642857142857}, 'E. İlyasova - ilyaser01': {'3pt_after_miss': 104, '3pt_after_make': 65, 'odds_after_miss': 0.6153846153846154, 'odds_after_make': 0.38461538461538464}, 'D. Booker - bookede01': {'3pt_after_miss': 60, '3pt_after_make': 51, 'odds_after_miss': 0.5405405405405406, 'odds_after_make': 0.4594594594594595}, 'N. Batum - batumni01': {'3pt_after_miss': 85, '3pt_after_make': 60, 'odds_after_miss': 0.5862068965517241, 'odds_after_make': 0.41379310344827586}, 'M. Smart - smartma01': {'3pt_after_miss': 88, '3pt_after_make': 81, 'odds_after_miss': 0.5207100591715976, 'odds_after_make': 0.47928994082840237}, 'K. Durant - duranke01': {'3pt_after_miss': 61, '3pt_after_make': 47, 'odds_after_miss': 0.5648148148148148, 'odds_after_make': 0.4351851851851852}, 'W. Ellington - ellinwa01': {'3pt_after_miss': 139, '3pt_after_make': 106, 'odds_after_miss': 0.5673469387755102, 'odds_after_make': 0.4326530612244898}, 'T. Ross - rosste01': {'3pt_after_miss': 109, '3pt_after_make': 82, 'odds_after_miss': 0.5706806282722513, 'odds_after_make': 0.4293193717277487}, 'A. Bradley - bradlav01': {'3pt_after_miss': 82, '3pt_after_make': 67, 'odds_after_miss': 0.5503355704697986, 'odds_after_make': 0.44966442953020136}, 'B. Lopez - lopezbr01': {'3pt_after_miss': 42, '3pt_after_make': 77, 'odds_after_miss': 0.35294117647058826, 'odds_after_make': 0.6470588235294118}, 'D. Green - greenda02': {'3pt_after_miss': 146, '3pt_after_make': 91, 'odds_after_miss': 0.6160337552742616, 'odds_after_make': 0.38396624472573837}, 'T. Snell - snellto01': {'3pt_after_miss': 125, '3pt_after_make': 90, 'odds_after_miss': 0.5813953488372093, 'odds_after_make': 0.4186046511627907}, 'D. Russell - russeda01': {'3pt_after_miss': 88, '3pt_after_make': 76, 'odds_after_miss': 0.5365853658536586, 'odds_after_make': 0.4634146341463415}, 'O. Porter - porteot01': {'3pt_after_miss': 69, '3pt_after_make': 81, 'odds_after_miss': 0.46, 'odds_after_make': 0.54}, 'B. Hield - hieldbu01': {'3pt_after_miss': 86, '3pt_after_make': 61, 'odds_after_miss': 0.5850340136054422, 'odds_after_make': 0.41496598639455784}, 'V. Oladipo - oladivi01': {'3pt_after_miss': 79, '3pt_after_make': 44, 'odds_after_miss': 0.6422764227642277, 'odds_after_make': 0.35772357723577236}, 'C. Frye - fryech01': {'3pt_after_miss': 104, '3pt_after_make': 97, 'odds_after_miss': 0.5174129353233831, 'odds_after_make': 0.48258706467661694}, 'T. Daniels - danietr01': {'3pt_after_miss': 135, '3pt_after_make': 88, 'odds_after_miss': 0.6053811659192825, 'odds_after_make': 0.39461883408071746}, 'D. Cousins - couside01': {'3pt_after_miss': 34, '3pt_after_make': 50, 'odds_after_miss': 0.40476190476190477, 'odds_after_make': 0.5952380952380952}, 'E. Fournier - fournev01': {'3pt_after_miss': 79, '3pt_after_make': 59, 'odds_after_miss': 0.572463768115942, 'odds_after_make': 0.427536231884058}, 'N. Stauskas - stausni01': {'3pt_after_miss': 107, '3pt_after_make': 62, 'odds_after_miss': 0.6331360946745562, 'odds_after_make': 0.3668639053254438}, 'M. Morris - morrima03': {'3pt_after_miss': 68, '3pt_after_make': 43, 'odds_after_miss': 0.6126126126126126, 'odds_after_make': 0.38738738738738737}, 'S. Ibaka - ibakase01': {'3pt_after_miss': 63, '3pt_after_make': 43, 'odds_after_miss': 0.5943396226415094, 'odds_after_make': 0.4056603773584906}, 'J. Clarkson - clarkjo01': {'3pt_after_miss': 58, '3pt_after_make': 63, 'odds_after_miss': 0.4793388429752066, 'odds_after_make': 0.5206611570247934}, 'R. Hood - hoodro01': {'3pt_after_miss': 89, '3pt_after_make': 66, 'odds_after_miss': 0.5741935483870968, 'odds_after_make': 0.4258064516129032}, 'F. Kaminsky - kaminfr01': {'3pt_after_miss': 78, '3pt_after_make': 49, 'odds_after_miss': 0.6141732283464567, 'odds_after_make': 0.3858267716535433}, 'M. Williams - willima02': {'3pt_after_miss': 89, '3pt_after_make': 52, 'odds_after_miss': 0.6312056737588653, 'odds_after_make': 0.36879432624113473}, 'J. Smith - smithjr01': {'3pt_after_miss': 143, '3pt_after_make': 99, 'odds_after_miss': 0.5909090909090909, 'odds_after_make': 0.4090909090909091}, 'J. Crawford - crawfja01': {'3pt_after_miss': 50, '3pt_after_make': 57, 'odds_after_miss': 0.4672897196261682, 'odds_after_make': 0.5327102803738317}, 'J. Murray - murraja01': {'3pt_after_miss': 81, '3pt_after_make': 55, 'odds_after_miss': 0.5955882352941176, 'odds_after_make': 0.40441176470588236}, 'D. Green - greendr01': {'3pt_after_miss': 59, '3pt_after_make': 63, 'odds_after_miss': 0.48360655737704916, 'odds_after_make': 0.5163934426229508}, 'D. Carroll - carrode01': {'3pt_after_miss': 100, '3pt_after_make': 71, 'odds_after_miss': 0.5847953216374269, 'odds_after_make': 0.4152046783625731}, 'D. Šarić - saricda01': {'3pt_after_miss': 70, '3pt_after_make': 36, 'odds_after_miss': 0.660377358490566, 'odds_after_make': 0.33962264150943394}, 'P. Beverley - beverpa01': {'3pt_after_miss': 100, '3pt_after_make': 69, 'odds_after_miss': 0.591715976331361, 'odds_after_make': 0.40828402366863903}, 'C. Paul - paulch01': {'3pt_after_miss': 54, '3pt_after_make': 52, 'odds_after_miss': 0.5094339622641509, 'odds_after_make': 0.49056603773584906}, 'D. Schröder - schrode01': {'3pt_after_miss': 34, '3pt_after_make': 28, 'odds_after_miss': 0.5483870967741935, 'odds_after_make': 0.45161290322580644}, 'J. Wall - walljo01': {'3pt_after_miss': 31, '3pt_after_make': 31, 'odds_after_miss': 0.5, 'odds_after_make': 0.5}, 'W. Chandler - chandwi01': {'3pt_after_miss': 52, '3pt_after_make': 52, 'odds_after_miss': 0.5, 'odds_after_make': 0.5}, 'D. Gallinari - gallida01': {'3pt_after_miss': 76, '3pt_after_make': 58, 'odds_after_miss': 0.5671641791044776, 'odds_after_make': 0.43283582089552236}, 'J. Ingles - inglejo01': {'3pt_after_miss': 85, '3pt_after_make': 74, 'odds_after_miss': 0.5345911949685535, 'odds_after_make': 0.46540880503144655}, 'S. Curry - curryse01': {'3pt_after_miss': 76, '3pt_after_make': 55, 'odds_after_miss': 0.5801526717557252, 'odds_after_make': 0.4198473282442748}, 'V. Carter - cartevi01': {'3pt_after_miss': 89, '3pt_after_make': 67, 'odds_after_miss': 0.5705128205128205, 'odds_after_make': 0.42948717948717946}, 'T. Harris - harrito02': {'3pt_after_miss': 39, '3pt_after_make': 29, 'odds_after_miss': 0.5735294117647058, 'odds_after_make': 0.4264705882352941}, 'A. Crabbe - crabbal01': {'3pt_after_miss': 67, '3pt_after_make': 60, 'odds_after_miss': 0.5275590551181102, 'odds_after_make': 0.47244094488188976}, 'K. Porziņģis - porzikr01': {'3pt_after_miss': 40, '3pt_after_make': 38, 'odds_after_miss': 0.5128205128205128, 'odds_after_make': 0.48717948717948717}, 'A. Rivers - riverau01': {'3pt_after_miss': 56, '3pt_after_make': 58, 'odds_after_miss': 0.49122807017543857, 'odds_after_make': 0.5087719298245614}, 'Z. LaVine - lavinza01': {'3pt_after_miss': 52, '3pt_after_make': 60, 'odds_after_miss': 0.4642857142857143, 'odds_after_make': 0.5357142857142857}, 'E. Bledsoe - bledser01': {'3pt_after_miss': 45, '3pt_after_make': 25, 'odds_after_miss': 0.6428571428571429, 'odds_after_make': 0.35714285714285715}, 'M. Teletović - teletmi01': {'3pt_after_miss': 108, '3pt_after_make': 76, 'odds_after_miss': 0.5869565217391305, 'odds_after_make': 0.41304347826086957}, 'S. Kilpatrick - kilpase01': {'3pt_after_miss': 79, '3pt_after_make': 32, 'odds_after_miss': 0.7117117117117117, 'odds_after_make': 0.2882882882882883}, 'L. Galloway - gallola01': {'3pt_after_miss': 92, '3pt_after_make': 71, 'odds_after_miss': 0.5644171779141104, 'odds_after_make': 0.43558282208588955}, 'J. Johnson - johnsjo02': {'3pt_after_miss': 63, '3pt_after_make': 46, 'odds_after_miss': 0.5779816513761468, 'odds_after_make': 0.42201834862385323}, 'M. Speights - speigma01': {'3pt_after_miss': 61, '3pt_after_make': 56, 'odds_after_miss': 0.5213675213675214, 'odds_after_make': 0.47863247863247865}, 'A. Horford - horfoal01': {'3pt_after_miss': 43, '3pt_after_make': 33, 'odds_after_miss': 0.5657894736842105, 'odds_after_make': 0.4342105263157895}, 'K. Bazemore - bazemke01': {'3pt_after_miss': 54, '3pt_after_make': 41, 'odds_after_miss': 0.5684210526315789, 'odds_after_make': 0.43157894736842106}, 'G. Dragić - dragigo01': {'3pt_after_miss': 29, '3pt_after_make': 33, 'odds_after_miss': 0.46774193548387094, 'odds_after_make': 0.532258064516129}, 'I. Shumpert - shumpim01': {'3pt_after_miss': 69, '3pt_after_make': 61, 'odds_after_miss': 0.5307692307692308, 'odds_after_make': 0.46923076923076923}, 'A. Wiggins - wiggian01': {'3pt_after_miss': 23, '3pt_after_make': 19, 'odds_after_miss': 0.5476190476190477, 'odds_after_make': 0.4523809523809524}, 'M. Belinelli - belinma01': {'3pt_after_miss': 55, '3pt_after_make': 57, 'odds_after_miss': 0.49107142857142855, 'odds_after_make': 0.5089285714285714}, 'M. Gasol - gasolma01': {'3pt_after_miss': 8, '3pt_after_make': 30, 'odds_after_miss': 0.21052631578947367, 'odds_after_make': 0.7894736842105263}, 'J. Holiday - holidjr01': {'3pt_after_miss': 29, '3pt_after_make': 42, 'odds_after_miss': 0.4084507042253521, 'odds_after_make': 0.5915492957746479}, 'P. Patterson - pattepa01': {'3pt_after_miss': 98, '3pt_after_make': 55, 'odds_after_miss': 0.6405228758169934, 'odds_after_make': 0.35947712418300654}, 'K. Towns - townska01': {'3pt_after_miss': 32, '3pt_after_make': 21, 'odds_after_miss': 0.6037735849056604, 'odds_after_make': 0.39622641509433965}, 'D. Augustin - augusdj01': {'3pt_after_miss': 70, '3pt_after_make': 52, 'odds_after_miss': 0.5737704918032787, 'odds_after_make': 0.4262295081967213}, 'J. Nelson - nelsoja01': {'3pt_after_miss': 61, '3pt_after_make': 48, 'odds_after_miss': 0.5596330275229358, 'odds_after_make': 0.44036697247706424}, 'J. Holiday - holidju01': {'3pt_after_miss': 65, '3pt_after_make': 49, 'odds_after_miss': 0.5701754385964912, 'odds_after_make': 0.4298245614035088}, 'M. Barnes - barnema02': {'3pt_after_miss': 73, '3pt_after_make': 52, 'odds_after_miss': 0.584, 'odds_after_make': 0.416}, 'S. Hill - hillso01': {'3pt_after_miss': 78, '3pt_after_make': 45, 'odds_after_miss': 0.6341463414634146, 'odds_after_make': 0.36585365853658536}, 'J. Teague - teaguje01': {'3pt_after_miss': 37, '3pt_after_make': 22, 'odds_after_miss': 0.6271186440677966, 'odds_after_make': 0.3728813559322034}, 'J. Butler - butleji01': {'3pt_after_miss': 21, '3pt_after_make': 17, 'odds_after_miss': 0.5526315789473685, 'odds_after_make': 0.4473684210526316}, 'A. Gordon - gordoaa01': {'3pt_after_miss': 46, '3pt_after_make': 25, 'odds_after_miss': 0.647887323943662, 'odds_after_make': 0.352112676056338}, 'C. Lee - leeco01': {'3pt_after_miss': 59, '3pt_after_make': 41, 'odds_after_miss': 0.59, 'odds_after_make': 0.41}, 'M. Ginóbili - ginobma01': {'3pt_after_miss': 59, '3pt_after_make': 42, 'odds_after_miss': 0.5841584158415841, 'odds_after_make': 0.4158415841584158}, 'D. Williams - willide01': {'3pt_after_miss': 34, '3pt_after_make': 46, 'odds_after_miss': 0.425, 'odds_after_make': 0.575}, 'G. Hill - hillge01': {'3pt_after_miss': 58, '3pt_after_make': 40, 'odds_after_miss': 0.5918367346938775, 'odds_after_make': 0.40816326530612246}, 'B. Jennings - jennibr01': {'3pt_after_miss': 54, '3pt_after_make': 43, 'odds_after_miss': 0.5567010309278351, 'odds_after_make': 0.44329896907216493}, 'Á. Abrines - abrinal01': {'3pt_after_miss': 98, '3pt_after_make': 59, 'odds_after_miss': 0.6242038216560509, 'odds_after_make': 0.37579617834394907}, 'P. Millsap - millspa01': {'3pt_after_miss': 12, '3pt_after_make': 25, 'odds_after_miss': 0.32432432432432434, 'odds_after_make': 0.6756756756756757}, 'J. Johnson - johnsja01': {'3pt_after_miss': 28, '3pt_after_make': 28, 'odds_after_miss': 0.5, 'odds_after_make': 0.5}, 'G. Harris - harriga01': {'3pt_after_miss': 52, '3pt_after_make': 44, 'odds_after_miss': 0.5416666666666666, 'odds_after_make': 0.4583333333333333}, 'S. Rodríguez - rodrise01': {'3pt_after_miss': 57, '3pt_after_make': 43, 'odds_after_miss': 0.57, 'odds_after_make': 0.43}, 'T. Johnson - johnsty01': {'3pt_after_miss': 32, '3pt_after_make': 37, 'odds_after_miss': 0.463768115942029, 'odds_after_make': 0.5362318840579711}, 'K. Olynyk - olynyke01': {'3pt_after_miss': 44, '3pt_after_make': 30, 'odds_after_miss': 0.5945945945945946, 'odds_after_make': 0.40540540540540543}, 'W. Barton - bartowi01': {'3pt_after_miss': 45, '3pt_after_make': 36, 'odds_after_miss': 0.5555555555555556, 'odds_after_make': 0.4444444444444444}, 'M. Morris - morrima02': {'3pt_after_miss': 23, '3pt_after_make': 19, 'odds_after_miss': 0.5476190476190477, 'odds_after_make': 0.4523809523809524}, 'M. Dellavedova - dellama01': {'3pt_after_miss': 43, '3pt_after_make': 36, 'odds_after_miss': 0.5443037974683544, 'odds_after_make': 0.45569620253164556}, 'A. Aminu - aminual01': {'3pt_after_miss': 62, '3pt_after_make': 35, 'odds_after_miss': 0.6391752577319587, 'odds_after_make': 0.36082474226804123}, 'A. Tolliver - tollian01': {'3pt_after_miss': 66, '3pt_after_make': 56, 'odds_after_miss': 0.5409836065573771, 'odds_after_make': 0.45901639344262296}, 'J. Richardson - richajo01': {'3pt_after_miss': 48, '3pt_after_make': 31, 'odds_after_miss': 0.6075949367088608, 'odds_after_make': 0.3924050632911392}, 'M. Chriss - chrisma01': {'3pt_after_miss': 32, '3pt_after_make': 26, 'odds_after_miss': 0.5517241379310345, 'odds_after_make': 0.4482758620689655}, 'P. Tucker - tuckepj01': {'3pt_after_miss': 40, '3pt_after_make': 32, 'odds_after_miss': 0.5555555555555556, 'odds_after_make': 0.4444444444444444}, 'G. Temple - templga01': {'3pt_after_miss': 66, '3pt_after_make': 36, 'odds_after_miss': 0.6470588235294118, 'odds_after_make': 0.35294117647058826}, 'H. Barnes - barneha02': {'3pt_after_miss': 13, '3pt_after_make': 16, 'odds_after_miss': 0.4482758620689655, 'odds_after_make': 0.5517241379310345}, 'J. Harris - harrijo01': {'3pt_after_miss': 62, '3pt_after_make': 42, 'odds_after_miss': 0.5961538461538461, 'odds_after_make': 0.40384615384615385}, 'D. McDermott - mcderdo01': {'3pt_after_miss': 45, '3pt_after_make': 38, 'odds_after_miss': 0.5421686746987951, 'odds_after_make': 0.4578313253012048}, 'R. McGruder - mcgruro01': {'3pt_after_miss': 48, '3pt_after_make': 43, 'odds_after_miss': 0.5274725274725275, 'odds_after_make': 0.4725274725274725}, 'A. Iguodala - iguodan01': {'3pt_after_miss': 58, '3pt_after_make': 30, 'odds_after_miss': 0.6590909090909091, 'odds_after_make': 0.3409090909090909}, 'K. Oubre - oubreke01': {'3pt_after_miss': 36, '3pt_after_make': 28, 'odds_after_miss': 0.5625, 'odds_after_make': 0.4375}, 'T. Rozier - roziete01': {'3pt_after_miss': 41, '3pt_after_make': 22, 'odds_after_miss': 0.6507936507936508, 'odds_after_make': 0.3492063492063492}, 'M. Leonard - leoname01': {'3pt_after_miss': 67, '3pt_after_make': 34, 'odds_after_miss': 0.6633663366336634, 'odds_after_make': 0.33663366336633666}, 'D. Waiters - waitedi01': {'3pt_after_miss': 38, '3pt_after_make': 30, 'odds_after_miss': 0.5588235294117647, 'odds_after_make': 0.4411764705882353}, 'M. Brogdon - brogdma01': {'3pt_after_miss': 28, '3pt_after_make': 30, 'odds_after_miss': 0.4827586206896552, 'odds_after_make': 0.5172413793103449}, 'D. Valentine - valende01': {'3pt_after_miss': 74, '3pt_after_make': 43, 'odds_after_miss': 0.6324786324786325, 'odds_after_make': 0.36752136752136755}, 'L. Babbitt - babbilu01': {'3pt_after_miss': 68, '3pt_after_make': 51, 'odds_after_miss': 0.5714285714285714, 'odds_after_make': 0.42857142857142855}, 'D. Nowitzki - nowitdi01': {'3pt_after_miss': 38, '3pt_after_make': 32, 'odds_after_miss': 0.5428571428571428, 'odds_after_make': 0.45714285714285713}, 'E. Moore - mooreet01': {'3pt_after_miss': 27, '3pt_after_make': 28, 'odds_after_miss': 0.4909090909090909, 'odds_after_make': 0.509090909090909}, 'T. Lyles - lylestr01': {'3pt_after_miss': 40, '3pt_after_make': 27, 'odds_after_miss': 0.5970149253731343, 'odds_after_make': 0.40298507462686567}, 'N. Powell - powelno01': {'3pt_after_miss': 33, '3pt_after_make': 24, 'odds_after_miss': 0.5789473684210527, 'odds_after_make': 0.42105263157894735}, 'M. Harkless - harklma01': {'3pt_after_miss': 19, '3pt_after_make': 26, 'odds_after_miss': 0.4222222222222222, 'odds_after_make': 0.5777777777777777}, 'R. Jefferson - jefferi01': {'3pt_after_miss': 43, '3pt_after_make': 28, 'odds_after_miss': 0.6056338028169014, 'odds_after_make': 0.39436619718309857}, 'J. Dudley - dudleja01': {'3pt_after_miss': 50, '3pt_after_make': 36, 'odds_after_miss': 0.5813953488372093, 'odds_after_make': 0.4186046511627907}, 'R. Foye - foyera01': {'3pt_after_miss': 52, '3pt_after_make': 40, 'odds_after_miss': 0.5652173913043478, 'odds_after_make': 0.43478260869565216}}, 2017: {'J. Harden - hardeja01': {'3pt_after_miss': 244, '3pt_after_make': 169, 'odds_after_miss': 0.5907990314769975, 'odds_after_make': 0.4092009685230024}, 'E. Gordon - gordoer01': {'3pt_after_miss': 250, '3pt_after_make': 163, 'odds_after_miss': 0.6053268765133172, 'odds_after_make': 0.3946731234866828}, 'K. Thompson - thompkl01': {'3pt_after_miss': 148, '3pt_after_make': 130, 'odds_after_miss': 0.5323741007194245, 'odds_after_make': 0.4676258992805755}, 'S. Curry - curryst01': {'3pt_after_miss': 183, '3pt_after_make': 163, 'odds_after_miss': 0.5289017341040463, 'odds_after_make': 0.47109826589595377}, 'P. George - georgpa01': {'3pt_after_miss': 147, '3pt_after_make': 135, 'odds_after_miss': 0.5212765957446809, 'odds_after_make': 0.4787234042553192}, 'K. Lowry - lowryky01': {'3pt_after_miss': 214, '3pt_after_make': 154, 'odds_after_miss': 0.5815217391304348, 'odds_after_make': 0.41847826086956524}, 'D. Lillard - lillada01': {'3pt_after_miss': 144, '3pt_after_make': 134, 'odds_after_miss': 0.5179856115107914, 'odds_after_make': 0.48201438848920863}, 'D. Mitchell - mitchdo01': {'3pt_after_miss': 122, '3pt_after_make': 92, 'odds_after_miss': 0.5700934579439252, 'odds_after_make': 0.42990654205607476}, 'W. Ellington - ellinwa01': {'3pt_after_miss': 249, '3pt_after_make': 197, 'odds_after_miss': 0.5582959641255605, 'odds_after_make': 0.44170403587443946}, 'K. Walker - walkeke02': {'3pt_after_miss': 133, '3pt_after_make': 98, 'odds_after_miss': 0.5757575757575758, 'odds_after_make': 0.42424242424242425}, 'R. Covington - covinro01': {'3pt_after_miss': 215, '3pt_after_make': 132, 'odds_after_miss': 0.6195965417867435, 'odds_after_make': 0.3804034582132565}, 'B. Beal - bealbr01': {'3pt_after_miss': 104, '3pt_after_make': 96, 'odds_after_miss': 0.52, 'odds_after_make': 0.48}, 'T. Ariza - arizatr01': {'3pt_after_miss': 209, '3pt_after_make': 126, 'odds_after_miss': 0.6238805970149254, 'odds_after_make': 0.3761194029850746}, 'K. Durant - duranke01': {'3pt_after_miss': 95, '3pt_after_make': 74, 'odds_after_miss': 0.5621301775147929, 'odds_after_make': 0.4378698224852071}, 'T. Rozier - roziete01': {'3pt_after_miss': 138, '3pt_after_make': 102, 'odds_after_miss': 0.575, 'odds_after_make': 0.425}, 'J. Ingles - inglejo01': {'3pt_after_miss': 142, '3pt_after_make': 151, 'odds_after_miss': 0.48464163822525597, 'odds_after_make': 0.515358361774744}, 'J. Redick - redicjj01': {'3pt_after_miss': 143, '3pt_after_make': 101, 'odds_after_miss': 0.5860655737704918, 'odds_after_make': 0.4139344262295082}, 'A. Crabbe - crabbal01': {'3pt_after_miss': 184, '3pt_after_make': 123, 'odds_after_miss': 0.5993485342019544, 'odds_after_make': 0.4006514657980456}, 'L. James - jamesle01': {'3pt_after_miss': 65, '3pt_after_make': 88, 'odds_after_miss': 0.42483660130718953, 'odds_after_make': 0.5751633986928104}, 'L. Williams - willilo02': {'3pt_after_miss': 107, '3pt_after_make': 85, 'odds_after_miss': 0.5572916666666666, 'odds_after_make': 0.4427083333333333}, 'C. McCollum - mccolcj01': {'3pt_after_miss': 75, '3pt_after_make': 64, 'odds_after_miss': 0.539568345323741, 'odds_after_make': 0.460431654676259}, 'C. Anthony - anthoca01': {'3pt_after_miss': 112, '3pt_after_make': 85, 'odds_after_miss': 0.5685279187817259, 'odds_after_make': 0.43147208121827413}, 'J. Smith - smithjr01': {'3pt_after_miss': 179, '3pt_after_make': 116, 'odds_after_miss': 0.6067796610169491, 'odds_after_make': 0.39322033898305087}, 'C. Miles - milescj01': {'3pt_after_miss': 192, '3pt_after_make': 130, 'odds_after_miss': 0.5962732919254659, 'odds_after_make': 0.40372670807453415}, 'V. Oladipo - oladivi01': {'3pt_after_miss': 92, '3pt_after_make': 58, 'odds_after_miss': 0.6133333333333333, 'odds_after_make': 0.38666666666666666}, 'K. Korver - korveky01': {'3pt_after_miss': 182, '3pt_after_make': 151, 'odds_after_miss': 0.5465465465465466, 'odds_after_make': 0.45345345345345345}, 'C. Paul - paulch01': {'3pt_after_miss': 113, '3pt_after_make': 94, 'odds_after_miss': 0.5458937198067633, 'odds_after_make': 0.45410628019323673}, 'T. Daniels - danietr01': {'3pt_after_miss': 180, '3pt_after_make': 140, 'odds_after_miss': 0.5625, 'odds_after_make': 0.4375}, 'T. Waller-Prince - princta02': {'3pt_after_miss': 112, '3pt_after_make': 87, 'odds_after_miss': 0.5628140703517588, 'odds_after_make': 0.4371859296482412}, 'D. Šarić - saricda01': {'3pt_after_miss': 105, '3pt_after_make': 68, 'odds_after_miss': 0.6069364161849711, 'odds_after_make': 0.3930635838150289}, 'J. Holiday - holidju01': {'3pt_after_miss': 154, '3pt_after_make': 88, 'odds_after_miss': 0.6363636363636364, 'odds_after_make': 0.36363636363636365}, 'P. Mills - millspa02': {'3pt_after_miss': 148, '3pt_after_make': 92, 'odds_after_miss': 0.6166666666666667, 'odds_after_make': 0.38333333333333336}, 'K. Middleton - middlkh01': {'3pt_after_miss': 72, '3pt_after_make': 53, 'odds_after_miss': 0.576, 'odds_after_make': 0.424}, 'T. Harris - harrito02': {'3pt_after_miss': 60, '3pt_after_make': 70, 'odds_after_miss': 0.46153846153846156, 'odds_after_make': 0.5384615384615384}, 'M. Belinelli - belinma01': {'3pt_after_miss': 125, '3pt_after_make': 88, 'odds_after_miss': 0.5868544600938967, 'odds_after_make': 0.4131455399061033}, 'J. Murray - murraja01': {'3pt_after_miss': 85, '3pt_after_make': 65, 'odds_after_miss': 0.5666666666666667, 'odds_after_make': 0.43333333333333335}, 'K. Love - loveke01': {'3pt_after_miss': 86, '3pt_after_make': 93, 'odds_after_miss': 0.48044692737430167, 'odds_after_make': 0.5195530726256983}, 'K. Kuzma - kuzmaky01': {'3pt_after_miss': 77, '3pt_after_make': 72, 'odds_after_miss': 0.5167785234899329, 'odds_after_make': 0.48322147651006714}, 'S. Dinwiddie - dinwisp01': {'3pt_after_miss': 115, '3pt_after_make': 90, 'odds_after_miss': 0.5609756097560976, 'odds_after_make': 0.43902439024390244}, 'B. Bogdanović - bogdabo02': {'3pt_after_miss': 84, '3pt_after_make': 90, 'odds_after_miss': 0.4827586206896552, 'odds_after_make': 0.5172413793103449}, 'W. Barton - bartowi01': {'3pt_after_miss': 75, '3pt_after_make': 79, 'odds_after_miss': 0.487012987012987, 'odds_after_make': 0.512987012987013}, 'J. Brown - brownja02': {'3pt_after_miss': 81, '3pt_after_make': 78, 'odds_after_miss': 0.5094339622641509, 'odds_after_make': 0.49056603773584906}, 'K. Caldwell-Pope - caldwke01': {'3pt_after_miss': 98, '3pt_after_make': 93, 'odds_after_miss': 0.5130890052356021, 'odds_after_make': 0.4869109947643979}, 'T. Hardaway - hardati02': {'3pt_after_miss': 114, '3pt_after_make': 70, 'odds_after_miss': 0.6195652173913043, 'odds_after_make': 0.3804347826086957}, 'N. Mirotić - mirotni01': {'3pt_after_miss': 101, '3pt_after_make': 88, 'odds_after_miss': 0.5343915343915344, 'odds_after_make': 0.4656084656084656}, 'B. Hield - hieldbu01': {'3pt_after_miss': 82, '3pt_after_make': 74, 'odds_after_miss': 0.5256410256410257, 'odds_after_make': 0.47435897435897434}, 'K. Irving - irvinky01': {'3pt_after_miss': 83, '3pt_after_make': 71, 'odds_after_miss': 0.538961038961039, 'odds_after_make': 0.461038961038961}, 'J. Crowder - crowdja01': {'3pt_after_miss': 109, '3pt_after_make': 71, 'odds_after_miss': 0.6055555555555555, 'odds_after_make': 0.39444444444444443}, 'J. Holiday - holidjr01': {'3pt_after_miss': 63, '3pt_after_make': 47, 'odds_after_miss': 0.5727272727272728, 'odds_after_make': 0.42727272727272725}, 'W. Matthews - matthwe02': {'3pt_after_miss': 112, '3pt_after_make': 105, 'odds_after_miss': 0.5161290322580645, 'odds_after_make': 0.4838709677419355}, 'L. Markkanen - markkla01': {'3pt_after_miss': 95, '3pt_after_make': 57, 'odds_after_miss': 0.625, 'odds_after_make': 0.375}, 'G. Harris - harriga01': {'3pt_after_miss': 83, '3pt_after_make': 70, 'odds_after_miss': 0.5424836601307189, 'odds_after_make': 0.45751633986928103}, 'D. Carroll - carrode01': {'3pt_after_miss': 90, '3pt_after_make': 65, 'odds_after_miss': 0.5806451612903226, 'odds_after_make': 0.41935483870967744}, 'K. Oubre - oubreke01': {'3pt_after_miss': 70, '3pt_after_make': 68, 'odds_after_miss': 0.5072463768115942, 'odds_after_make': 0.4927536231884058}, 'P. Tucker - tuckepj01': {'3pt_after_miss': 120, '3pt_after_make': 91, 'odds_after_miss': 0.5687203791469194, 'odds_after_make': 0.4312796208530806}, 'D. Booker - bookede01': {'3pt_after_miss': 72, '3pt_after_make': 61, 'odds_after_miss': 0.5413533834586466, 'odds_after_make': 0.45864661654135336}, 'D. Miller - milleda01': {'3pt_after_miss': 125, '3pt_after_make': 106, 'odds_after_miss': 0.5411255411255411, 'odds_after_make': 0.4588744588744589}, 'E. Bledsoe - bledser01': {'3pt_after_miss': 80, '3pt_after_make': 39, 'odds_after_miss': 0.6722689075630253, 'odds_after_make': 0.3277310924369748}, 'N. Young - youngni01': {'3pt_after_miss': 116, '3pt_after_make': 87, 'odds_after_miss': 0.5714285714285714, 'odds_after_make': 0.42857142857142855}, 'G. Green - greenge01': {'3pt_after_miss': 140, '3pt_after_make': 97, 'odds_after_miss': 0.5907172995780591, 'odds_after_make': 0.4092827004219409}, 'D. Valentine - valende01': {'3pt_after_miss': 84, '3pt_after_make': 79, 'odds_after_miss': 0.5153374233128835, 'odds_after_make': 0.48466257668711654}, 'A. Aminu - aminual01': {'3pt_after_miss': 108, '3pt_after_make': 70, 'odds_after_miss': 0.6067415730337079, 'odds_after_make': 0.39325842696629215}, 'R. Westbrook - westbru01': {'3pt_after_miss': 54, '3pt_after_make': 25, 'odds_after_miss': 0.6835443037974683, 'odds_after_make': 0.31645569620253167}, 'A. Tolliver - tollian01': {'3pt_after_miss': 111, '3pt_after_make': 117, 'odds_after_miss': 0.4868421052631579, 'odds_after_make': 0.5131578947368421}, 'J. Clarkson - clarkjo01': {'3pt_after_miss': 63, '3pt_after_make': 62, 'odds_after_miss': 0.504, 'odds_after_make': 0.496}, 'A. Rivers - riverau01': {'3pt_after_miss': 60, '3pt_after_make': 64, 'odds_after_miss': 0.4838709677419355, 'odds_after_make': 0.5161290322580645}, 'A. Wiggins - wiggian01': {'3pt_after_miss': 34, '3pt_after_make': 44, 'odds_after_miss': 0.4358974358974359, 'odds_after_make': 0.5641025641025641}, 'Y. Ferrell - ferreyo01': {'3pt_after_miss': 81, '3pt_after_make': 61, 'odds_after_miss': 0.5704225352112676, 'odds_after_make': 0.4295774647887324}, 'J. Harris - harrijo01': {'3pt_after_miss': 98, '3pt_after_make': 80, 'odds_after_miss': 0.550561797752809, 'odds_after_make': 0.449438202247191}, 'R. Hood - hoodro01': {'3pt_after_miss': 74, '3pt_after_make': 69, 'odds_after_miss': 0.5174825174825175, 'odds_after_make': 0.4825174825174825}, 'J. Richardson - richajo01': {'3pt_after_miss': 69, '3pt_after_make': 52, 'odds_after_miss': 0.5702479338842975, 'odds_after_make': 0.4297520661157025}, 'R. Anderson - anderry01': {'3pt_after_miss': 119, '3pt_after_make': 94, 'odds_after_miss': 0.5586854460093896, 'odds_after_make': 0.4413145539906103}, 'A. Gordon - gordoaa01': {'3pt_after_miss': 71, '3pt_after_make': 43, 'odds_after_miss': 0.6228070175438597, 'odds_after_make': 0.37719298245614036}, 'D. Green - greenda02': {'3pt_after_miss': 110, '3pt_after_make': 69, 'odds_after_miss': 0.6145251396648045, 'odds_after_make': 0.3854748603351955}, 'D. Smith - smithde03': {'3pt_after_miss': 42, '3pt_after_make': 47, 'odds_after_miss': 0.47191011235955055, 'odds_after_make': 0.5280898876404494}, 'D. Nowitzki - nowitdi01': {'3pt_after_miss': 82, '3pt_after_make': 59, 'odds_after_miss': 0.5815602836879432, 'odds_after_make': 0.41843971631205673}, 'E. Fournier - fournev01': {'3pt_after_miss': 66, '3pt_after_make': 65, 'odds_after_miss': 0.5038167938931297, 'odds_after_make': 0.4961832061068702}, 'D. Green - greendr01': {'3pt_after_miss': 80, '3pt_after_make': 42, 'odds_after_miss': 0.6557377049180327, 'odds_after_make': 0.3442622950819672}, 'T. Johnson - johnsty01': {'3pt_after_miss': 77, '3pt_after_make': 57, 'odds_after_miss': 0.5746268656716418, 'odds_after_make': 0.4253731343283582}, 'H. Barnes - barneha02': {'3pt_after_miss': 48, '3pt_after_make': 37, 'odds_after_miss': 0.5647058823529412, 'odds_after_make': 0.43529411764705883}, 'J. Crawford - crawfja01': {'3pt_after_miss': 66, '3pt_after_make': 44, 'odds_after_miss': 0.6, 'odds_after_make': 0.4}, 'B. Bogdanović - bogdabo01': {'3pt_after_miss': 86, '3pt_after_make': 53, 'odds_after_miss': 0.6187050359712231, 'odds_after_make': 0.381294964028777}, 'E. Moore - mooreet01': {'3pt_after_miss': 44, '3pt_after_make': 59, 'odds_after_miss': 0.42718446601941745, 'odds_after_make': 0.5728155339805825}, 'O. Porter - porteot01': {'3pt_after_miss': 45, '3pt_after_make': 67, 'odds_after_miss': 0.4017857142857143, 'odds_after_make': 0.5982142857142857}, 'B. Lopez - lopezbr01': {'3pt_after_miss': 47, '3pt_after_make': 68, 'odds_after_miss': 0.40869565217391307, 'odds_after_make': 0.591304347826087}, 'D. Bender - bendedr01': {'3pt_after_miss': 100, '3pt_after_make': 69, 'odds_after_miss': 0.591715976331361, 'odds_after_make': 0.40828402366863903}, 'B. Griffin - griffbl01': {'3pt_after_miss': 42, '3pt_after_make': 38, 'odds_after_miss': 0.525, 'odds_after_make': 0.475}, 'D. DeRozan - derozde01': {'3pt_after_miss': 36, '3pt_after_make': 35, 'odds_after_miss': 0.5070422535211268, 'odds_after_make': 0.49295774647887325}, 'S. Ibaka - ibakase01': {'3pt_after_miss': 64, '3pt_after_make': 33, 'odds_after_miss': 0.6597938144329897, 'odds_after_make': 0.3402061855670103}, 'G. Dragić - dragigo01': {'3pt_after_miss': 35, '3pt_after_make': 39, 'odds_after_miss': 0.47297297297297297, 'odds_after_make': 0.527027027027027}, 'M. Gasol - gasolma01': {'3pt_after_miss': 36, '3pt_after_make': 48, 'odds_after_miss': 0.42857142857142855, 'odds_after_make': 0.5714285714285714}, 'M. Smart - smartma01': {'3pt_after_miss': 86, '3pt_after_make': 55, 'odds_after_miss': 0.6099290780141844, 'odds_after_make': 0.3900709219858156}, 'J. Barea - bareajo01': {'3pt_after_miss': 72, '3pt_after_make': 57, 'odds_after_miss': 0.5581395348837209, 'odds_after_make': 0.4418604651162791}, 'J. Tatum - tatumja01': {'3pt_after_miss': 42, '3pt_after_make': 34, 'odds_after_miss': 0.5526315789473685, 'odds_after_make': 0.4473684210526316}, 'M. Morris - morrima03': {'3pt_after_miss': 62, '3pt_after_make': 39, 'odds_after_miss': 0.6138613861386139, 'odds_after_make': 0.38613861386138615}, 'M. Williams - willima02': {'3pt_after_miss': 79, '3pt_after_make': 63, 'odds_after_miss': 0.5563380281690141, 'odds_after_make': 0.44366197183098594}, 'R. Rubio - rubiori01': {'3pt_after_miss': 52, '3pt_after_make': 36, 'odds_after_miss': 0.5909090909090909, 'odds_after_make': 0.4090909090909091}, 'K. Olynyk - olynyke01': {'3pt_after_miss': 62, '3pt_after_make': 50, 'odds_after_miss': 0.5535714285714286, 'odds_after_make': 0.44642857142857145}, 'K. Towns - townska01': {'3pt_after_miss': 37, '3pt_after_make': 28, 'odds_after_miss': 0.5692307692307692, 'odds_after_make': 0.4307692307692308}, 'L. Ball - balllo01': {'3pt_after_miss': 89, '3pt_after_make': 48, 'odds_after_miss': 0.6496350364963503, 'odds_after_make': 0.35036496350364965}, 'D. Cousins - couside01': {'3pt_after_miss': 36, '3pt_after_make': 38, 'odds_after_miss': 0.4864864864864865, 'odds_after_make': 0.5135135135135135}, 'Q. Acy - acyqu01': {'3pt_after_miss': 122, '3pt_after_make': 72, 'odds_after_miss': 0.6288659793814433, 'odds_after_make': 0.3711340206185567}, 'F. VanVleet - vanvlfr01': {'3pt_after_miss': 59, '3pt_after_make': 57, 'odds_after_miss': 0.5086206896551724, 'odds_after_make': 0.49137931034482757}, 'T. Snell - snellto01': {'3pt_after_miss': 82, '3pt_after_make': 70, 'odds_after_miss': 0.5394736842105263, 'odds_after_make': 0.4605263157894737}, 'T. Evans - evansty01': {'3pt_after_miss': 37, '3pt_after_make': 47, 'odds_after_miss': 0.44047619047619047, 'odds_after_make': 0.5595238095238095}, 'E. İlyasova - ilyaser01': {'3pt_after_miss': 54, '3pt_after_make': 40, 'odds_after_miss': 0.574468085106383, 'odds_after_make': 0.425531914893617}, 'R. Bullock - bullore01': {'3pt_after_miss': 64, '3pt_after_make': 68, 'odds_after_miss': 0.48484848484848486, 'odds_after_make': 0.5151515151515151}, 'N. Jokić - jokicni01': {'3pt_after_miss': 40, '3pt_after_make': 38, 'odds_after_miss': 0.5128205128205128, 'odds_after_make': 0.48717948717948717}, 'C. Lee - leeco01': {'3pt_after_miss': 50, '3pt_after_make': 35, 'odds_after_miss': 0.5882352941176471, 'odds_after_make': 0.4117647058823529}, 'D. Russell - russeda01': {'3pt_after_miss': 55, '3pt_after_make': 61, 'odds_after_miss': 0.47413793103448276, 'odds_after_make': 0.5258620689655172}, 'N. Batum - batumni01': {'3pt_after_miss': 61, '3pt_after_make': 47, 'odds_after_miss': 0.5648148148148148, 'odds_after_make': 0.4351851851851852}, 'K. Bazemore - bazemke01': {'3pt_after_miss': 60, '3pt_after_make': 40, 'odds_after_miss': 0.6, 'odds_after_make': 0.4}, 'F. Kaminsky - kaminfr01': {'3pt_after_miss': 50, '3pt_after_make': 35, 'odds_after_miss': 0.5882352941176471, 'odds_after_make': 0.4117647058823529}, 'D. Augustin - augusdj01': {'3pt_after_miss': 54, '3pt_after_make': 50, 'odds_after_miss': 0.5192307692307693, 'odds_after_make': 0.4807692307692308}, 'A. Horford - horfoal01': {'3pt_after_miss': 35, '3pt_after_make': 23, 'odds_after_miss': 0.603448275862069, 'odds_after_make': 0.39655172413793105}, 'D. Bertāns - bertada01': {'3pt_after_miss': 75, '3pt_after_make': 64, 'odds_after_miss': 0.539568345323741, 'odds_after_make': 0.460431654676259}, 'M. Hezonja - hezonma01': {'3pt_after_miss': 55, '3pt_after_make': 41, 'odds_after_miss': 0.5729166666666666, 'odds_after_make': 0.4270833333333333}, 'D. Brooks - brookdi01': {'3pt_after_miss': 39, '3pt_after_make': 37, 'odds_after_miss': 0.5131578947368421, 'odds_after_make': 0.4868421052631579}, 'D. Schröder - schrode01': {'3pt_after_miss': 31, '3pt_after_make': 23, 'odds_after_miss': 0.5740740740740741, 'odds_after_make': 0.42592592592592593}, 'L. Stephenson - stephla01': {'3pt_after_miss': 37, '3pt_after_make': 32, 'odds_after_miss': 0.5362318840579711, 'odds_after_make': 0.463768115942029}, 'G. Hill - hillge01': {'3pt_after_miss': 46, '3pt_after_make': 41, 'odds_after_miss': 0.5287356321839081, 'odds_after_make': 0.47126436781609193}, 'J. Lamb - lambje01': {'3pt_after_miss': 38, '3pt_after_make': 30, 'odds_after_miss': 0.5588235294117647, 'odds_after_make': 0.4411764705882353}, 'J. Teague - teaguje01': {'3pt_after_miss': 43, '3pt_after_make': 28, 'odds_after_miss': 0.6056338028169014, 'odds_after_make': 0.39436619718309857}, 'W. Chandler - chandwi01': {'3pt_after_miss': 41, '3pt_after_make': 36, 'odds_after_miss': 0.5324675324675324, 'odds_after_make': 0.4675324675324675}, 'C. LeVert - leverca01': {'3pt_after_miss': 34, '3pt_after_make': 28, 'odds_after_miss': 0.5483870967741935, 'odds_after_make': 0.45161290322580644}, 'R. Felton - feltora01': {'3pt_after_miss': 48, '3pt_after_make': 48, 'odds_after_miss': 0.5, 'odds_after_make': 0.5}, 'J. Embiid - embiijo01': {'3pt_after_miss': 29, '3pt_after_make': 21, 'odds_after_miss': 0.58, 'odds_after_make': 0.42}, 'M. Monk - monkma01': {'3pt_after_miss': 68, '3pt_after_make': 48, 'odds_after_miss': 0.5862068965517241, 'odds_after_make': 0.41379310344827586}, 'J. Green - greenje02': {'3pt_after_miss': 38, '3pt_after_make': 28, 'odds_after_miss': 0.5757575757575758, 'odds_after_make': 0.42424242424242425}, 'B. Forbes - forbebr01': {'3pt_after_miss': 55, '3pt_after_make': 32, 'odds_after_miss': 0.632183908045977, 'odds_after_make': 0.367816091954023}, 'S. Johnson - johnsst04': {'3pt_after_miss': 44, '3pt_after_make': 26, 'odds_after_miss': 0.6285714285714286, 'odds_after_make': 0.37142857142857144}, 'Á. Abrines - abrinal01': {'3pt_after_miss': 86, '3pt_after_make': 47, 'odds_after_miss': 0.6466165413533834, 'odds_after_make': 0.3533834586466165}, 'M. Speights - speigma01': {'3pt_after_miss': 60, '3pt_after_make': 65, 'odds_after_miss': 0.48, 'odds_after_make': 0.52}, 'M. Teodosić - teodomi01': {'3pt_after_miss': 70, '3pt_after_make': 56, 'odds_after_miss': 0.5555555555555556, 'odds_after_make': 0.4444444444444444}, 'K. Porziņģis - porzikr01': {'3pt_after_miss': 25, '3pt_after_make': 31, 'odds_after_miss': 0.44642857142857145, 'odds_after_make': 0.5535714285714286}, 'D. Collison - collida01': {'3pt_after_miss': 23, '3pt_after_make': 36, 'odds_after_miss': 0.3898305084745763, 'odds_after_make': 0.6101694915254238}, 'D. Harris - harride01': {'3pt_after_miss': 52, '3pt_after_make': 45, 'odds_after_miss': 0.5360824742268041, 'odds_after_make': 0.4639175257731959}, 'G. Temple - templga01': {'3pt_after_miss': 59, '3pt_after_make': 39, 'odds_after_miss': 0.6020408163265306, 'odds_after_make': 0.3979591836734694}, 'O. Anunoby - anunoog01': {'3pt_after_miss': 59, '3pt_after_make': 43, 'odds_after_miss': 0.5784313725490197, 'odds_after_make': 0.4215686274509804}, 'B. Portis - portibo01': {'3pt_after_miss': 17, '3pt_after_make': 32, 'odds_after_miss': 0.3469387755102041, 'odds_after_make': 0.6530612244897959}, 'I. Clark - clarkia01': {'3pt_after_miss': 45, '3pt_after_make': 30, 'odds_after_miss': 0.6, 'odds_after_make': 0.4}, 'S. Napier - napiesh01': {'3pt_after_miss': 54, '3pt_after_make': 25, 'odds_after_miss': 0.6835443037974683, 'odds_after_make': 0.31645569620253167}, 'P. Connaughton - connapa01': {'3pt_after_miss': 57, '3pt_after_make': 34, 'odds_after_miss': 0.6263736263736264, 'odds_after_make': 0.37362637362637363}, 'M. Morris - morrima02': {'3pt_after_miss': 36, '3pt_after_make': 21, 'odds_after_miss': 0.631578947368421, 'odds_after_make': 0.3684210526315789}, 'T. Lyles - lylestr01': {'3pt_after_miss': 36, '3pt_after_make': 45, 'odds_after_miss': 0.4444444444444444, 'odds_after_make': 0.5555555555555556}, 'L. Galloway - gallola01': {'3pt_after_miss': 63, '3pt_after_make': 47, 'odds_after_miss': 0.5727272727272728, 'odds_after_make': 0.42727272727272725}, 'J. Jackson - jacksjo02': {'3pt_after_miss': 34, '3pt_after_make': 15, 'odds_after_miss': 0.6938775510204082, 'odds_after_make': 0.30612244897959184}, 'J. Butler - butleji01': {'3pt_after_miss': 26, '3pt_after_make': 19, 'odds_after_miss': 0.5777777777777777, 'odds_after_make': 0.4222222222222222}, 'D. McDermott - mcderdo01': {'3pt_after_miss': 38, '3pt_after_make': 37, 'odds_after_miss': 0.5066666666666667, 'odds_after_make': 0.49333333333333335}, 'M. Ginóbili - ginobma01': {'3pt_after_miss': 46, '3pt_after_make': 34, 'odds_after_miss': 0.575, 'odds_after_make': 0.425}, 'J. Meeks - meeksjo01': {'3pt_after_miss': 59, '3pt_after_make': 33, 'odds_after_miss': 0.6413043478260869, 'odds_after_make': 0.358695652173913}, 'N. Vučević - vucevni01': {'3pt_after_miss': 12, '3pt_after_make': 15, 'odds_after_miss': 0.4444444444444444, 'odds_after_make': 0.5555555555555556}, 'J. Simmons - simmojo02': {'3pt_after_miss': 30, '3pt_after_make': 19, 'odds_after_miss': 0.6122448979591837, 'odds_after_make': 0.3877551020408163}, 'A. Bradley - bradlav01': {'3pt_after_miss': 34, '3pt_after_make': 26, 'odds_after_miss': 0.5666666666666667, 'odds_after_make': 0.43333333333333335}, 'C. Joseph - josepco01': {'3pt_after_miss': 28, '3pt_after_make': 28, 'odds_after_miss': 0.5, 'odds_after_make': 0.5}}, 2018: {'J. Harden - hardeja01': {'3pt_after_miss': 351, '3pt_after_make': 255, 'odds_after_miss': 0.5792079207920792, 'odds_after_make': 0.4207920792079208}, 'S. Curry - curryst01': {'3pt_after_miss': 304, '3pt_after_make': 257, 'odds_after_miss': 0.5418894830659536, 'odds_after_make': 0.45811051693404636}, 'P. George - georgpa01': {'3pt_after_miss': 210, '3pt_after_make': 149, 'odds_after_miss': 0.584958217270195, 'odds_after_make': 0.415041782729805}, 'D. Lillard - lillada01': {'3pt_after_miss': 156, '3pt_after_make': 157, 'odds_after_miss': 0.4984025559105431, 'odds_after_make': 0.5015974440894568}, 'K. Thompson - thompkl01': {'3pt_after_miss': 172, '3pt_after_make': 146, 'odds_after_miss': 0.5408805031446541, 'odds_after_make': 0.4591194968553459}, 'K. Walker - walkeke02': {'3pt_after_miss': 165, '3pt_after_make': 110, 'odds_after_miss': 0.6, 'odds_after_make': 0.4}, 'E. Gordon - gordoer01': {'3pt_after_miss': 235, '3pt_after_make': 167, 'odds_after_miss': 0.5845771144278606, 'odds_after_make': 0.4154228855721393}, 'J. Redick - redicjj01': {'3pt_after_miss': 237, '3pt_after_make': 137, 'odds_after_miss': 0.6336898395721925, 'odds_after_make': 0.3663101604278075}, 'D. Russell - russeda01': {'3pt_after_miss': 134, '3pt_after_make': 149, 'odds_after_miss': 0.4734982332155477, 'odds_after_make': 0.5265017667844523}, 'B. Hield - hieldbu01': {'3pt_after_miss': 161, '3pt_after_make': 133, 'odds_after_miss': 0.5476190476190477, 'odds_after_make': 0.4523809523809524}, 'T. Ross - rosste01': {'3pt_after_miss': 182, '3pt_after_make': 149, 'odds_after_miss': 0.5498489425981873, 'odds_after_make': 0.4501510574018127}, 'B. Beal - bealbr01': {'3pt_after_miss': 125, '3pt_after_make': 96, 'odds_after_miss': 0.5656108597285068, 'odds_after_make': 0.4343891402714932}, 'K. Lowry - lowryky01': {'3pt_after_miss': 197, '3pt_after_make': 110, 'odds_after_miss': 0.6416938110749185, 'odds_after_make': 0.3583061889250814}, 'B. Lopez - lopezbr01': {'3pt_after_miss': 199, '3pt_after_make': 147, 'odds_after_miss': 0.5751445086705202, 'odds_after_make': 0.42485549132947975}, 'K. Middleton - middlkh01': {'3pt_after_miss': 108, '3pt_after_make': 102, 'odds_after_miss': 0.5142857142857142, 'odds_after_make': 0.4857142857142857}, 'D. Mitchell - mitchdo01': {'3pt_after_miss': 103, '3pt_after_make': 77, 'odds_after_miss': 0.5722222222222222, 'odds_after_make': 0.42777777777777776}, 'C. McCollum - mccolcj01': {'3pt_after_miss': 76, '3pt_after_make': 93, 'odds_after_miss': 0.44970414201183434, 'odds_after_make': 0.5502958579881657}, 'D. Green - greenda02': {'3pt_after_miss': 194, '3pt_after_make': 157, 'odds_after_miss': 0.5527065527065527, 'odds_after_make': 0.4472934472934473}, 'J. Crowder - crowdja01': {'3pt_after_miss': 187, '3pt_after_make': 114, 'odds_after_miss': 0.6212624584717608, 'odds_after_make': 0.3787375415282392}, 'B. Griffin - griffbl01': {'3pt_after_miss': 97, '3pt_after_make': 84, 'odds_after_miss': 0.5359116022099447, 'odds_after_make': 0.46408839779005523}, 'L. Dončić - doncilu01': {'3pt_after_miss': 101, '3pt_after_make': 87, 'odds_after_miss': 0.5372340425531915, 'odds_after_make': 0.4627659574468085}, 'J. Ingles - inglejo01': {'3pt_after_miss': 152, '3pt_after_make': 122, 'odds_after_miss': 0.5547445255474452, 'odds_after_make': 0.44525547445255476}, 'J. Murray - murraja01': {'3pt_after_miss': 82, '3pt_after_make': 60, 'odds_after_miss': 0.5774647887323944, 'odds_after_make': 0.4225352112676056}, 'K. Irving - irvinky01': {'3pt_after_miss': 86, '3pt_after_make': 71, 'odds_after_miss': 0.5477707006369427, 'odds_after_make': 0.45222929936305734}, 'R. Jackson - jacksre01': {'3pt_after_miss': 117, '3pt_after_make': 82, 'odds_after_miss': 0.5879396984924623, 'odds_after_make': 0.4120603015075377}, 'E. Fournier - fournev01': {'3pt_after_miss': 119, '3pt_after_make': 66, 'odds_after_miss': 0.6432432432432432, 'odds_after_make': 0.3567567567567568}, 'T. Young - youngtr01': {'3pt_after_miss': 101, '3pt_after_make': 55, 'odds_after_miss': 0.6474358974358975, 'odds_after_make': 0.3525641025641026}, 'T. Hardaway - hardati02': {'3pt_after_miss': 110, '3pt_after_make': 82, 'odds_after_miss': 0.5729166666666666, 'odds_after_make': 0.4270833333333333}, 'G. Green - greenge01': {'3pt_after_miss': 184, '3pt_after_make': 121, 'odds_after_miss': 0.6032786885245902, 'odds_after_make': 0.39672131147540984}, 'K. Durant - duranke01': {'3pt_after_miss': 72, '3pt_after_make': 61, 'odds_after_miss': 0.5413533834586466, 'odds_after_make': 0.45864661654135336}, 'J. Holiday - holidju01': {'3pt_after_miss': 154, '3pt_after_make': 99, 'odds_after_miss': 0.6086956521739131, 'odds_after_make': 0.391304347826087}, 'J. Richardson - richajo01': {'3pt_after_miss': 102, '3pt_after_make': 74, 'odds_after_miss': 0.5795454545454546, 'odds_after_make': 0.42045454545454547}, 'T. Harris - harrito02': {'3pt_after_miss': 77, '3pt_after_make': 53, 'odds_after_miss': 0.5923076923076923, 'odds_after_make': 0.4076923076923077}, 'M. Beasley - beaslma01': {'3pt_after_miss': 109, '3pt_after_make': 103, 'odds_after_miss': 0.5141509433962265, 'odds_after_make': 0.4858490566037736}, 'E. Bledsoe - bledser01': {'3pt_after_miss': 92, '3pt_after_make': 54, 'odds_after_miss': 0.6301369863013698, 'odds_after_make': 0.3698630136986301}, 'R. Westbrook - westbru01': {'3pt_after_miss': 87, '3pt_after_make': 43, 'odds_after_miss': 0.6692307692307692, 'odds_after_make': 0.33076923076923076}, 'J. Clarkson - clarkjo01': {'3pt_after_miss': 84, '3pt_after_make': 86, 'odds_after_miss': 0.49411764705882355, 'odds_after_make': 0.5058823529411764}, 'B. Forbes - forbebr01': {'3pt_after_miss': 112, '3pt_after_make': 91, 'odds_after_miss': 0.5517241379310345, 'odds_after_make': 0.4482758620689655}, 'P. Tucker - tuckepj01': {'3pt_after_miss': 152, '3pt_after_make': 118, 'odds_after_miss': 0.562962962962963, 'odds_after_make': 0.43703703703703706}, 'K. Leonard - leonaka01': {'3pt_after_miss': 62, '3pt_after_make': 52, 'odds_after_miss': 0.543859649122807, 'odds_after_make': 0.45614035087719296}, 'H. Barnes - barneha02': {'3pt_after_miss': 81, '3pt_after_make': 85, 'odds_after_miss': 0.4879518072289157, 'odds_after_make': 0.5120481927710844}, 'K. Caldwell-Pope - caldwke01': {'3pt_after_miss': 133, '3pt_after_make': 96, 'odds_after_miss': 0.5807860262008734, 'odds_after_make': 0.4192139737991266}, 'T. Ariza - arizatr01': {'3pt_after_miss': 139, '3pt_after_make': 90, 'odds_after_miss': 0.6069868995633187, 'odds_after_make': 0.3930131004366812}, 'M. Morris - morrima03': {'3pt_after_miss': 108, '3pt_after_make': 74, 'odds_after_miss': 0.5934065934065934, 'odds_after_make': 0.4065934065934066}, 'L. Shamet - shamela01': {'3pt_after_miss': 137, '3pt_after_make': 115, 'odds_after_miss': 0.5436507936507936, 'odds_after_make': 0.45634920634920634}, 'P. Mills - millspa02': {'3pt_after_miss': 124, '3pt_after_make': 102, 'odds_after_miss': 0.5486725663716814, 'odds_after_make': 0.45132743362831856}, 'M. Conley - conlemi01': {'3pt_after_miss': 73, '3pt_after_make': 68, 'odds_after_miss': 0.5177304964539007, 'odds_after_make': 0.48226950354609927}, 'W. Matthews - matthwe02': {'3pt_after_miss': 116, '3pt_after_make': 98, 'odds_after_miss': 0.5420560747663551, 'odds_after_make': 0.45794392523364486}, 'K. Kuzma - kuzmaky01': {'3pt_after_miss': 77, '3pt_after_make': 60, 'odds_after_miss': 0.5620437956204379, 'odds_after_make': 0.43795620437956206}, 'C. Paul - paulch01': {'3pt_after_miss': 109, '3pt_after_make': 84, 'odds_after_miss': 0.5647668393782384, 'odds_after_make': 0.43523316062176165}, 'M. Belinelli - belinma01': {'3pt_after_miss': 118, '3pt_after_make': 99, 'odds_after_miss': 0.543778801843318, 'odds_after_make': 0.45622119815668205}, 'D. Gallinari - gallida01': {'3pt_after_miss': 85, '3pt_after_make': 73, 'odds_after_miss': 0.5379746835443038, 'odds_after_make': 0.4620253164556962}, 'D. Booker - bookede01': {'3pt_after_miss': 71, '3pt_after_make': 46, 'odds_after_miss': 0.6068376068376068, 'odds_after_make': 0.39316239316239315}, 'B. Bogdanović - bogdabo02': {'3pt_after_miss': 61, '3pt_after_make': 70, 'odds_after_miss': 0.46564885496183206, 'odds_after_make': 0.5343511450381679}, 'J. Harris - harrijo01': {'3pt_after_miss': 89, '3pt_after_make': 104, 'odds_after_miss': 0.46113989637305697, 'odds_after_make': 0.538860103626943}, 'L. Galloway - gallola01': {'3pt_after_miss': 131, '3pt_after_make': 86, 'odds_after_miss': 0.6036866359447005, 'odds_after_make': 0.39631336405529954}, 'W. Ellington - ellinwa01': {'3pt_after_miss': 163, '3pt_after_make': 118, 'odds_after_miss': 0.5800711743772242, 'odds_after_make': 0.4199288256227758}, 'S. Dinwiddie - dinwisp01': {'3pt_after_miss': 105, '3pt_after_make': 73, 'odds_after_miss': 0.5898876404494382, 'odds_after_make': 0.4101123595505618}, 'N. Mirotić - mirotni01': {'3pt_after_miss': 122, '3pt_after_make': 85, 'odds_after_miss': 0.5893719806763285, 'odds_after_make': 0.4106280193236715}, 'R. Bullock - bullore01': {'3pt_after_miss': 132, '3pt_after_make': 93, 'odds_after_miss': 0.5866666666666667, 'odds_after_make': 0.41333333333333333}, 'D. Schröder - schrode01': {'3pt_after_miss': 66, '3pt_after_make': 54, 'odds_after_miss': 0.55, 'odds_after_make': 0.45}, 'F. VanVleet - vanvlfr01': {'3pt_after_miss': 99, '3pt_after_make': 74, 'odds_after_miss': 0.5722543352601156, 'odds_after_make': 0.4277456647398844}, 'M. Williams - willima02': {'3pt_after_miss': 120, '3pt_after_make': 74, 'odds_after_miss': 0.6185567010309279, 'odds_after_make': 0.38144329896907214}, 'C. Osman - osmande01': {'3pt_after_miss': 80, '3pt_after_make': 48, 'odds_after_miss': 0.625, 'odds_after_make': 0.375}, 'B. Bogdanović - bogdabo01': {'3pt_after_miss': 91, '3pt_after_make': 58, 'odds_after_miss': 0.610738255033557, 'odds_after_make': 0.38926174496644295}, 'T. Rozier - roziete01': {'3pt_after_miss': 92, '3pt_after_make': 68, 'odds_after_miss': 0.575, 'odds_after_make': 0.425}, 'A. Gordon - gordoaa01': {'3pt_after_miss': 69, '3pt_after_make': 38, 'odds_after_miss': 0.6448598130841121, 'odds_after_make': 0.35514018691588783}, 'D. Miller - milleda01': {'3pt_after_miss': 140, '3pt_after_make': 89, 'odds_after_miss': 0.611353711790393, 'odds_after_make': 0.388646288209607}, 'K. Knox - knoxke01': {'3pt_after_miss': 58, '3pt_after_make': 49, 'odds_after_miss': 0.5420560747663551, 'odds_after_make': 0.45794392523364486}, 'J. Holiday - holidjr01': {'3pt_after_miss': 56, '3pt_after_make': 49, 'odds_after_miss': 0.5333333333333333, 'odds_after_make': 0.4666666666666667}, 'A. Rivers - riverau01': {'3pt_after_miss': 99, '3pt_after_make': 67, 'odds_after_miss': 0.5963855421686747, 'odds_after_make': 0.4036144578313253}, 'M. Gasol - gasolma01': {'3pt_after_miss': 56, '3pt_after_make': 51, 'odds_after_miss': 0.5233644859813084, 'odds_after_make': 0.4766355140186916}, 'M. Smart - smartma01': {'3pt_after_miss': 111, '3pt_after_make': 95, 'odds_after_miss': 0.5388349514563107, 'odds_after_make': 0.46116504854368934}, 'K. Towns - townska01': {'3pt_after_miss': 41, '3pt_after_make': 30, 'odds_after_miss': 0.5774647887323944, 'odds_after_make': 0.4225352112676056}, 'K. Korver - korveky01': {'3pt_after_miss': 126, '3pt_after_make': 94, 'odds_after_miss': 0.5727272727272728, 'odds_after_make': 0.42727272727272725}, 'K. Huerter - huertke01': {'3pt_after_miss': 91, '3pt_after_make': 73, 'odds_after_miss': 0.5548780487804879, 'odds_after_make': 0.4451219512195122}, 'D. Bertāns - bertada01': {'3pt_after_miss': 120, '3pt_after_make': 101, 'odds_after_miss': 0.5429864253393665, 'odds_after_make': 0.45701357466063347}, 'A. Wiggins - wiggian01': {'3pt_after_miss': 42, '3pt_after_make': 39, 'odds_after_miss': 0.5185185185185185, 'odds_after_make': 0.48148148148148145}, 'J. Tatum - tatumja01': {'3pt_after_miss': 54, '3pt_after_make': 43, 'odds_after_miss': 0.5567010309278351, 'odds_after_make': 0.44329896907216493}, 'D. Dotson - dotsoda01': {'3pt_after_miss': 82, '3pt_after_make': 66, 'odds_after_miss': 0.5540540540540541, 'odds_after_make': 0.44594594594594594}, 'K. Oubre - oubreke01': {'3pt_after_miss': 66, '3pt_after_make': 46, 'odds_after_miss': 0.5892857142857143, 'odds_after_make': 0.4107142857142857}, 'D. Carroll - carrode01': {'3pt_after_miss': 91, '3pt_after_make': 66, 'odds_after_miss': 0.5796178343949044, 'odds_after_make': 0.42038216560509556}, 'D. Augustin - augusdj01': {'3pt_after_miss': 72, '3pt_after_make': 62, 'odds_after_miss': 0.5373134328358209, 'odds_after_make': 0.4626865671641791}, 'L. Markkanen - markkla01': {'3pt_after_miss': 70, '3pt_after_make': 55, 'odds_after_miss': 0.56, 'odds_after_make': 0.44}, 'A. Aminu - aminual01': {'3pt_after_miss': 82, '3pt_after_make': 57, 'odds_after_miss': 0.5899280575539568, 'odds_after_make': 0.41007194244604317}, 'J. Lamb - lambje01': {'3pt_after_miss': 57, '3pt_after_make': 41, 'odds_after_miss': 0.5816326530612245, 'odds_after_make': 0.41836734693877553}, 'M. Monk - monkma01': {'3pt_after_miss': 85, '3pt_after_make': 63, 'odds_after_miss': 0.5743243243243243, 'odds_after_make': 0.42567567567567566}, 'L. James - jamesle01': {'3pt_after_miss': 36, '3pt_after_make': 59, 'odds_after_miss': 0.37894736842105264, 'odds_after_make': 0.6210526315789474}, 'N. Jokić - jokicni01': {'3pt_after_miss': 42, '3pt_after_make': 30, 'odds_after_miss': 0.5833333333333334, 'odds_after_make': 0.4166666666666667}, 'D. Šarić - saricda01': {'3pt_after_miss': 71, '3pt_after_make': 46, 'odds_after_miss': 0.6068376068376068, 'odds_after_make': 0.39316239316239315}, 'Z. LaVine - lavinza01': {'3pt_after_miss': 30, '3pt_after_make': 57, 'odds_after_miss': 0.3448275862068966, 'odds_after_make': 0.6551724137931034}, 'J. Green - greenje02': {'3pt_after_miss': 66, '3pt_after_make': 62, 'odds_after_miss': 0.515625, 'odds_after_make': 0.484375}, 'K. Olynyk - olynyke01': {'3pt_after_miss': 90, '3pt_after_make': 58, 'odds_after_miss': 0.6081081081081081, 'odds_after_make': 0.3918918918918919}, 'J. Brown - brownja02': {'3pt_after_miss': 57, '3pt_after_make': 35, 'odds_after_miss': 0.6195652173913043, 'odds_after_make': 0.3804347826086957}, 'V. Carter - cartevi01': {'3pt_after_miss': 96, '3pt_after_make': 82, 'odds_after_miss': 0.5393258426966292, 'odds_after_make': 0.4606741573033708}, 'T. Waller-Prince - princta02': {'3pt_after_miss': 91, '3pt_after_make': 59, 'odds_after_miss': 0.6066666666666667, 'odds_after_make': 0.3933333333333333}, 'M. Bridges - bridgmi01': {'3pt_after_miss': 83, '3pt_after_make': 61, 'odds_after_miss': 0.5763888888888888, 'odds_after_make': 0.4236111111111111}, 'J. Grant - grantje01': {'3pt_after_miss': 55, '3pt_after_make': 46, 'odds_after_miss': 0.5445544554455446, 'odds_after_make': 0.45544554455445546}, 'P. Beverley - beverpa01': {'3pt_after_miss': 90, '3pt_after_make': 66, 'odds_after_miss': 0.5769230769230769, 'odds_after_make': 0.4230769230769231}, 'P. Siakam - siakapa01': {'3pt_after_miss': 36, '3pt_after_make': 33, 'odds_after_miss': 0.5217391304347826, 'odds_after_make': 0.4782608695652174}, 'L. Williams - willilo02': {'3pt_after_miss': 40, '3pt_after_make': 29, 'odds_after_miss': 0.5797101449275363, 'odds_after_make': 0.42028985507246375}, 'T. Ferguson - fergute01': {'3pt_after_miss': 106, '3pt_after_make': 76, 'odds_after_miss': 0.5824175824175825, 'odds_after_make': 0.4175824175824176}, 'S. Curry - curryse01': {'3pt_after_miss': 66, '3pt_after_make': 66, 'odds_after_miss': 0.5, 'odds_after_make': 0.5}, 'J. Embiid - embiijo01': {'3pt_after_miss': 40, '3pt_after_make': 16, 'odds_after_miss': 0.7142857142857143, 'odds_after_make': 0.2857142857142857}, 'K. Bazemore - bazemke01': {'3pt_after_miss': 73, '3pt_after_make': 41, 'odds_after_miss': 0.6403508771929824, 'odds_after_make': 0.35964912280701755}, 'G. Harris - harriga01': {'3pt_after_miss': 56, '3pt_after_make': 41, 'odds_after_miss': 0.5773195876288659, 'odds_after_make': 0.422680412371134}, 'N. Batum - batumni01': {'3pt_after_miss': 77, '3pt_after_make': 62, 'odds_after_miss': 0.5539568345323741, 'odds_after_make': 0.4460431654676259}, 'C. Sexton - sextoco01': {'3pt_after_miss': 47, '3pt_after_make': 41, 'odds_after_miss': 0.5340909090909091, 'odds_after_make': 0.4659090909090909}, 'I. Shumpert - shumpim01': {'3pt_after_miss': 91, '3pt_after_make': 58, 'odds_after_miss': 0.610738255033557, 'odds_after_make': 0.38926174496644295}, 'D. Waiters - waitedi01': {'3pt_after_miss': 83, '3pt_after_make': 65, 'odds_after_miss': 0.5608108108108109, 'odds_after_make': 0.4391891891891892}, 'R. Hood - hoodro01': {'3pt_after_miss': 50, '3pt_after_make': 39, 'odds_after_miss': 0.5617977528089888, 'odds_after_make': 0.43820224719101125}, 'J. Isaac - isaacjo01': {'3pt_after_miss': 78, '3pt_after_make': 41, 'odds_after_miss': 0.6554621848739496, 'odds_after_make': 0.3445378151260504}, 'M. Scott - scottmi01': {'3pt_after_miss': 91, '3pt_after_make': 59, 'odds_after_miss': 0.6066666666666667, 'odds_after_make': 0.3933333333333333}, 'L. Kennard - kennalu01': {'3pt_after_miss': 68, '3pt_after_make': 52, 'odds_after_miss': 0.5666666666666667, 'odds_after_make': 0.43333333333333335}, 'M. Brogdon - brogdma01': {'3pt_after_miss': 43, '3pt_after_make': 38, 'odds_after_miss': 0.5308641975308642, 'odds_after_make': 0.4691358024691358}, 'J. Hart - hartjo01': {'3pt_after_miss': 81, '3pt_after_make': 47, 'odds_after_miss': 0.6328125, 'odds_after_make': 0.3671875}, 'R. Rubio - rubiori01': {'3pt_after_miss': 53, '3pt_after_make': 23, 'odds_after_miss': 0.6973684210526315, 'odds_after_make': 0.3026315789473684}, 'G. Temple - templga01': {'3pt_after_miss': 68, '3pt_after_make': 52, 'odds_after_miss': 0.5666666666666667, 'odds_after_make': 0.43333333333333335}, 'D. Wade - wadedw01': {'3pt_after_miss': 39, '3pt_after_make': 37, 'odds_after_miss': 0.5131578947368421, 'odds_after_make': 0.4868421052631579}, 'T. Johnson - johnsty01': {'3pt_after_miss': 71, '3pt_after_make': 50, 'odds_after_miss': 0.5867768595041323, 'odds_after_make': 0.4132231404958678}, 'A. Crabbe - crabbal01': {'3pt_after_miss': 82, '3pt_after_make': 68, 'odds_after_miss': 0.5466666666666666, 'odds_after_make': 0.4533333333333333}, 'G. Antetokounmpo - antetgi01': {'3pt_after_miss': 12, '3pt_after_make': 13, 'odds_after_miss': 0.48, 'odds_after_make': 0.52}, 'N. Bjelica - bjeline01': {'3pt_after_miss': 67, '3pt_after_make': 35, 'odds_after_miss': 0.6568627450980392, 'odds_after_make': 0.3431372549019608}, 'M. Muscala - muscami01': {'3pt_after_miss': 103, '3pt_after_make': 50, 'odds_after_miss': 0.673202614379085, 'odds_after_make': 0.32679738562091504}, 'O. Porter - porteot01': {'3pt_after_miss': 45, '3pt_after_make': 51, 'odds_after_miss': 0.46875, 'odds_after_make': 0.53125}, 'J. Winslow - winslju01': {'3pt_after_miss': 43, '3pt_after_make': 30, 'odds_after_miss': 0.589041095890411, 'odds_after_make': 0.410958904109589}, 'G. Hayward - haywago01': {'3pt_after_miss': 48, '3pt_after_make': 32, 'odds_after_miss': 0.6, 'odds_after_make': 0.4}, 'D. Finney-Smith - finnedo01': {'3pt_after_miss': 64, '3pt_after_make': 32, 'odds_after_miss': 0.6666666666666666, 'odds_after_make': 0.3333333333333333}, 'W. Barton - bartowi01': {'3pt_after_miss': 56, '3pt_after_make': 42, 'odds_after_miss': 0.5714285714285714, 'odds_after_make': 0.42857142857142855}, 'A. Horford - horfoal01': {'3pt_after_miss': 39, '3pt_after_make': 27, 'odds_after_miss': 0.5909090909090909, 'odds_after_make': 0.4090909090909091}, 'A. Bradley - bradlav01': {'3pt_after_miss': 55, '3pt_after_make': 36, 'odds_after_miss': 0.6043956043956044, 'odds_after_make': 0.3956043956043956}, 'J. Jackson - jacksju01': {'3pt_after_miss': 55, '3pt_after_make': 43, 'odds_after_miss': 0.5612244897959183, 'odds_after_make': 0.4387755102040816}, 'N. Vučević - vucevni01': {'3pt_after_miss': 16, '3pt_after_make': 15, 'odds_after_miss': 0.5161290322580645, 'odds_after_make': 0.4838709677419355}, 'P. Connaughton - connapa01': {'3pt_after_miss': 74, '3pt_after_make': 42, 'odds_after_miss': 0.6379310344827587, 'odds_after_make': 0.3620689655172414}, 'M. Morris - morrimo01': {'3pt_after_miss': 27, '3pt_after_make': 35, 'odds_after_miss': 0.43548387096774194, 'odds_after_make': 0.5645161290322581}, 'J. Butler - butleji01': {'3pt_after_miss': 27, '3pt_after_make': 20, 'odds_after_miss': 0.574468085106383, 'odds_after_make': 0.425531914893617}, 'T. Evans - evansty01': {'3pt_after_miss': 27, '3pt_after_make': 41, 'odds_after_miss': 0.39705882352941174, 'odds_after_make': 0.6029411764705882}, 'S. Napier - napiesh01': {'3pt_after_miss': 72, '3pt_after_make': 38, 'odds_after_miss': 0.6545454545454545, 'odds_after_make': 0.34545454545454546}, 'D. Fox - foxde01': {'3pt_after_miss': 18, '3pt_after_make': 25, 'odds_after_miss': 0.4186046511627907, 'odds_after_make': 0.5813953488372093}, 'Q. Cook - cookqu01': {'3pt_after_miss': 45, '3pt_after_make': 42, 'odds_after_miss': 0.5172413793103449, 'odds_after_make': 0.4827586206896552}, 'N. Powell - powelno01': {'3pt_after_miss': 43, '3pt_after_make': 40, 'odds_after_miss': 0.5180722891566265, 'odds_after_make': 0.4819277108433735}, 'L. Ball - balllo01': {'3pt_after_miss': 58, '3pt_after_make': 31, 'odds_after_miss': 0.651685393258427, 'odds_after_make': 0.34831460674157305}, 'J. Jackson - jacksjo02': {'3pt_after_miss': 34, '3pt_after_make': 20, 'odds_after_miss': 0.6296296296296297, 'odds_after_make': 0.37037037037037035}, 'R. McGruder - mcgruro01': {'3pt_after_miss': 50, '3pt_after_make': 41, 'odds_after_miss': 0.5494505494505495, 'odds_after_make': 0.45054945054945056}, 'R. Covington - covinro01': {'3pt_after_miss': 81, '3pt_after_make': 43, 'odds_after_miss': 0.6532258064516129, 'odds_after_make': 0.3467741935483871}, 'T. Craig - craigto01': {'3pt_after_miss': 41, '3pt_after_make': 43, 'odds_after_miss': 0.4880952380952381, 'odds_after_make': 0.5119047619047619}, 'D. Green - greendr01': {'3pt_after_miss': 32, '3pt_after_make': 24, 'odds_after_miss': 0.5714285714285714, 'odds_after_make': 0.42857142857142855}, 'M. Kleber - klebima01': {'3pt_after_miss': 59, '3pt_after_make': 45, 'odds_after_miss': 0.5673076923076923, 'odds_after_make': 0.4326923076923077}, 'A. Iguodala - iguodan01': {'3pt_after_miss': 53, '3pt_after_make': 32, 'odds_after_miss': 0.6235294117647059, 'odds_after_make': 0.3764705882352941}, 'R. Arcidiacono - arcidry01': {'3pt_after_miss': 61, '3pt_after_make': 39, 'odds_after_miss': 0.61, 'odds_after_make': 0.39}, 'D. Dedmon - dedmode01': {'3pt_after_miss': 40, '3pt_after_make': 43, 'odds_after_miss': 0.4819277108433735, 'odds_after_make': 0.5180722891566265}, 'V. Oladipo - oladivi01': {'3pt_after_miss': 47, '3pt_after_make': 29, 'odds_after_miss': 0.618421052631579, 'odds_after_make': 0.3815789473684211}, 'S. Johnson - johnsst04': {'3pt_after_miss': 44, '3pt_after_make': 28, 'odds_after_miss': 0.6111111111111112, 'odds_after_make': 0.3888888888888889}, 'A. Tolliver - tollian01': {'3pt_after_miss': 86, '3pt_after_make': 50, 'odds_after_miss': 0.6323529411764706, 'odds_after_make': 0.36764705882352944}, 'J. Okogie - okogijo01': {'3pt_after_miss': 45, '3pt_after_make': 27, 'odds_after_miss': 0.625, 'odds_after_make': 0.375}, 'D. McDermott - mcderdo01': {'3pt_after_miss': 41, '3pt_after_make': 40, 'odds_after_miss': 0.5061728395061729, 'odds_after_make': 0.49382716049382713}, 'M. Morris - morrima02': {'3pt_after_miss': 51, '3pt_after_make': 27, 'odds_after_miss': 0.6538461538461539, 'odds_after_make': 0.34615384615384615}, 'M. Turner - turnemy01': {'3pt_after_miss': 29, '3pt_after_make': 25, 'odds_after_miss': 0.5370370370370371, 'odds_after_make': 0.46296296296296297}, 'E. Mudiay - mudiaem01': {'3pt_after_miss': 21, '3pt_after_make': 19, 'odds_after_miss': 0.525, 'odds_after_make': 0.475}, 'D. House - houseda01': {'3pt_after_miss': 65, '3pt_after_make': 54, 'odds_after_miss': 0.5462184873949579, 'odds_after_make': 0.453781512605042}, 'D. Smith - smithde03': {'3pt_after_miss': 30, '3pt_after_make': 29, 'odds_after_miss': 0.5084745762711864, 'odds_after_make': 0.4915254237288136}, 'J. Jerebko - jerebjo01': {'3pt_after_miss': 39, '3pt_after_make': 41, 'odds_after_miss': 0.4875, 'odds_after_make': 0.5125}, 'T. Snell - snellto01': {'3pt_after_miss': 49, '3pt_after_make': 43, 'odds_after_miss': 0.532608695652174, 'odds_after_make': 0.4673913043478261}, 'S. Ibaka - ibakase01': {'3pt_after_miss': 14, '3pt_after_make': 11, 'odds_after_miss': 0.56, 'odds_after_make': 0.44}, 'D. Nowitzki - nowitdi01': {'3pt_after_miss': 62, '3pt_after_make': 40, 'odds_after_miss': 0.6078431372549019, 'odds_after_make': 0.39215686274509803}, 'D. Collison - collida01': {'3pt_after_miss': 32, '3pt_after_make': 24, 'odds_after_miss': 0.5714285714285714, 'odds_after_make': 0.42857142857142855}, 'A. Len - lenal01': {'3pt_after_miss': 39, '3pt_after_make': 28, 'odds_after_miss': 0.582089552238806, 'odds_after_make': 0.417910447761194}, 'R. Gay - gayru01': {'3pt_after_miss': 24, '3pt_after_make': 21, 'odds_after_miss': 0.5333333333333333, 'odds_after_make': 0.4666666666666667}, 'C. Miles - milescj01': {'3pt_after_miss': 69, '3pt_after_make': 42, 'odds_after_miss': 0.6216216216216216, 'odds_after_make': 0.3783783783783784}, 'O. Anunoby - anunoog01': {'3pt_after_miss': 44, '3pt_after_make': 25, 'odds_after_miss': 0.6376811594202898, 'odds_after_make': 0.36231884057971014}, 'J. Crawford - crawfja01': {'3pt_after_miss': 41, '3pt_after_make': 38, 'odds_after_miss': 0.5189873417721519, 'odds_after_make': 0.4810126582278481}, 'I. Clark - clarkia01': {'3pt_after_miss': 48, '3pt_after_make': 31, 'odds_after_miss': 0.6075949367088608, 'odds_after_make': 0.3924050632911392}, 'G. Hill - hillge01': {'3pt_after_miss': 41, '3pt_after_make': 27, 'odds_after_miss': 0.6029411764705882, 'odds_after_make': 0.39705882352941174}, 'T. Lyles - lylestr01': {'3pt_after_miss': 39, '3pt_after_make': 21, 'odds_after_miss': 0.65, 'odds_after_make': 0.35}}, 2019: {'J. Harden - hardeja01': {'3pt_after_miss': 298, '3pt_after_make': 179, 'odds_after_miss': 0.6247379454926625, 'odds_after_make': 0.3752620545073375}, 'D. Robinson - robindu01': {'3pt_after_miss': 327, '3pt_after_make': 263, 'odds_after_miss': 0.5542372881355933, 'odds_after_make': 0.4457627118644068}, 'D. Lillard - lillada01': {'3pt_after_miss': 152, '3pt_after_make': 191, 'odds_after_miss': 0.44314868804664725, 'odds_after_make': 0.5568513119533528}, 'B. Hield - hieldbu01': {'3pt_after_miss': 217, '3pt_after_make': 175, 'odds_after_miss': 0.5535714285714286, 'odds_after_make': 0.44642857142857145}, 'K. Walker - walkeke02': {'3pt_after_miss': 156, '3pt_after_make': 113, 'odds_after_miss': 0.5799256505576208, 'odds_after_make': 0.4200743494423792}, 'J. Tatum - tatumja01': {'3pt_after_miss': 100, '3pt_after_make': 104, 'odds_after_miss': 0.49019607843137253, 'odds_after_make': 0.5098039215686274}, 'L. Dončić - doncilu01': {'3pt_after_miss': 103, '3pt_after_make': 110, 'odds_after_miss': 0.4835680751173709, 'odds_after_make': 0.5164319248826291}, 'D. Graham - grahade01': {'3pt_after_miss': 179, '3pt_after_make': 145, 'odds_after_miss': 0.5524691358024691, 'odds_after_make': 0.44753086419753085}, 'T. Young - youngtr01': {'3pt_after_miss': 133, '3pt_after_make': 99, 'odds_after_miss': 0.5732758620689655, 'odds_after_make': 0.4267241379310345}, 'T. Hardaway - hardati02': {'3pt_after_miss': 161, '3pt_after_make': 118, 'odds_after_miss': 0.5770609318996416, 'odds_after_make': 0.4229390681003584}, 'J. Crowder - crowdja01': {'3pt_after_miss': 218, '3pt_after_make': 136, 'odds_after_miss': 0.615819209039548, 'odds_after_make': 0.384180790960452}, 'C. McCollum - mccolcj01': {'3pt_after_miss': 90, '3pt_after_make': 87, 'odds_after_miss': 0.5084745762711864, 'odds_after_make': 0.4915254237288136}, 'R. Covington - covinro01': {'3pt_after_miss': 194, '3pt_after_make': 122, 'odds_after_miss': 0.6139240506329114, 'odds_after_make': 0.3860759493670886}, 'L. James - jamesle01': {'3pt_after_miss': 90, '3pt_after_make': 95, 'odds_after_miss': 0.4864864864864865, 'odds_after_make': 0.5135135135135135}, 'K. Lowry - lowryky01': {'3pt_after_miss': 173, '3pt_after_make': 101, 'odds_after_miss': 0.6313868613138686, 'odds_after_make': 0.3686131386861314}, 'D. Mitchell - mitchdo01': {'3pt_after_miss': 88, '3pt_after_make': 93, 'odds_after_miss': 0.4861878453038674, 'odds_after_make': 0.5138121546961326}, 'T. Ross - rosste01': {'3pt_after_miss': 174, '3pt_after_make': 123, 'odds_after_miss': 0.5858585858585859, 'odds_after_make': 0.41414141414141414}, 'M. Smart - smartma01': {'3pt_after_miss': 163, '3pt_after_make': 119, 'odds_after_miss': 0.5780141843971631, 'odds_after_make': 0.4219858156028369}, 'P. George - georgpa01': {'3pt_after_miss': 125, '3pt_after_make': 106, 'odds_after_miss': 0.5411255411255411, 'odds_after_make': 0.4588744588744589}, 'B. McLemore - mclembe01': {'3pt_after_miss': 196, '3pt_after_make': 149, 'odds_after_miss': 0.5681159420289855, 'odds_after_make': 0.4318840579710145}, 'F. VanVleet - vanvlfr01': {'3pt_after_miss': 124, '3pt_after_make': 91, 'odds_after_miss': 0.5767441860465117, 'odds_after_make': 0.4232558139534884}, 'Z. LaVine - lavinza01': {'3pt_after_miss': 80, '3pt_after_make': 96, 'odds_after_miss': 0.45454545454545453, 'odds_after_make': 0.5454545454545454}, 'B. Beal - bealbr01': {'3pt_after_miss': 108, '3pt_after_make': 79, 'odds_after_miss': 0.5775401069518716, 'odds_after_make': 0.42245989304812837}, 'D. Gallinari - gallida01': {'3pt_after_miss': 125, '3pt_after_make': 104, 'odds_after_miss': 0.5458515283842795, 'odds_after_make': 0.45414847161572053}, 'D. Bertāns - bertada01': {'3pt_after_miss': 183, '3pt_after_make': 145, 'odds_after_miss': 0.5579268292682927, 'odds_after_make': 0.4420731707317073}, 'E. Fournier - fournev01': {'3pt_after_miss': 96, '3pt_after_make': 97, 'odds_after_miss': 0.49740932642487046, 'odds_after_make': 0.5025906735751295}, 'J. Clarkson - clarkjo01': {'3pt_after_miss': 101, '3pt_after_make': 102, 'odds_after_miss': 0.4975369458128079, 'odds_after_make': 0.5024630541871922}, 'J. Murray - murraja01': {'3pt_after_miss': 78, '3pt_after_make': 64, 'odds_after_miss': 0.5492957746478874, 'odds_after_make': 0.4507042253521127}, 'J. Brown - brownja02': {'3pt_after_miss': 102, '3pt_after_make': 80, 'odds_after_miss': 0.5604395604395604, 'odds_after_make': 0.43956043956043955}, 'B. Bogdanović - bogdabo02': {'3pt_after_miss': 104, '3pt_after_make': 94, 'odds_after_miss': 0.5252525252525253, 'odds_after_make': 0.47474747474747475}, 'G. Dragić - dragigo01': {'3pt_after_miss': 101, '3pt_after_make': 75, 'odds_after_miss': 0.5738636363636364, 'odds_after_make': 0.42613636363636365}, 'D. Green - greenda02': {'3pt_after_miss': 162, '3pt_after_make': 103, 'odds_after_miss': 0.6113207547169811, 'odds_after_make': 0.3886792452830189}, 'B. Bogdanović - bogdabo01': {'3pt_after_miss': 137, '3pt_after_make': 90, 'odds_after_miss': 0.6035242290748899, 'odds_after_make': 0.3964757709251101}, 'K. Nunn - nunnke01': {'3pt_after_miss': 92, '3pt_after_make': 69, 'odds_after_miss': 0.5714285714285714, 'odds_after_make': 0.42857142857142855}, 'D. Russell - russeda01': {'3pt_after_miss': 108, '3pt_after_make': 108, 'odds_after_miss': 0.5, 'odds_after_make': 0.5}, 'T. Herro - herroty01': {'3pt_after_miss': 101, '3pt_after_make': 81, 'odds_after_miss': 0.554945054945055, 'odds_after_make': 0.44505494505494503}, 'T. Rozier - roziete01': {'3pt_after_miss': 88, '3pt_after_make': 88, 'odds_after_miss': 0.5, 'odds_after_make': 0.5}, 'G. Temple - templga01': {'3pt_after_miss': 154, '3pt_after_make': 85, 'odds_after_miss': 0.6443514644351465, 'odds_after_make': 0.35564853556485354}, 'K. Porziņģis - porzikr01': {'3pt_after_miss': 85, '3pt_after_make': 76, 'odds_after_miss': 0.5279503105590062, 'odds_after_make': 0.4720496894409938}, 'K. Middleton - middlkh01': {'3pt_after_miss': 80, '3pt_after_make': 52, 'odds_after_miss': 0.6060606060606061, 'odds_after_make': 0.3939393939393939}, 'J. Harris - harrijo01': {'3pt_after_miss': 103, '3pt_after_make': 91, 'odds_after_miss': 0.5309278350515464, 'odds_after_make': 0.4690721649484536}, 'P. Siakam - siakapa01': {'3pt_after_miss': 74, '3pt_after_make': 67, 'odds_after_miss': 0.524822695035461, 'odds_after_make': 0.475177304964539}, 'D. Brooks - brookdi01': {'3pt_after_miss': 93, '3pt_after_make': 61, 'odds_after_miss': 0.6038961038961039, 'odds_after_make': 0.3961038961038961}, 'D. House - houseda01': {'3pt_after_miss': 138, '3pt_after_make': 91, 'odds_after_miss': 0.6026200873362445, 'odds_after_make': 0.39737991266375544}, 'M. Morris - morrima03': {'3pt_after_miss': 84, '3pt_after_make': 75, 'odds_after_miss': 0.5283018867924528, 'odds_after_make': 0.4716981132075472}, 'P. Mills - millspa02': {'3pt_after_miss': 147, '3pt_after_make': 96, 'odds_after_miss': 0.6049382716049383, 'odds_after_make': 0.3950617283950617}, 'S. Dinwiddie - dinwisp01': {'3pt_after_miss': 79, '3pt_after_make': 71, 'odds_after_miss': 0.5266666666666666, 'odds_after_make': 0.47333333333333333}, 'K. Leonard - leonaka01': {'3pt_after_miss': 69, '3pt_after_make': 43, 'odds_after_miss': 0.6160714285714286, 'odds_after_make': 0.38392857142857145}, 'D. Booker - bookede01': {'3pt_after_miss': 71, '3pt_after_make': 61, 'odds_after_miss': 0.5378787878787878, 'odds_after_make': 0.4621212121212121}, 'J. Redick - redicjj01': {'3pt_after_miss': 119, '3pt_after_make': 111, 'odds_after_miss': 0.5173913043478261, 'odds_after_make': 0.4826086956521739}, 'L. Ball - balllo01': {'3pt_after_miss': 109, '3pt_after_make': 86, 'odds_after_miss': 0.558974358974359, 'odds_after_make': 0.441025641025641}, 'J. Ingles - inglejo01': {'3pt_after_miss': 118, '3pt_after_make': 101, 'odds_after_miss': 0.5388127853881278, 'odds_after_make': 0.4611872146118721}, 'E. Gordon - gordoer01': {'3pt_after_miss': 135, '3pt_after_make': 82, 'odds_after_miss': 0.6221198156682027, 'odds_after_make': 0.3778801843317972}, 'K. Love - loveke01': {'3pt_after_miss': 125, '3pt_after_make': 90, 'odds_after_miss': 0.5813953488372093, 'odds_after_make': 0.4186046511627907}, 'B. Ingram - ingrabr01': {'3pt_after_miss': 70, '3pt_after_make': 55, 'odds_after_miss': 0.56, 'odds_after_make': 0.44}, 'B. Forbes - forbebr01': {'3pt_after_miss': 118, '3pt_after_make': 88, 'odds_after_miss': 0.5728155339805825, 'odds_after_make': 0.42718446601941745}, 'B. Lopez - lopezbr01': {'3pt_after_miss': 94, '3pt_after_make': 62, 'odds_after_miss': 0.6025641025641025, 'odds_after_make': 0.3974358974358974}, 'C. White - whiteco01': {'3pt_after_miss': 74, '3pt_after_make': 80, 'odds_after_miss': 0.4805194805194805, 'odds_after_make': 0.5194805194805194}, 'T. Harris - harrito02': {'3pt_after_miss': 70, '3pt_after_make': 40, 'odds_after_miss': 0.6363636363636364, 'odds_after_make': 0.36363636363636365}, 'D. Schröder - schrode01': {'3pt_after_miss': 63, '3pt_after_make': 46, 'odds_after_miss': 0.5779816513761468, 'odds_after_make': 0.42201834862385323}, 'J. Jackson - jacksja02': {'3pt_after_miss': 79, '3pt_after_make': 83, 'odds_after_miss': 0.4876543209876543, 'odds_after_make': 0.5123456790123457}, 'L. Williams - willilo02': {'3pt_after_miss': 71, '3pt_after_make': 49, 'odds_after_miss': 0.5916666666666667, 'odds_after_make': 0.4083333333333333}, 'P. Tucker - tuckepj01': {'3pt_after_miss': 129, '3pt_after_make': 88, 'odds_after_miss': 0.5944700460829493, 'odds_after_make': 0.4055299539170507}, 'F. Korkmaz - korkmfu01': {'3pt_after_miss': 115, '3pt_after_make': 80, 'odds_after_miss': 0.5897435897435898, 'odds_after_make': 0.41025641025641024}, 'K. Caldwell-Pope - caldwke01': {'3pt_after_miss': 82, '3pt_after_make': 74, 'odds_after_miss': 0.5256410256410257, 'odds_after_make': 0.47435897435897434}, 'K. Kuzma - kuzmaky01': {'3pt_after_miss': 78, '3pt_after_make': 58, 'odds_after_miss': 0.5735294117647058, 'odds_after_make': 0.4264705882352941}, 'J. Hart - hartjo01': {'3pt_after_miss': 133, '3pt_after_make': 68, 'odds_after_miss': 0.6616915422885572, 'odds_after_make': 0.3383084577114428}, 'N. Jokić - jokicni01': {'3pt_after_miss': 43, '3pt_after_make': 44, 'odds_after_miss': 0.4942528735632184, 'odds_after_make': 0.5057471264367817}, 'J. Holiday - holidju01': {'3pt_after_miss': 110, '3pt_after_make': 83, 'odds_after_miss': 0.5699481865284974, 'odds_after_make': 0.43005181347150256}, 'C. Paul - paulch01': {'3pt_after_miss': 59, '3pt_after_make': 54, 'odds_after_miss': 0.5221238938053098, 'odds_after_make': 0.4778761061946903}, 'J. Grant - grantje01': {'3pt_after_miss': 76, '3pt_after_make': 46, 'odds_after_miss': 0.6229508196721312, 'odds_after_make': 0.3770491803278688}, 'J. Holiday - holidjr01': {'3pt_after_miss': 44, '3pt_after_make': 48, 'odds_after_miss': 0.4782608695652174, 'odds_after_make': 0.5217391304347826}, 'M. Kleber - klebima01': {'3pt_after_miss': 114, '3pt_after_make': 74, 'odds_after_miss': 0.6063829787234043, 'odds_after_make': 0.39361702127659576}, 'S. Curry - curryse01': {'3pt_after_miss': 88, '3pt_after_make': 79, 'odds_after_miss': 0.5269461077844312, 'odds_after_make': 0.47305389221556887}, 'W. Matthews - matthwe02': {'3pt_after_miss': 116, '3pt_after_make': 89, 'odds_after_miss': 0.5658536585365853, 'odds_after_make': 0.43414634146341463}, 'L. Shamet - shamela01': {'3pt_after_miss': 130, '3pt_after_make': 89, 'odds_after_miss': 0.593607305936073, 'odds_after_make': 0.4063926940639269}, 'K. Huerter - huertke01': {'3pt_after_miss': 90, '3pt_after_make': 72, 'odds_after_miss': 0.5555555555555556, 'odds_after_make': 0.4444444444444444}, 'A. Wiggins - wiggian01': {'3pt_after_miss': 53, '3pt_after_make': 41, 'odds_after_miss': 0.5638297872340425, 'odds_after_make': 0.43617021276595747}, 'G. Antetokounmpo - antetgi01': {'3pt_after_miss': 30, '3pt_after_make': 18, 'odds_after_miss': 0.625, 'odds_after_make': 0.375}, 'N. Vučević - vucevni01': {'3pt_after_miss': 39, '3pt_after_make': 35, 'odds_after_miss': 0.527027027027027, 'odds_after_make': 0.47297297297297297}, 'D. Finney-Smith - finnedo01': {'3pt_after_miss': 99, '3pt_after_make': 63, 'odds_after_miss': 0.6111111111111112, 'odds_after_make': 0.3888888888888889}, 'L. Galloway - gallola01': {'3pt_after_miss': 102, '3pt_after_make': 80, 'odds_after_miss': 0.5604395604395604, 'odds_after_make': 0.43956043956043955}, 'N. Powell - powelno01': {'3pt_after_miss': 58, '3pt_after_make': 68, 'odds_after_miss': 0.4603174603174603, 'odds_after_make': 0.5396825396825397}, 'C. Osman - osmande01': {'3pt_after_miss': 89, '3pt_after_make': 60, 'odds_after_miss': 0.5973154362416108, 'odds_after_make': 0.40268456375838924}, 'N. Bjelica - bjeline01': {'3pt_after_miss': 83, '3pt_after_make': 51, 'odds_after_miss': 0.6194029850746269, 'odds_after_make': 0.3805970149253731}, 'L. Markkanen - markkla01': {'3pt_after_miss': 96, '3pt_after_make': 58, 'odds_after_miss': 0.6233766233766234, 'odds_after_make': 0.37662337662337664}, 'A. Burks - burksal01': {'3pt_after_miss': 56, '3pt_after_make': 46, 'odds_after_miss': 0.5490196078431373, 'odds_after_make': 0.45098039215686275}, 'K. Oubre - oubreke01': {'3pt_after_miss': 50, '3pt_after_make': 50, 'odds_after_miss': 0.5, 'odds_after_make': 0.5}, 'A. Rivers - riverau01': {'3pt_after_miss': 73, '3pt_after_make': 57, 'odds_after_miss': 0.5615384615384615, 'odds_after_make': 0.43846153846153846}, 'D. McDermott - mcderdo01': {'3pt_after_miss': 80, '3pt_after_make': 73, 'odds_after_miss': 0.5228758169934641, 'odds_after_make': 0.477124183006536}, 'D. Hunter - huntede01': {'3pt_after_miss': 80, '3pt_after_make': 39, 'odds_after_miss': 0.6722689075630253, 'odds_after_make': 0.3277310924369748}, 'M. Bridges - bridgmi02': {'3pt_after_miss': 49, '3pt_after_make': 35, 'odds_after_miss': 0.5833333333333334, 'odds_after_make': 0.4166666666666667}, 'M. Morris - morrima02': {'3pt_after_miss': 66, '3pt_after_make': 59, 'odds_after_miss': 0.528, 'odds_after_make': 0.472}, 'D. Garland - garlada01': {'3pt_after_miss': 64, '3pt_after_make': 52, 'odds_after_miss': 0.5517241379310345, 'odds_after_make': 0.4482758620689655}, 'G. Trent - trentga02': {'3pt_after_miss': 73, '3pt_after_make': 76, 'odds_after_miss': 0.4899328859060403, 'odds_after_make': 0.5100671140939598}, 'M. Conley - conlemi01': {'3pt_after_miss': 60, '3pt_after_make': 51, 'odds_after_miss': 0.5405405405405406, 'odds_after_make': 0.4594594594594595}, 'W. Barton - bartowi01': {'3pt_after_miss': 54, '3pt_after_make': 47, 'odds_after_miss': 0.5346534653465347, 'odds_after_make': 0.46534653465346537}, 'A. Horford - horfoal01': {'3pt_after_miss': 61, '3pt_after_make': 33, 'odds_after_miss': 0.648936170212766, 'odds_after_make': 0.35106382978723405}, 'S. Gilgeous-Alexander - gilgesh01': {'3pt_after_miss': 43, '3pt_after_make': 21, 'odds_after_miss': 0.671875, 'odds_after_make': 0.328125}, 'T. Waller-Prince - princta02': {'3pt_after_miss': 98, '3pt_after_make': 55, 'odds_after_miss': 0.6405228758169934, 'odds_after_make': 0.35947712418300654}, 'S. Mykhailiuk - mykhasv01': {'3pt_after_miss': 91, '3pt_after_make': 78, 'odds_after_miss': 0.5384615384615384, 'odds_after_make': 0.46153846153846156}, 'K. Olynyk - olynyke01': {'3pt_after_miss': 82, '3pt_after_make': 53, 'odds_after_miss': 0.6074074074074074, 'odds_after_make': 0.3925925925925926}, 'A. Davis - davisan02': {'3pt_after_miss': 24, '3pt_after_make': 32, 'odds_after_miss': 0.42857142857142855, 'odds_after_make': 0.5714285714285714}, 'J. Richardson - richajo01': {'3pt_after_miss': 59, '3pt_after_make': 36, 'odds_after_miss': 0.6210526315789474, 'odds_after_make': 0.37894736842105264}, 'K. Towns - townska01': {'3pt_after_miss': 61, '3pt_after_make': 47, 'odds_after_miss': 0.5648148148148148, 'odds_after_make': 0.4351851851851852}, 'M. Beasley - beaslma01': {'3pt_after_miss': 68, '3pt_after_make': 63, 'odds_after_miss': 0.5190839694656488, 'odds_after_make': 0.48091603053435117}, 'K. Korver - korveky01': {'3pt_after_miss': 100, '3pt_after_make': 74, 'odds_after_miss': 0.5747126436781609, 'odds_after_make': 0.42528735632183906}, 'C. Johnson - johnsca02': {'3pt_after_miss': 90, '3pt_after_make': 63, 'odds_after_miss': 0.5882352941176471, 'odds_after_make': 0.4117647058823529}, 'O. Anunoby - anunoog01': {'3pt_after_miss': 51, '3pt_after_make': 38, 'odds_after_miss': 0.5730337078651685, 'odds_after_make': 0.42696629213483145}, 'D. DiVincenzo - divindo01': {'3pt_after_miss': 53, '3pt_after_make': 47, 'odds_after_miss': 0.53, 'odds_after_make': 0.47}, 'H. Barnes - barneha02': {'3pt_after_miss': 43, '3pt_after_make': 35, 'odds_after_miss': 0.5512820512820513, 'odds_after_make': 0.44871794871794873}, \"R. O'Neale - onealro01\": {'3pt_after_miss': 85, '3pt_after_make': 61, 'odds_after_miss': 0.5821917808219178, 'odds_after_make': 0.4178082191780822}, 'J. Poole - poolejo01': {'3pt_after_miss': 82, '3pt_after_make': 46, 'odds_after_miss': 0.640625, 'odds_after_make': 0.359375}, 'M. Turner - turnemy01': {'3pt_after_miss': 50, '3pt_after_make': 40, 'odds_after_miss': 0.5555555555555556, 'odds_after_make': 0.4444444444444444}, 'G. Harris - harriga01': {'3pt_after_miss': 71, '3pt_after_make': 31, 'odds_after_miss': 0.696078431372549, 'odds_after_make': 0.30392156862745096}, 'T. Davis - daviste02': {'3pt_after_miss': 63, '3pt_after_make': 56, 'odds_after_miss': 0.5294117647058824, 'odds_after_make': 0.47058823529411764}, 'J. Green - greenja01': {'3pt_after_miss': 71, '3pt_after_make': 61, 'odds_after_miss': 0.5378787878787878, 'odds_after_make': 0.4621212121212121}, 'C. Sexton - sextoco01': {'3pt_after_miss': 33, '3pt_after_make': 36, 'odds_after_miss': 0.4782608695652174, 'odds_after_make': 0.5217391304347826}, 'G. Niang - niangge01': {'3pt_after_miss': 75, '3pt_after_make': 62, 'odds_after_miss': 0.5474452554744526, 'odds_after_make': 0.45255474452554745}, 'M. Brogdon - brogdma01': {'3pt_after_miss': 36, '3pt_after_make': 18, 'odds_after_miss': 0.6666666666666666, 'odds_after_make': 0.3333333333333333}, 'T. Snell - snellto01': {'3pt_after_miss': 87, '3pt_after_make': 62, 'odds_after_miss': 0.5838926174496645, 'odds_after_make': 0.4161073825503356}, 'C. Anthony - anthoca01': {'3pt_after_miss': 30, '3pt_after_make': 34, 'odds_after_miss': 0.46875, 'odds_after_make': 0.53125}, 'C. Reddish - reddica01': {'3pt_after_miss': 61, '3pt_after_make': 43, 'odds_after_miss': 0.5865384615384616, 'odds_after_make': 0.41346153846153844}, 'E. Bledsoe - bledser01': {'3pt_after_miss': 35, '3pt_after_make': 29, 'odds_after_miss': 0.546875, 'odds_after_make': 0.453125}, 'G. Hayward - haywago01': {'3pt_after_miss': 42, '3pt_after_make': 24, 'odds_after_miss': 0.6363636363636364, 'odds_after_make': 0.36363636363636365}, 'R. Westbrook - westbru01': {'3pt_after_miss': 29, '3pt_after_make': 18, 'odds_after_miss': 0.6170212765957447, 'odds_after_make': 0.3829787234042553}, 'T. Warren - warretj01': {'3pt_after_miss': 16, '3pt_after_make': 27, 'odds_after_miss': 0.37209302325581395, 'odds_after_make': 0.627906976744186}, 'K. Bazemore - bazemke01': {'3pt_after_miss': 56, '3pt_after_make': 41, 'odds_after_miss': 0.5773195876288659, 'odds_after_make': 0.422680412371134}, 'C. LeVert - leverca01': {'3pt_after_miss': 35, '3pt_after_make': 27, 'odds_after_miss': 0.5645161290322581, 'odds_after_make': 0.43548387096774194}, 'S. Napier - napiesh01': {'3pt_after_miss': 68, '3pt_after_make': 41, 'odds_after_miss': 0.6238532110091743, 'odds_after_make': 0.3761467889908257}, 'A. Simons - simonan01': {'3pt_after_miss': 52, '3pt_after_make': 41, 'odds_after_miss': 0.5591397849462365, 'odds_after_make': 0.44086021505376344}, 'D. Lee - leeda03': {'3pt_after_miss': 61, '3pt_after_make': 38, 'odds_after_miss': 0.6161616161616161, 'odds_after_make': 0.3838383838383838}, 'A. Gordon - gordoaa01': {'3pt_after_miss': 45, '3pt_after_make': 22, 'odds_after_miss': 0.6716417910447762, 'odds_after_make': 0.3283582089552239}, 'J. Green - greenje02': {'3pt_after_miss': 70, '3pt_after_make': 49, 'odds_after_miss': 0.5882352941176471, 'odds_after_make': 0.4117647058823529}, 'M. Porter - portemi01': {'3pt_after_miss': 54, '3pt_after_make': 37, 'odds_after_miss': 0.5934065934065934, 'odds_after_make': 0.4065934065934066}, 'D. Šarić - saricda01': {'3pt_after_miss': 44, '3pt_after_make': 36, 'odds_after_miss': 0.55, 'odds_after_make': 0.45}, 'J. Randle - randlju01': {'3pt_after_miss': 26, '3pt_after_make': 18, 'odds_after_miss': 0.5909090909090909, 'odds_after_make': 0.4090909090909091}, 'P. Washington - washipj01': {'3pt_after_miss': 50, '3pt_after_make': 43, 'odds_after_miss': 0.5376344086021505, 'odds_after_make': 0.46236559139784944}, 'A. Holiday - holidaa01': {'3pt_after_miss': 44, '3pt_after_make': 27, 'odds_after_miss': 0.6197183098591549, 'odds_after_make': 0.38028169014084506}, 'P. Beverley - beverpa01': {'3pt_after_miss': 74, '3pt_after_make': 49, 'odds_after_miss': 0.6016260162601627, 'odds_after_make': 0.3983739837398374}, 'S. Ibaka - ibakase01': {'3pt_after_miss': 33, '3pt_after_make': 36, 'odds_after_miss': 0.4782608695652174, 'odds_after_make': 0.5217391304347826}, 'T. Young - youngth01': {'3pt_after_miss': 43, '3pt_after_make': 33, 'odds_after_miss': 0.5657894736842105, 'odds_after_make': 0.4342105263157895}, 'J. Culver - culveja01': {'3pt_after_miss': 48, '3pt_after_make': 22, 'odds_after_miss': 0.6857142857142857, 'odds_after_make': 0.3142857142857143}, 'R. Gay - gayru01': {'3pt_after_miss': 30, '3pt_after_make': 28, 'odds_after_miss': 0.5172413793103449, 'odds_after_make': 0.4827586206896552}, 'M. Scott - scottmi01': {'3pt_after_miss': 72, '3pt_after_make': 37, 'odds_after_miss': 0.6605504587155964, 'odds_after_make': 0.3394495412844037}, 'D. Augustin - augusdj01': {'3pt_after_miss': 48, '3pt_after_make': 36, 'odds_after_miss': 0.5714285714285714, 'odds_after_make': 0.42857142857142855}, 'R. Rubio - rubiori01': {'3pt_after_miss': 35, '3pt_after_make': 23, 'odds_after_miss': 0.603448275862069, 'odds_after_make': 0.39655172413793105}, 'D. White - whitede01': {'3pt_after_miss': 47, '3pt_after_make': 36, 'odds_after_miss': 0.5662650602409639, 'odds_after_make': 0.43373493975903615}, 'M. Morris - morrimo01': {'3pt_after_miss': 30, '3pt_after_make': 19, 'odds_after_miss': 0.6122448979591837, 'odds_after_make': 0.3877551020408163}, 'T. Ariza - arizatr01': {'3pt_after_miss': 60, '3pt_after_make': 49, 'odds_after_miss': 0.5504587155963303, 'odds_after_make': 0.44954128440366975}, 'N. Melli - mellini01': {'3pt_after_miss': 69, '3pt_after_make': 43, 'odds_after_miss': 0.6160714285714286, 'odds_after_make': 0.38392857142857145}, 'M. Monk - monkma01': {'3pt_after_miss': 38, '3pt_after_make': 25, 'odds_after_miss': 0.6031746031746031, 'odds_after_make': 0.3968253968253968}, 'G. Hill - hillge01': {'3pt_after_miss': 37, '3pt_after_make': 41, 'odds_after_miss': 0.47435897435897434, 'odds_after_make': 0.5256410256410257}, 'V. Carter - cartevi01': {'3pt_after_miss': 73, '3pt_after_make': 42, 'odds_after_miss': 0.6347826086956522, 'odds_after_make': 0.3652173913043478}}, 2020: {}}\n"
     ]
    }
   ],
   "source": [
    "print(sensitivity_dict)"
   ],
   "metadata": {
    "collapsed": false,
    "ExecuteTime": {
     "end_time": "2024-02-10T11:49:27.747056500Z",
     "start_time": "2024-02-10T11:49:27.730516600Z"
    }
   },
   "id": "4049cdec8f190132",
   "execution_count": 78
  }
 ],
 "metadata": {
  "kernelspec": {
   "display_name": "Python 3",
   "language": "python",
   "name": "python3"
  },
  "language_info": {
   "codemirror_mode": {
    "name": "ipython",
    "version": 2
   },
   "file_extension": ".py",
   "mimetype": "text/x-python",
   "name": "python",
   "nbconvert_exporter": "python",
   "pygments_lexer": "ipython2",
   "version": "2.7.6"
  }
 },
 "nbformat": 4,
 "nbformat_minor": 5
}
